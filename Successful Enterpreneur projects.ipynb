{
 "cells": [
  {
   "cell_type": "code",
   "execution_count": 1,
   "id": "organizational-vampire",
   "metadata": {
    "_cell_guid": "b1076dfc-b9ad-4769-8c92-a6c4dae69d19",
    "_uuid": "8f2839f25d086af736a60e9eeb907d3b93b6e0e5",
    "execution": {
     "iopub.execute_input": "2021-05-29T05:17:17.419355Z",
     "iopub.status.busy": "2021-05-29T05:17:17.418715Z",
     "iopub.status.idle": "2021-05-29T05:17:17.441108Z",
     "shell.execute_reply": "2021-05-29T05:17:17.440218Z",
     "shell.execute_reply.started": "2021-05-29T05:06:42.635437Z"
    },
    "papermill": {
     "duration": 0.117006,
     "end_time": "2021-05-29T05:17:17.441337",
     "exception": false,
     "start_time": "2021-05-29T05:17:17.324331",
     "status": "completed"
    },
    "tags": []
   },
   "outputs": [],
   "source": [
    "# This Python 3 environment comes with many helpful analytics libraries installed\n",
    "\n",
    "import numpy as np # linear algebra\n",
    "import pandas as pd # data processing, CSV file I/O (e.g. pd.read_csv)"
   ]
  },
  {
   "cell_type": "code",
   "execution_count": 1,
   "id": "nuclear-vintage",
   "metadata": {
    "execution": {
     "iopub.execute_input": "2021-05-29T05:17:17.610159Z",
     "iopub.status.busy": "2021-05-29T05:17:17.609535Z",
     "iopub.status.idle": "2021-05-29T05:17:17.613964Z",
     "shell.execute_reply": "2021-05-29T05:17:17.613483Z",
     "shell.execute_reply.started": "2021-05-29T05:06:42.658258Z"
    },
    "papermill": {
     "duration": 0.088551,
     "end_time": "2021-05-29T05:17:17.614139",
     "exception": false,
     "start_time": "2021-05-29T05:17:17.525588",
     "status": "completed"
    },
    "tags": []
   },
   "outputs": [],
   "source": [
    "import warnings \n",
    "warnings.filterwarnings('ignore')"
   ]
  },
  {
   "cell_type": "markdown",
   "id": "turned-bouquet",
   "metadata": {
    "papermill": {
     "duration": 0.079542,
     "end_time": "2021-05-29T05:17:17.774290",
     "exception": false,
     "start_time": "2021-05-29T05:17:17.694748",
     "status": "completed"
    },
    "tags": []
   },
   "source": [
    "# Import the Libraries"
   ]
  },
  {
   "cell_type": "code",
   "execution_count": 2,
   "id": "sharing-converter",
   "metadata": {
    "execution": {
     "iopub.execute_input": "2021-05-29T05:17:17.947020Z",
     "iopub.status.busy": "2021-05-29T05:17:17.946333Z",
     "iopub.status.idle": "2021-05-29T05:17:19.227861Z",
     "shell.execute_reply": "2021-05-29T05:17:19.227334Z",
     "shell.execute_reply.started": "2021-05-29T05:06:42.665951Z"
    },
    "papermill": {
     "duration": 1.3725,
     "end_time": "2021-05-29T05:17:19.228044",
     "exception": false,
     "start_time": "2021-05-29T05:17:17.855544",
     "status": "completed"
    },
    "tags": []
   },
   "outputs": [
    {
     "name": "stdout",
     "output_type": "stream",
     "text": [
      "done\n"
     ]
    }
   ],
   "source": [
    "import pandas as pd\n",
    "import numpy as np\n",
    "import datetime\n",
    "import matplotlib.pyplot as plt\n",
    "import matplotlib\n",
    "import seaborn as sns\n",
    "import math\n",
    "import xgboost as xgb\n",
    "\n",
    "\n",
    "from scipy.stats import skew\n",
    "from scipy import stats\n",
    "\n",
    "from sklearn.preprocessing import OneHotEncoder, LabelEncoder, StandardScaler\n",
    "from sklearn.model_selection import train_test_split, GridSearchCV\n",
    "from sklearn.compose import ColumnTransformer\n",
    "from sklearn.pipeline import Pipeline\n",
    "from sklearn.impute import SimpleImputer\n",
    "from sklearn.ensemble import RandomForestClassifier\n",
    "from sklearn.metrics import accuracy_score, auc, classification_report, roc_curve, roc_auc_score, confusion_matrix\n",
    "from sklearn.linear_model import LogisticRegression\n",
    "from sklearn.tree import DecisionTreeClassifier\n",
    "from sklearn.svm import SVC\n",
    "from sklearn.neighbors import KNeighborsClassifier\n",
    "\n",
    "from datetime import datetime\n",
    "\n",
    "%matplotlib inline\n",
    "print('done')\n",
    "\n"
   ]
  },
  {
   "cell_type": "markdown",
   "id": "polar-integration",
   "metadata": {
    "papermill": {
     "duration": 0.080759,
     "end_time": "2021-05-29T05:17:19.392294",
     "exception": false,
     "start_time": "2021-05-29T05:17:19.311535",
     "status": "completed"
    },
    "tags": []
   },
   "source": [
    "# Import Data"
   ]
  },
  {
   "cell_type": "code",
   "execution_count": 3,
   "id": "criminal-polish",
   "metadata": {
    "execution": {
     "iopub.execute_input": "2021-05-29T05:17:19.590668Z",
     "iopub.status.busy": "2021-05-29T05:17:19.590044Z",
     "iopub.status.idle": "2021-05-29T05:17:21.651681Z",
     "shell.execute_reply": "2021-05-29T05:17:21.652180Z",
     "shell.execute_reply.started": "2021-05-29T05:06:44.232359Z"
    },
    "papermill": {
     "duration": 2.170861,
     "end_time": "2021-05-29T05:17:21.652405",
     "exception": false,
     "start_time": "2021-05-29T05:17:19.481544",
     "status": "completed"
    },
    "tags": []
   },
   "outputs": [],
   "source": [
    "train = pd.read_csv('Successful Enterpreneur projects/train.csv')\n",
    "test = pd.read_csv('Successful Enterpreneur projects/test.csv')"
   ]
  },
  {
   "cell_type": "markdown",
   "id": "endangered-theme",
   "metadata": {
    "papermill": {
     "duration": 0.082917,
     "end_time": "2021-05-29T05:17:21.818107",
     "exception": false,
     "start_time": "2021-05-29T05:17:21.735190",
     "status": "completed"
    },
    "tags": []
   },
   "source": [
    "# Explore the Data"
   ]
  },
  {
   "cell_type": "code",
   "execution_count": 4,
   "id": "copyrighted-petersburg",
   "metadata": {
    "execution": {
     "iopub.execute_input": "2021-05-29T05:17:21.991582Z",
     "iopub.status.busy": "2021-05-29T05:17:21.990896Z",
     "iopub.status.idle": "2021-05-29T05:17:22.015546Z",
     "shell.execute_reply": "2021-05-29T05:17:22.016056Z",
     "shell.execute_reply.started": "2021-05-29T05:06:46.413679Z"
    },
    "papermill": {
     "duration": 0.117072,
     "end_time": "2021-05-29T05:17:22.016225",
     "exception": false,
     "start_time": "2021-05-29T05:17:21.899153",
     "status": "completed"
    },
    "tags": []
   },
   "outputs": [
    {
     "data": {
      "text/html": [
       "<div>\n",
       "<style scoped>\n",
       "    .dataframe tbody tr th:only-of-type {\n",
       "        vertical-align: middle;\n",
       "    }\n",
       "\n",
       "    .dataframe tbody tr th {\n",
       "        vertical-align: top;\n",
       "    }\n",
       "\n",
       "    .dataframe thead th {\n",
       "        text-align: right;\n",
       "    }\n",
       "</style>\n",
       "<table border=\"1\" class=\"dataframe\">\n",
       "  <thead>\n",
       "    <tr style=\"text-align: right;\">\n",
       "      <th></th>\n",
       "      <th>project_id</th>\n",
       "      <th>name</th>\n",
       "      <th>desc</th>\n",
       "      <th>goal</th>\n",
       "      <th>keywords</th>\n",
       "      <th>disable_communication</th>\n",
       "      <th>country</th>\n",
       "      <th>currency</th>\n",
       "      <th>deadline</th>\n",
       "      <th>state_changed_at</th>\n",
       "      <th>created_at</th>\n",
       "      <th>launched_at</th>\n",
       "      <th>backers_count</th>\n",
       "      <th>final_status</th>\n",
       "    </tr>\n",
       "  </thead>\n",
       "  <tbody>\n",
       "    <tr>\n",
       "      <th>0</th>\n",
       "      <td>kkst1451568084</td>\n",
       "      <td>drawing for dollars</td>\n",
       "      <td>I like drawing pictures. and then i color them...</td>\n",
       "      <td>20.0</td>\n",
       "      <td>drawing-for-dollars</td>\n",
       "      <td>False</td>\n",
       "      <td>US</td>\n",
       "      <td>USD</td>\n",
       "      <td>1241333999</td>\n",
       "      <td>1241334017</td>\n",
       "      <td>1240600507</td>\n",
       "      <td>1240602723</td>\n",
       "      <td>3</td>\n",
       "      <td>1</td>\n",
       "    </tr>\n",
       "    <tr>\n",
       "      <th>1</th>\n",
       "      <td>kkst1474482071</td>\n",
       "      <td>Sponsor Dereck Blackburn (Lostwars) Artist in ...</td>\n",
       "      <td>I, Dereck Blackburn will be taking upon an inc...</td>\n",
       "      <td>300.0</td>\n",
       "      <td>sponsor-dereck-blackburn-lostwars-artist-in-re...</td>\n",
       "      <td>False</td>\n",
       "      <td>US</td>\n",
       "      <td>USD</td>\n",
       "      <td>1242429000</td>\n",
       "      <td>1242432018</td>\n",
       "      <td>1240960224</td>\n",
       "      <td>1240975592</td>\n",
       "      <td>2</td>\n",
       "      <td>0</td>\n",
       "    </tr>\n",
       "    <tr>\n",
       "      <th>2</th>\n",
       "      <td>kkst183622197</td>\n",
       "      <td>Mr. Squiggles</td>\n",
       "      <td>So I saw darkpony's successfully funded drawin...</td>\n",
       "      <td>30.0</td>\n",
       "      <td>mr-squiggles</td>\n",
       "      <td>False</td>\n",
       "      <td>US</td>\n",
       "      <td>USD</td>\n",
       "      <td>1243027560</td>\n",
       "      <td>1243027818</td>\n",
       "      <td>1242163613</td>\n",
       "      <td>1242164398</td>\n",
       "      <td>0</td>\n",
       "      <td>0</td>\n",
       "    </tr>\n",
       "    <tr>\n",
       "      <th>3</th>\n",
       "      <td>kkst597742710</td>\n",
       "      <td>Help me write my second novel.</td>\n",
       "      <td>Do your part to help out starving artists and ...</td>\n",
       "      <td>500.0</td>\n",
       "      <td>help-me-write-my-second-novel</td>\n",
       "      <td>False</td>\n",
       "      <td>US</td>\n",
       "      <td>USD</td>\n",
       "      <td>1243555740</td>\n",
       "      <td>1243556121</td>\n",
       "      <td>1240963795</td>\n",
       "      <td>1240966730</td>\n",
       "      <td>18</td>\n",
       "      <td>1</td>\n",
       "    </tr>\n",
       "    <tr>\n",
       "      <th>4</th>\n",
       "      <td>kkst1913131122</td>\n",
       "      <td>Support casting my sculpture in bronze</td>\n",
       "      <td>I'm nearing completion on a sculpture, current...</td>\n",
       "      <td>2000.0</td>\n",
       "      <td>support-casting-my-sculpture-in-bronze</td>\n",
       "      <td>False</td>\n",
       "      <td>US</td>\n",
       "      <td>USD</td>\n",
       "      <td>1243769880</td>\n",
       "      <td>1243770317</td>\n",
       "      <td>1241177914</td>\n",
       "      <td>1241180541</td>\n",
       "      <td>1</td>\n",
       "      <td>0</td>\n",
       "    </tr>\n",
       "  </tbody>\n",
       "</table>\n",
       "</div>"
      ],
      "text/plain": [
       "       project_id                                               name  \\\n",
       "0  kkst1451568084                                drawing for dollars   \n",
       "1  kkst1474482071  Sponsor Dereck Blackburn (Lostwars) Artist in ...   \n",
       "2   kkst183622197                                      Mr. Squiggles   \n",
       "3   kkst597742710                     Help me write my second novel.   \n",
       "4  kkst1913131122             Support casting my sculpture in bronze   \n",
       "\n",
       "                                                desc    goal  \\\n",
       "0  I like drawing pictures. and then i color them...    20.0   \n",
       "1  I, Dereck Blackburn will be taking upon an inc...   300.0   \n",
       "2  So I saw darkpony's successfully funded drawin...    30.0   \n",
       "3  Do your part to help out starving artists and ...   500.0   \n",
       "4  I'm nearing completion on a sculpture, current...  2000.0   \n",
       "\n",
       "                                            keywords  disable_communication  \\\n",
       "0                                drawing-for-dollars                  False   \n",
       "1  sponsor-dereck-blackburn-lostwars-artist-in-re...                  False   \n",
       "2                                       mr-squiggles                  False   \n",
       "3                      help-me-write-my-second-novel                  False   \n",
       "4             support-casting-my-sculpture-in-bronze                  False   \n",
       "\n",
       "  country currency    deadline  state_changed_at  created_at  launched_at  \\\n",
       "0      US      USD  1241333999        1241334017  1240600507   1240602723   \n",
       "1      US      USD  1242429000        1242432018  1240960224   1240975592   \n",
       "2      US      USD  1243027560        1243027818  1242163613   1242164398   \n",
       "3      US      USD  1243555740        1243556121  1240963795   1240966730   \n",
       "4      US      USD  1243769880        1243770317  1241177914   1241180541   \n",
       "\n",
       "   backers_count  final_status  \n",
       "0              3             1  \n",
       "1              2             0  \n",
       "2              0             0  \n",
       "3             18             1  \n",
       "4              1             0  "
      ]
     },
     "execution_count": 4,
     "metadata": {},
     "output_type": "execute_result"
    }
   ],
   "source": [
    "train.head(5)"
   ]
  },
  {
   "cell_type": "code",
   "execution_count": 5,
   "id": "geological-charger",
   "metadata": {
    "execution": {
     "iopub.execute_input": "2021-05-29T05:17:22.196332Z",
     "iopub.status.busy": "2021-05-29T05:17:22.195605Z",
     "iopub.status.idle": "2021-05-29T05:17:22.248468Z",
     "shell.execute_reply": "2021-05-29T05:17:22.247913Z",
     "shell.execute_reply.started": "2021-05-29T05:06:46.455229Z"
    },
    "papermill": {
     "duration": 0.148807,
     "end_time": "2021-05-29T05:17:22.248608",
     "exception": false,
     "start_time": "2021-05-29T05:17:22.099801",
     "status": "completed"
    },
    "tags": []
   },
   "outputs": [
    {
     "data": {
      "text/html": [
       "<div>\n",
       "<style scoped>\n",
       "    .dataframe tbody tr th:only-of-type {\n",
       "        vertical-align: middle;\n",
       "    }\n",
       "\n",
       "    .dataframe tbody tr th {\n",
       "        vertical-align: top;\n",
       "    }\n",
       "\n",
       "    .dataframe thead th {\n",
       "        text-align: right;\n",
       "    }\n",
       "</style>\n",
       "<table border=\"1\" class=\"dataframe\">\n",
       "  <thead>\n",
       "    <tr style=\"text-align: right;\">\n",
       "      <th></th>\n",
       "      <th>goal</th>\n",
       "      <th>deadline</th>\n",
       "      <th>state_changed_at</th>\n",
       "      <th>created_at</th>\n",
       "      <th>launched_at</th>\n",
       "      <th>backers_count</th>\n",
       "      <th>final_status</th>\n",
       "    </tr>\n",
       "  </thead>\n",
       "  <tbody>\n",
       "    <tr>\n",
       "      <th>count</th>\n",
       "      <td>1.081290e+05</td>\n",
       "      <td>1.081290e+05</td>\n",
       "      <td>1.081290e+05</td>\n",
       "      <td>1.081290e+05</td>\n",
       "      <td>1.081290e+05</td>\n",
       "      <td>108129.000000</td>\n",
       "      <td>108129.000000</td>\n",
       "    </tr>\n",
       "    <tr>\n",
       "      <th>mean</th>\n",
       "      <td>3.672623e+04</td>\n",
       "      <td>1.380248e+09</td>\n",
       "      <td>1.380153e+09</td>\n",
       "      <td>1.374037e+09</td>\n",
       "      <td>1.377299e+09</td>\n",
       "      <td>123.516661</td>\n",
       "      <td>0.319627</td>\n",
       "    </tr>\n",
       "    <tr>\n",
       "      <th>std</th>\n",
       "      <td>9.719027e+05</td>\n",
       "      <td>4.270222e+07</td>\n",
       "      <td>4.266402e+07</td>\n",
       "      <td>4.272310e+07</td>\n",
       "      <td>4.294421e+07</td>\n",
       "      <td>1176.745162</td>\n",
       "      <td>0.466334</td>\n",
       "    </tr>\n",
       "    <tr>\n",
       "      <th>min</th>\n",
       "      <td>1.000000e-02</td>\n",
       "      <td>1.241334e+09</td>\n",
       "      <td>1.241334e+09</td>\n",
       "      <td>1.240335e+09</td>\n",
       "      <td>1.240603e+09</td>\n",
       "      <td>0.000000</td>\n",
       "      <td>0.000000</td>\n",
       "    </tr>\n",
       "    <tr>\n",
       "      <th>25%</th>\n",
       "      <td>2.000000e+03</td>\n",
       "      <td>1.346732e+09</td>\n",
       "      <td>1.346695e+09</td>\n",
       "      <td>1.340058e+09</td>\n",
       "      <td>1.343917e+09</td>\n",
       "      <td>2.000000</td>\n",
       "      <td>0.000000</td>\n",
       "    </tr>\n",
       "    <tr>\n",
       "      <th>50%</th>\n",
       "      <td>5.000000e+03</td>\n",
       "      <td>1.393628e+09</td>\n",
       "      <td>1.393567e+09</td>\n",
       "      <td>1.384445e+09</td>\n",
       "      <td>1.390870e+09</td>\n",
       "      <td>17.000000</td>\n",
       "      <td>0.000000</td>\n",
       "    </tr>\n",
       "    <tr>\n",
       "      <th>75%</th>\n",
       "      <td>1.300000e+04</td>\n",
       "      <td>1.415719e+09</td>\n",
       "      <td>1.415548e+09</td>\n",
       "      <td>1.409623e+09</td>\n",
       "      <td>1.412807e+09</td>\n",
       "      <td>65.000000</td>\n",
       "      <td>1.000000</td>\n",
       "    </tr>\n",
       "    <tr>\n",
       "      <th>max</th>\n",
       "      <td>1.000000e+08</td>\n",
       "      <td>1.433097e+09</td>\n",
       "      <td>1.433097e+09</td>\n",
       "      <td>1.432325e+09</td>\n",
       "      <td>1.432658e+09</td>\n",
       "      <td>219382.000000</td>\n",
       "      <td>1.000000</td>\n",
       "    </tr>\n",
       "  </tbody>\n",
       "</table>\n",
       "</div>"
      ],
      "text/plain": [
       "               goal      deadline  state_changed_at    created_at  \\\n",
       "count  1.081290e+05  1.081290e+05      1.081290e+05  1.081290e+05   \n",
       "mean   3.672623e+04  1.380248e+09      1.380153e+09  1.374037e+09   \n",
       "std    9.719027e+05  4.270222e+07      4.266402e+07  4.272310e+07   \n",
       "min    1.000000e-02  1.241334e+09      1.241334e+09  1.240335e+09   \n",
       "25%    2.000000e+03  1.346732e+09      1.346695e+09  1.340058e+09   \n",
       "50%    5.000000e+03  1.393628e+09      1.393567e+09  1.384445e+09   \n",
       "75%    1.300000e+04  1.415719e+09      1.415548e+09  1.409623e+09   \n",
       "max    1.000000e+08  1.433097e+09      1.433097e+09  1.432325e+09   \n",
       "\n",
       "        launched_at  backers_count   final_status  \n",
       "count  1.081290e+05  108129.000000  108129.000000  \n",
       "mean   1.377299e+09     123.516661       0.319627  \n",
       "std    4.294421e+07    1176.745162       0.466334  \n",
       "min    1.240603e+09       0.000000       0.000000  \n",
       "25%    1.343917e+09       2.000000       0.000000  \n",
       "50%    1.390870e+09      17.000000       0.000000  \n",
       "75%    1.412807e+09      65.000000       1.000000  \n",
       "max    1.432658e+09  219382.000000       1.000000  "
      ]
     },
     "execution_count": 5,
     "metadata": {},
     "output_type": "execute_result"
    }
   ],
   "source": [
    "train.describe()"
   ]
  },
  {
   "cell_type": "code",
   "execution_count": 6,
   "id": "attempted-toolbox",
   "metadata": {},
   "outputs": [
    {
     "name": "stdout",
     "output_type": "stream",
     "text": [
      "<class 'pandas.core.frame.DataFrame'>\n",
      "RangeIndex: 108129 entries, 0 to 108128\n",
      "Data columns (total 14 columns):\n",
      " #   Column                 Non-Null Count   Dtype  \n",
      "---  ------                 --------------   -----  \n",
      " 0   project_id             108129 non-null  object \n",
      " 1   name                   108126 non-null  object \n",
      " 2   desc                   108120 non-null  object \n",
      " 3   goal                   108129 non-null  float64\n",
      " 4   keywords               108129 non-null  object \n",
      " 5   disable_communication  108129 non-null  bool   \n",
      " 6   country                108129 non-null  object \n",
      " 7   currency               108129 non-null  object \n",
      " 8   deadline               108129 non-null  int64  \n",
      " 9   state_changed_at       108129 non-null  int64  \n",
      " 10  created_at             108129 non-null  int64  \n",
      " 11  launched_at            108129 non-null  int64  \n",
      " 12  backers_count          108129 non-null  int64  \n",
      " 13  final_status           108129 non-null  int64  \n",
      "dtypes: bool(1), float64(1), int64(6), object(6)\n",
      "memory usage: 10.8+ MB\n"
     ]
    }
   ],
   "source": [
    "train.info()"
   ]
  },
  {
   "cell_type": "code",
   "execution_count": 7,
   "id": "geological-professional",
   "metadata": {},
   "outputs": [
    {
     "data": {
      "text/plain": [
       "Index(['project_id', 'name', 'desc', 'goal', 'keywords',\n",
       "       'disable_communication', 'country', 'currency', 'deadline',\n",
       "       'state_changed_at', 'created_at', 'launched_at', 'backers_count',\n",
       "       'final_status'],\n",
       "      dtype='object')"
      ]
     },
     "execution_count": 7,
     "metadata": {},
     "output_type": "execute_result"
    }
   ],
   "source": [
    "train.columns"
   ]
  },
  {
   "cell_type": "code",
   "execution_count": 8,
   "id": "electric-italian",
   "metadata": {
    "execution": {
     "iopub.execute_input": "2021-05-29T05:17:22.423165Z",
     "iopub.status.busy": "2021-05-29T05:17:22.422386Z",
     "iopub.status.idle": "2021-05-29T05:17:22.682209Z",
     "shell.execute_reply": "2021-05-29T05:17:22.681661Z",
     "shell.execute_reply.started": "2021-05-29T05:06:46.543482Z"
    },
    "papermill": {
     "duration": 0.351892,
     "end_time": "2021-05-29T05:17:22.682351",
     "exception": false,
     "start_time": "2021-05-29T05:17:22.330459",
     "status": "completed"
    },
    "tags": []
   },
   "outputs": [
    {
     "data": {
      "image/png": "[encoded data removed]",
      "text/plain": [
       "<Figure size 432x288 with 2 Axes>"
      ]
     },
     "metadata": {
      "needs_background": "light"
     },
     "output_type": "display_data"
    }
   ],
   "source": [
    "g = sns.heatmap(train[['final_status', 'goal', 'country', 'currency', 'backers_count', 'disable_communication']].corr(), cmap = 'coolwarm')"
   ]
  },
  {
   "cell_type": "code",
   "execution_count": 9,
   "id": "mexican-promise",
   "metadata": {
    "execution": {
     "iopub.execute_input": "2021-05-29T05:17:22.855699Z",
     "iopub.status.busy": "2021-05-29T05:17:22.854768Z",
     "iopub.status.idle": "2021-05-29T05:17:22.981749Z",
     "shell.execute_reply": "2021-05-29T05:17:22.981145Z",
     "shell.execute_reply.started": "2021-05-29T05:06:46.879520Z"
    },
    "papermill": {
     "duration": 0.216314,
     "end_time": "2021-05-29T05:17:22.981879",
     "exception": false,
     "start_time": "2021-05-29T05:17:22.765565",
     "status": "completed"
    },
    "tags": []
   },
   "outputs": [
    {
     "data": {
      "text/plain": [
       "0    73568\n",
       "1    34561\n",
       "Name: final_status, dtype: int64"
      ]
     },
     "execution_count": 9,
     "metadata": {},
     "output_type": "execute_result"
    },
    {
     "data": {
      "image/png": "[encoded data removed]",
      "text/plain": [
       "<Figure size 1440x72 with 1 Axes>"
      ]
     },
     "metadata": {
      "needs_background": "light"
     },
     "output_type": "display_data"
    }
   ],
   "source": [
    "fig = plt.figure(figsize=(20,1))\n",
    "sns.countplot(y='final_status', data=train)\n",
    "train.final_status.value_counts()"
   ]
  },
  {
   "cell_type": "code",
   "execution_count": 10,
   "id": "conservative-penny",
   "metadata": {
    "execution": {
     "iopub.execute_input": "2021-05-29T05:17:23.211413Z",
     "iopub.status.busy": "2021-05-29T05:17:23.153578Z",
     "iopub.status.idle": "2021-05-29T05:17:23.220568Z",
     "shell.execute_reply": "2021-05-29T05:17:23.221035Z",
     "shell.execute_reply.started": "2021-05-29T05:06:47.032100Z"
    },
    "papermill": {
     "duration": 0.155265,
     "end_time": "2021-05-29T05:17:23.221216",
     "exception": false,
     "start_time": "2021-05-29T05:17:23.065951",
     "status": "completed"
    },
    "tags": []
   },
   "outputs": [
    {
     "data": {
      "text/plain": [
       "project_id               0\n",
       "name                     3\n",
       "desc                     9\n",
       "goal                     0\n",
       "keywords                 0\n",
       "disable_communication    0\n",
       "country                  0\n",
       "currency                 0\n",
       "deadline                 0\n",
       "state_changed_at         0\n",
       "created_at               0\n",
       "launched_at              0\n",
       "backers_count            0\n",
       "final_status             0\n",
       "dtype: int64"
      ]
     },
     "execution_count": 10,
     "metadata": {},
     "output_type": "execute_result"
    }
   ],
   "source": [
    "# Missing Values\n",
    "train.isnull().sum()"
   ]
  },
  {
   "cell_type": "markdown",
   "id": "sunrise-recycling",
   "metadata": {
    "papermill": {
     "duration": 0.084041,
     "end_time": "2021-05-29T05:17:23.390294",
     "exception": false,
     "start_time": "2021-05-29T05:17:23.306253",
     "status": "completed"
    },
    "tags": []
   },
   "source": [
    "### Goal vs Final Status"
   ]
  },
  {
   "cell_type": "code",
   "execution_count": 11,
   "id": "inner-nigeria",
   "metadata": {
    "execution": {
     "iopub.execute_input": "2021-05-29T05:17:23.565449Z",
     "iopub.status.busy": "2021-05-29T05:17:23.564802Z",
     "iopub.status.idle": "2021-05-29T05:17:23.567441Z",
     "shell.execute_reply": "2021-05-29T05:17:23.567876Z",
     "shell.execute_reply.started": "2021-05-29T05:06:47.112414Z"
    },
    "papermill": {
     "duration": 0.093169,
     "end_time": "2021-05-29T05:17:23.568064",
     "exception": false,
     "start_time": "2021-05-29T05:17:23.474895",
     "status": "completed"
    },
    "tags": []
   },
   "outputs": [],
   "source": [
    "def comparing(train, variable1, variable2):\n",
    "    print(train[[variable1, variable2]][train[variable2].isnull() == False].groupby([variable1], as_index=False).mean().sort_values(by=variable2, ascending=False))\n",
    "    g = sns.FacetGrid(train, col=variable2).map(sns.distplot, variable1)"
   ]
  },
  {
   "cell_type": "code",
   "execution_count": 12,
   "id": "multiple-joshua",
   "metadata": {
    "execution": {
     "iopub.execute_input": "2021-05-29T05:17:23.742017Z",
     "iopub.status.busy": "2021-05-29T05:17:23.741032Z",
     "iopub.status.idle": "2021-05-29T05:17:23.744311Z",
     "shell.execute_reply": "2021-05-29T05:17:23.743664Z",
     "shell.execute_reply.started": "2021-05-29T05:06:47.122224Z"
    },
    "papermill": {
     "duration": 0.092554,
     "end_time": "2021-05-29T05:17:23.744452",
     "exception": false,
     "start_time": "2021-05-29T05:17:23.651898",
     "status": "completed"
    },
    "tags": []
   },
   "outputs": [],
   "source": [
    "def counting_values(train, variable1, variable2):\n",
    "    return train[[variable1, variable2]][train[variable2].isnull()==False].groupby([variable1], as_index=False).mean().sort_values(by=variable2, ascending=False)"
   ]
  },
  {
   "cell_type": "code",
   "execution_count": 13,
   "id": "maritime-planner",
   "metadata": {
    "execution": {
     "iopub.execute_input": "2021-05-29T05:17:23.921630Z",
     "iopub.status.busy": "2021-05-29T05:17:23.921002Z",
     "iopub.status.idle": "2021-05-29T05:17:25.231544Z",
     "shell.execute_reply": "2021-05-29T05:17:25.232008Z",
     "shell.execute_reply.started": "2021-05-29T05:06:47.134436Z"
    },
    "papermill": {
     "duration": 1.401624,
     "end_time": "2021-05-29T05:17:25.232183",
     "exception": false,
     "start_time": "2021-05-29T05:17:23.830559",
     "status": "completed"
    },
    "tags": []
   },
   "outputs": [
    {
     "name": "stdout",
     "output_type": "stream",
     "text": [
      "              goal  final_status\n",
      "0     1.000000e-02           1.0\n",
      "843   2.253000e+03           1.0\n",
      "850   2.280000e+03           1.0\n",
      "856   2.325000e+03           1.0\n",
      "857   2.333000e+03           1.0\n",
      "...            ...           ...\n",
      "1689  7.145000e+03           0.0\n",
      "1690  7.174000e+03           0.0\n",
      "1693  7.219000e+03           0.0\n",
      "1694  7.230000e+03           0.0\n",
      "3566  1.000000e+08           0.0\n",
      "\n",
      "[3567 rows x 2 columns]\n"
     ]
    },
    {
     "data": {
      "image/png": "[encoded data removed]",
      "text/plain": [
       "<Figure size 432x216 with 2 Axes>"
      ]
     },
     "metadata": {
      "needs_background": "light"
     },
     "output_type": "display_data"
    }
   ],
   "source": [
    "comparing(train, 'goal', 'final_status')"
   ]
  },
  {
   "cell_type": "code",
   "execution_count": 14,
   "id": "married-vessel",
   "metadata": {
    "execution": {
     "iopub.execute_input": "2021-05-29T05:17:25.408026Z",
     "iopub.status.busy": "2021-05-29T05:17:25.407170Z",
     "iopub.status.idle": "2021-05-29T05:17:25.415007Z",
     "shell.execute_reply": "2021-05-29T05:17:25.414390Z",
     "shell.execute_reply.started": "2021-05-29T05:06:48.651001Z"
    },
    "papermill": {
     "duration": 0.09729,
     "end_time": "2021-05-29T05:17:25.415146",
     "exception": false,
     "start_time": "2021-05-29T05:17:25.317856",
     "status": "completed"
    },
    "tags": []
   },
   "outputs": [],
   "source": [
    "train['log_goal'] = np.log10(train['goal'])"
   ]
  },
  {
   "cell_type": "code",
   "execution_count": 15,
   "id": "average-limit",
   "metadata": {
    "execution": {
     "iopub.execute_input": "2021-05-29T05:17:25.602947Z",
     "iopub.status.busy": "2021-05-29T05:17:25.602240Z",
     "iopub.status.idle": "2021-05-29T05:17:25.606657Z",
     "shell.execute_reply": "2021-05-29T05:17:25.606171Z",
     "shell.execute_reply.started": "2021-05-29T05:06:48.663554Z"
    },
    "papermill": {
     "duration": 0.106109,
     "end_time": "2021-05-29T05:17:25.606794",
     "exception": false,
     "start_time": "2021-05-29T05:17:25.500685",
     "status": "completed"
    },
    "tags": []
   },
   "outputs": [
    {
     "data": {
      "text/html": [
       "<div>\n",
       "<style scoped>\n",
       "    .dataframe tbody tr th:only-of-type {\n",
       "        vertical-align: middle;\n",
       "    }\n",
       "\n",
       "    .dataframe tbody tr th {\n",
       "        vertical-align: top;\n",
       "    }\n",
       "\n",
       "    .dataframe thead th {\n",
       "        text-align: right;\n",
       "    }\n",
       "</style>\n",
       "<table border=\"1\" class=\"dataframe\">\n",
       "  <thead>\n",
       "    <tr style=\"text-align: right;\">\n",
       "      <th></th>\n",
       "      <th>project_id</th>\n",
       "      <th>name</th>\n",
       "      <th>desc</th>\n",
       "      <th>goal</th>\n",
       "      <th>keywords</th>\n",
       "      <th>disable_communication</th>\n",
       "      <th>country</th>\n",
       "      <th>currency</th>\n",
       "      <th>deadline</th>\n",
       "      <th>state_changed_at</th>\n",
       "      <th>created_at</th>\n",
       "      <th>launched_at</th>\n",
       "      <th>backers_count</th>\n",
       "      <th>final_status</th>\n",
       "      <th>log_goal</th>\n",
       "    </tr>\n",
       "  </thead>\n",
       "  <tbody>\n",
       "    <tr>\n",
       "      <th>0</th>\n",
       "      <td>kkst1451568084</td>\n",
       "      <td>drawing for dollars</td>\n",
       "      <td>I like drawing pictures. and then i color them...</td>\n",
       "      <td>20.0</td>\n",
       "      <td>drawing-for-dollars</td>\n",
       "      <td>False</td>\n",
       "      <td>US</td>\n",
       "      <td>USD</td>\n",
       "      <td>1241333999</td>\n",
       "      <td>1241334017</td>\n",
       "      <td>1240600507</td>\n",
       "      <td>1240602723</td>\n",
       "      <td>3</td>\n",
       "      <td>1</td>\n",
       "      <td>1.301030</td>\n",
       "    </tr>\n",
       "    <tr>\n",
       "      <th>1</th>\n",
       "      <td>kkst1474482071</td>\n",
       "      <td>Sponsor Dereck Blackburn (Lostwars) Artist in ...</td>\n",
       "      <td>I, Dereck Blackburn will be taking upon an inc...</td>\n",
       "      <td>300.0</td>\n",
       "      <td>sponsor-dereck-blackburn-lostwars-artist-in-re...</td>\n",
       "      <td>False</td>\n",
       "      <td>US</td>\n",
       "      <td>USD</td>\n",
       "      <td>1242429000</td>\n",
       "      <td>1242432018</td>\n",
       "      <td>1240960224</td>\n",
       "      <td>1240975592</td>\n",
       "      <td>2</td>\n",
       "      <td>0</td>\n",
       "      <td>2.477121</td>\n",
       "    </tr>\n",
       "    <tr>\n",
       "      <th>2</th>\n",
       "      <td>kkst183622197</td>\n",
       "      <td>Mr. Squiggles</td>\n",
       "      <td>So I saw darkpony's successfully funded drawin...</td>\n",
       "      <td>30.0</td>\n",
       "      <td>mr-squiggles</td>\n",
       "      <td>False</td>\n",
       "      <td>US</td>\n",
       "      <td>USD</td>\n",
       "      <td>1243027560</td>\n",
       "      <td>1243027818</td>\n",
       "      <td>1242163613</td>\n",
       "      <td>1242164398</td>\n",
       "      <td>0</td>\n",
       "      <td>0</td>\n",
       "      <td>1.477121</td>\n",
       "    </tr>\n",
       "    <tr>\n",
       "      <th>3</th>\n",
       "      <td>kkst597742710</td>\n",
       "      <td>Help me write my second novel.</td>\n",
       "      <td>Do your part to help out starving artists and ...</td>\n",
       "      <td>500.0</td>\n",
       "      <td>help-me-write-my-second-novel</td>\n",
       "      <td>False</td>\n",
       "      <td>US</td>\n",
       "      <td>USD</td>\n",
       "      <td>1243555740</td>\n",
       "      <td>1243556121</td>\n",
       "      <td>1240963795</td>\n",
       "      <td>1240966730</td>\n",
       "      <td>18</td>\n",
       "      <td>1</td>\n",
       "      <td>2.698970</td>\n",
       "    </tr>\n",
       "    <tr>\n",
       "      <th>4</th>\n",
       "      <td>kkst1913131122</td>\n",
       "      <td>Support casting my sculpture in bronze</td>\n",
       "      <td>I'm nearing completion on a sculpture, current...</td>\n",
       "      <td>2000.0</td>\n",
       "      <td>support-casting-my-sculpture-in-bronze</td>\n",
       "      <td>False</td>\n",
       "      <td>US</td>\n",
       "      <td>USD</td>\n",
       "      <td>1243769880</td>\n",
       "      <td>1243770317</td>\n",
       "      <td>1241177914</td>\n",
       "      <td>1241180541</td>\n",
       "      <td>1</td>\n",
       "      <td>0</td>\n",
       "      <td>3.301030</td>\n",
       "    </tr>\n",
       "  </tbody>\n",
       "</table>\n",
       "</div>"
      ],
      "text/plain": [
       "       project_id                                               name  \\\n",
       "0  kkst1451568084                                drawing for dollars   \n",
       "1  kkst1474482071  Sponsor Dereck Blackburn (Lostwars) Artist in ...   \n",
       "2   kkst183622197                                      Mr. Squiggles   \n",
       "3   kkst597742710                     Help me write my second novel.   \n",
       "4  kkst1913131122             Support casting my sculpture in bronze   \n",
       "\n",
       "                                                desc    goal  \\\n",
       "0  I like drawing pictures. and then i color them...    20.0   \n",
       "1  I, Dereck Blackburn will be taking upon an inc...   300.0   \n",
       "2  So I saw darkpony's successfully funded drawin...    30.0   \n",
       "3  Do your part to help out starving artists and ...   500.0   \n",
       "4  I'm nearing completion on a sculpture, current...  2000.0   \n",
       "\n",
       "                                            keywords  disable_communication  \\\n",
       "0                                drawing-for-dollars                  False   \n",
       "1  sponsor-dereck-blackburn-lostwars-artist-in-re...                  False   \n",
       "2                                       mr-squiggles                  False   \n",
       "3                      help-me-write-my-second-novel                  False   \n",
       "4             support-casting-my-sculpture-in-bronze                  False   \n",
       "\n",
       "  country currency    deadline  state_changed_at  created_at  launched_at  \\\n",
       "0      US      USD  1241333999        1241334017  1240600507   1240602723   \n",
       "1      US      USD  1242429000        1242432018  1240960224   1240975592   \n",
       "2      US      USD  1243027560        1243027818  1242163613   1242164398   \n",
       "3      US      USD  1243555740        1243556121  1240963795   1240966730   \n",
       "4      US      USD  1243769880        1243770317  1241177914   1241180541   \n",
       "\n",
       "   backers_count  final_status  log_goal  \n",
       "0              3             1  1.301030  \n",
       "1              2             0  2.477121  \n",
       "2              0             0  1.477121  \n",
       "3             18             1  2.698970  \n",
       "4              1             0  3.301030  "
      ]
     },
     "execution_count": 15,
     "metadata": {},
     "output_type": "execute_result"
    }
   ],
   "source": [
    "train.head(5)"
   ]
  },
  {
   "cell_type": "markdown",
   "id": "female-corrections",
   "metadata": {
    "papermill": {
     "duration": 0.085591,
     "end_time": "2021-05-29T05:17:25.778362",
     "exception": false,
     "start_time": "2021-05-29T05:17:25.692771",
     "status": "completed"
    },
    "tags": []
   },
   "source": [
    "### log_goal vs Final Status"
   ]
  },
  {
   "cell_type": "code",
   "execution_count": 16,
   "id": "thousand-glossary",
   "metadata": {
    "execution": {
     "iopub.execute_input": "2021-05-29T05:17:25.956594Z",
     "iopub.status.busy": "2021-05-29T05:17:25.955582Z",
     "iopub.status.idle": "2021-05-29T05:17:27.320114Z",
     "shell.execute_reply": "2021-05-29T05:17:27.319593Z",
     "shell.execute_reply.started": "2021-05-29T05:06:48.692872Z"
    },
    "papermill": {
     "duration": 1.454501,
     "end_time": "2021-05-29T05:17:27.320257",
     "exception": false,
     "start_time": "2021-05-29T05:17:25.865756",
     "status": "completed"
    },
    "tags": []
   },
   "outputs": [
    {
     "name": "stdout",
     "output_type": "stream",
     "text": [
      "      log_goal  final_status\n",
      "0    -2.000000           1.0\n",
      "843   3.352761           1.0\n",
      "850   3.357935           1.0\n",
      "856   3.366423           1.0\n",
      "857   3.367915           1.0\n",
      "...        ...           ...\n",
      "1689  3.854002           0.0\n",
      "1690  3.855761           0.0\n",
      "1693  3.858477           0.0\n",
      "1694  3.859138           0.0\n",
      "3566  8.000000           0.0\n",
      "\n",
      "[3567 rows x 2 columns]\n"
     ]
    },
    {
     "data": {
      "image/png": "[encoded data removed]",
      "text/plain": [
       "<Figure size 432x216 with 2 Axes>"
      ]
     },
     "metadata": {
      "needs_background": "light"
     },
     "output_type": "display_data"
    }
   ],
   "source": [
    "comparing(train, 'log_goal', 'final_status')"
   ]
  },
  {
   "cell_type": "code",
   "execution_count": 17,
   "id": "stupid-negative",
   "metadata": {
    "execution": {
     "iopub.execute_input": "2021-05-29T05:17:27.526559Z",
     "iopub.status.busy": "2021-05-29T05:17:27.525899Z",
     "iopub.status.idle": "2021-05-29T05:17:28.218040Z",
     "shell.execute_reply": "2021-05-29T05:17:28.217429Z",
     "shell.execute_reply.started": "2021-05-29T05:06:50.218753Z"
    },
    "papermill": {
     "duration": 0.811578,
     "end_time": "2021-05-29T05:17:28.218182",
     "exception": false,
     "start_time": "2021-05-29T05:17:27.406604",
     "status": "completed"
    },
    "tags": []
   },
   "outputs": [
    {
     "data": {
      "image/png": "[encoded data removed]",
      "text/plain": [
       "<Figure size 720x360 with 1 Axes>"
      ]
     },
     "metadata": {
      "needs_background": "light"
     },
     "output_type": "display_data"
    }
   ],
   "source": [
    "fig, axs = plt.subplots(figsize=(10,5))\n",
    "sns.histplot(data=train, x='log_goal').set_title('Log_Goal Distribution', fontdict={'fontsize':20\n",
    "                                                                                   , 'fontweight':'bold'});\n",
    "sns.despine()"
   ]
  },
  {
   "cell_type": "code",
   "execution_count": 18,
   "id": "floppy-jewel",
   "metadata": {
    "execution": {
     "iopub.execute_input": "2021-05-29T05:17:28.400020Z",
     "iopub.status.busy": "2021-05-29T05:17:28.399378Z",
     "iopub.status.idle": "2021-05-29T05:17:29.486415Z",
     "shell.execute_reply": "2021-05-29T05:17:29.486886Z",
     "shell.execute_reply.started": "2021-05-29T05:06:50.983104Z"
    },
    "papermill": {
     "duration": 1.180926,
     "end_time": "2021-05-29T05:17:29.487078",
     "exception": false,
     "start_time": "2021-05-29T05:17:28.306152",
     "status": "completed"
    },
    "tags": []
   },
   "outputs": [
    {
     "data": {
      "text/plain": [
       "<seaborn.axisgrid.FacetGrid at 0x7f1551a820d0>"
      ]
     },
     "execution_count": 18,
     "metadata": {},
     "output_type": "execute_result"
    },
    {
     "data": {
      "image/png": "[encoded data removed]",
      "text/plain": [
       "<Figure size 713.625x216 with 1 Axes>"
      ]
     },
     "metadata": {
      "needs_background": "light"
     },
     "output_type": "display_data"
    }
   ],
   "source": [
    "facet = sns.FacetGrid(train, hue='final_status', aspect=3)\n",
    "facet.map(sns.kdeplot, 'log_goal', shade=True)\n",
    "facet.set(xlim=(0, train['log_goal'].max()))\n",
    "facet.add_legend()"
   ]
  },
  {
   "cell_type": "code",
   "execution_count": 19,
   "id": "imported-surge",
   "metadata": {
    "execution": {
     "iopub.execute_input": "2021-05-29T05:17:29.671745Z",
     "iopub.status.busy": "2021-05-29T05:17:29.671142Z",
     "iopub.status.idle": "2021-05-29T05:17:30.248846Z",
     "shell.execute_reply": "2021-05-29T05:17:30.247866Z",
     "shell.execute_reply.started": "2021-05-29T05:06:52.193445Z"
    },
    "papermill": {
     "duration": 0.673036,
     "end_time": "2021-05-29T05:17:30.249017",
     "exception": false,
     "start_time": "2021-05-29T05:17:29.575981",
     "status": "completed"
    },
    "tags": []
   },
   "outputs": [
    {
     "data": {
      "text/plain": [
       "<seaborn.axisgrid.FacetGrid at 0x7f15566a0090>"
      ]
     },
     "execution_count": 19,
     "metadata": {},
     "output_type": "execute_result"
    },
    {
     "data": {
      "image/png": "[encoded data removed]",
      "text/plain": [
       "<Figure size 720x360 with 2 Axes>"
      ]
     },
     "metadata": {
      "needs_background": "light"
     },
     "output_type": "display_data"
    }
   ],
   "source": [
    "sns.lmplot(x = 'log_goal', y = 'backers_count', col ='final_status', data = train, fit_reg = False)"
   ]
  },
  {
   "cell_type": "code",
   "execution_count": 20,
   "id": "spanish-validity",
   "metadata": {
    "execution": {
     "iopub.execute_input": "2021-05-29T05:17:30.437875Z",
     "iopub.status.busy": "2021-05-29T05:17:30.437026Z",
     "iopub.status.idle": "2021-05-29T05:17:30.890530Z",
     "shell.execute_reply": "2021-05-29T05:17:30.890974Z",
     "shell.execute_reply.started": "2021-05-29T05:06:52.837463Z"
    },
    "papermill": {
     "duration": 0.551574,
     "end_time": "2021-05-29T05:17:30.891166",
     "exception": false,
     "start_time": "2021-05-29T05:17:30.339592",
     "status": "completed"
    },
    "tags": []
   },
   "outputs": [
    {
     "data": {
      "text/plain": [
       "Text(0.5, 1.0, 'Unsuccesful Kickstarters rarely find backers with goals above $1 Million')"
      ]
     },
     "execution_count": 20,
     "metadata": {},
     "output_type": "execute_result"
    },
    {
     "data": {
      "image/png": "[encoded data removed]",
      "text/plain": [
       "<Figure size 360x360 with 1 Axes>"
      ]
     },
     "metadata": {
      "needs_background": "light"
     },
     "output_type": "display_data"
    }
   ],
   "source": [
    "sns.lmplot(x = 'log_goal', y = 'backers_count', data = train[train['final_status'] == 0], fit_reg = False)\n",
    "plt.title('Unsuccesful Kickstarters rarely find backers with goals above $1 Million')"
   ]
  },
  {
   "cell_type": "code",
   "execution_count": 21,
   "id": "arbitrary-island",
   "metadata": {
    "execution": {
     "iopub.execute_input": "2021-05-29T05:17:31.081183Z",
     "iopub.status.busy": "2021-05-29T05:17:31.080513Z",
     "iopub.status.idle": "2021-05-29T05:17:31.396457Z",
     "shell.execute_reply": "2021-05-29T05:17:31.395927Z",
     "shell.execute_reply.started": "2021-05-29T05:06:53.266150Z"
    },
    "papermill": {
     "duration": 0.413233,
     "end_time": "2021-05-29T05:17:31.396596",
     "exception": false,
     "start_time": "2021-05-29T05:17:30.983363",
     "status": "completed"
    },
    "tags": []
   },
   "outputs": [
    {
     "data": {
      "text/plain": [
       "Text(0.5, 1.0, 'Successfull Kickstarters')"
      ]
     },
     "execution_count": 21,
     "metadata": {},
     "output_type": "execute_result"
    },
    {
     "data": {
      "image/png": "[encoded data removed]",
      "text/plain": [
       "<Figure size 360x360 with 1 Axes>"
      ]
     },
     "metadata": {
      "needs_background": "light"
     },
     "output_type": "display_data"
    }
   ],
   "source": [
    "sns.lmplot(x = 'log_goal', y = 'backers_count', data = train[train['final_status'] == 1], fit_reg = False)\n",
    "plt.title('Successfull Kickstarters')"
   ]
  },
  {
   "cell_type": "code",
   "execution_count": 22,
   "id": "burning-invasion",
   "metadata": {
    "execution": {
     "iopub.execute_input": "2021-05-29T05:17:31.585973Z",
     "iopub.status.busy": "2021-05-29T05:17:31.585349Z",
     "iopub.status.idle": "2021-05-29T05:17:31.591248Z",
     "shell.execute_reply": "2021-05-29T05:17:31.590748Z",
     "shell.execute_reply.started": "2021-05-29T05:06:53.566499Z"
    },
    "papermill": {
     "duration": 0.102842,
     "end_time": "2021-05-29T05:17:31.591398",
     "exception": false,
     "start_time": "2021-05-29T05:17:31.488556",
     "status": "completed"
    },
    "tags": []
   },
   "outputs": [
    {
     "data": {
      "text/plain": [
       "(232, 15)"
      ]
     },
     "execution_count": 22,
     "metadata": {},
     "output_type": "execute_result"
    }
   ],
   "source": [
    "#  Projects with goal over $ 1Million\n",
    "train[train['goal']>1000000].shape "
   ]
  },
  {
   "cell_type": "code",
   "execution_count": 23,
   "id": "chicken-livestock",
   "metadata": {
    "execution": {
     "iopub.execute_input": "2021-05-29T05:17:31.778964Z",
     "iopub.status.busy": "2021-05-29T05:17:31.778352Z",
     "iopub.status.idle": "2021-05-29T05:17:31.786095Z",
     "shell.execute_reply": "2021-05-29T05:17:31.786528Z",
     "shell.execute_reply.started": "2021-05-29T05:06:53.578431Z"
    },
    "papermill": {
     "duration": 0.103036,
     "end_time": "2021-05-29T05:17:31.786695",
     "exception": false,
     "start_time": "2021-05-29T05:17:31.683659",
     "status": "completed"
    },
    "tags": []
   },
   "outputs": [
    {
     "data": {
      "text/plain": [
       "0    228\n",
       "1      4\n",
       "Name: final_status, dtype: int64"
      ]
     },
     "execution_count": 23,
     "metadata": {},
     "output_type": "execute_result"
    }
   ],
   "source": [
    "# Funded projects with over $1Million goal\n",
    "train[train['goal']>1000000]['final_status'].value_counts() "
   ]
  },
  {
   "cell_type": "code",
   "execution_count": 24,
   "id": "alleged-stocks",
   "metadata": {
    "execution": {
     "iopub.execute_input": "2021-05-29T05:17:31.975187Z",
     "iopub.status.busy": "2021-05-29T05:17:31.974580Z",
     "iopub.status.idle": "2021-05-29T05:17:31.979098Z",
     "shell.execute_reply": "2021-05-29T05:17:31.979594Z",
     "shell.execute_reply.started": "2021-05-29T05:06:53.592027Z"
    },
    "papermill": {
     "duration": 0.099888,
     "end_time": "2021-05-29T05:17:31.979745",
     "exception": false,
     "start_time": "2021-05-29T05:17:31.879857",
     "status": "completed"
    },
    "tags": []
   },
   "outputs": [
    {
     "data": {
      "text/plain": [
       "1.7241379310344827"
      ]
     },
     "execution_count": 24,
     "metadata": {},
     "output_type": "execute_result"
    }
   ],
   "source": [
    "#percent of projects funded with goal over $1M\n",
    "percent_over_1M = (4/232)*100\n",
    "percent_over_1M"
   ]
  },
  {
   "cell_type": "code",
   "execution_count": 25,
   "id": "apart-mouse",
   "metadata": {
    "execution": {
     "iopub.execute_input": "2021-05-29T05:17:32.169546Z",
     "iopub.status.busy": "2021-05-29T05:17:32.168903Z",
     "iopub.status.idle": "2021-05-29T05:17:32.193346Z",
     "shell.execute_reply": "2021-05-29T05:17:32.193858Z",
     "shell.execute_reply.started": "2021-05-29T05:06:53.600086Z"
    },
    "papermill": {
     "duration": 0.120822,
     "end_time": "2021-05-29T05:17:32.194050",
     "exception": false,
     "start_time": "2021-05-29T05:17:32.073228",
     "status": "completed"
    },
    "tags": []
   },
   "outputs": [
    {
     "data": {
      "text/plain": [
       "(107811, 15)"
      ]
     },
     "execution_count": 25,
     "metadata": {},
     "output_type": "execute_result"
    }
   ],
   "source": [
    "#  Projects with goal < $ 1Million\n",
    "train[train['goal']<1000000].shape "
   ]
  },
  {
   "cell_type": "code",
   "execution_count": 26,
   "id": "voluntary-hospital",
   "metadata": {
    "execution": {
     "iopub.execute_input": "2021-05-29T05:17:32.384404Z",
     "iopub.status.busy": "2021-05-29T05:17:32.383786Z",
     "iopub.status.idle": "2021-05-29T05:17:32.407590Z",
     "shell.execute_reply": "2021-05-29T05:17:32.408182Z",
     "shell.execute_reply.started": "2021-05-29T05:06:53.645261Z"
    },
    "papermill": {
     "duration": 0.12091,
     "end_time": "2021-05-29T05:17:32.408362",
     "exception": false,
     "start_time": "2021-05-29T05:17:32.287452",
     "status": "completed"
    },
    "tags": []
   },
   "outputs": [
    {
     "data": {
      "text/plain": [
       "0    73258\n",
       "1    34553\n",
       "Name: final_status, dtype: int64"
      ]
     },
     "execution_count": 26,
     "metadata": {},
     "output_type": "execute_result"
    }
   ],
   "source": [
    "# Funded projects with < $1Million goal\n",
    "train[train['goal']<1000000]['final_status'].value_counts() "
   ]
  },
  {
   "cell_type": "code",
   "execution_count": 27,
   "id": "mental-tennis",
   "metadata": {
    "execution": {
     "iopub.execute_input": "2021-05-29T05:17:32.599596Z",
     "iopub.status.busy": "2021-05-29T05:17:32.598948Z",
     "iopub.status.idle": "2021-05-29T05:17:32.603285Z",
     "shell.execute_reply": "2021-05-29T05:17:32.603755Z",
     "shell.execute_reply.started": "2021-05-29T05:06:53.682435Z"
    },
    "papermill": {
     "duration": 0.101855,
     "end_time": "2021-05-29T05:17:32.603923",
     "exception": false,
     "start_time": "2021-05-29T05:17:32.502068",
     "status": "completed"
    },
    "tags": []
   },
   "outputs": [
    {
     "data": {
      "text/plain": [
       "32.04960532784224"
      ]
     },
     "execution_count": 27,
     "metadata": {},
     "output_type": "execute_result"
    }
   ],
   "source": [
    "percent = (34553/107811)*100\n",
    "percent"
   ]
  },
  {
   "cell_type": "markdown",
   "id": "north-clause",
   "metadata": {
    "papermill": {
     "duration": 0.093273,
     "end_time": "2021-05-29T05:17:32.791003",
     "exception": false,
     "start_time": "2021-05-29T05:17:32.697730",
     "status": "completed"
    },
    "tags": []
   },
   "source": [
    "#### Goals less than $1M got funded"
   ]
  },
  {
   "cell_type": "code",
   "execution_count": 28,
   "id": "integral-equipment",
   "metadata": {
    "execution": {
     "iopub.execute_input": "2021-05-29T05:17:32.983186Z",
     "iopub.status.busy": "2021-05-29T05:17:32.982554Z",
     "iopub.status.idle": "2021-05-29T05:17:33.139502Z",
     "shell.execute_reply": "2021-05-29T05:17:33.139966Z",
     "shell.execute_reply.started": "2021-05-29T05:06:53.693236Z"
    },
    "papermill": {
     "duration": 0.254245,
     "end_time": "2021-05-29T05:17:33.140160",
     "exception": false,
     "start_time": "2021-05-29T05:17:32.885915",
     "status": "completed"
    },
    "tags": []
   },
   "outputs": [
    {
     "data": {
      "text/plain": [
       "Text(0.5, 1.0, 'Successful and Unsuccessful Kickstarters average goal comparision')"
      ]
     },
     "execution_count": 28,
     "metadata": {},
     "output_type": "execute_result"
    },
    {
     "data": {
      "image/png": "[encoded data removed]",
      "text/plain": [
       "<Figure size 432x432 with 1 Axes>"
      ]
     },
     "metadata": {
      "needs_background": "light"
     },
     "output_type": "display_data"
    }
   ],
   "source": [
    "plt.figure(figsize = (6,6))\n",
    "sns.boxplot(x ='final_status', y = 'log_goal', data = train)\n",
    "plt.title('Successful and Unsuccessful Kickstarters average goal comparision')\n"
   ]
  },
  {
   "cell_type": "raw",
   "id": "supposed-football",
   "metadata": {
    "papermill": {
     "duration": 0.095231,
     "end_time": "2021-05-29T05:17:33.331107",
     "exception": false,
     "start_time": "2021-05-29T05:17:33.235876",
     "status": "completed"
    },
    "tags": []
   },
   "source": [
    "Average goal of Successful kikstarter is lower than that of Unsuccesful Kikstarter"
   ]
  },
  {
   "cell_type": "code",
   "execution_count": 29,
   "id": "corporate-promotion",
   "metadata": {
    "execution": {
     "iopub.execute_input": "2021-05-29T05:17:33.523560Z",
     "iopub.status.busy": "2021-05-29T05:17:33.522925Z",
     "iopub.status.idle": "2021-05-29T05:17:33.525914Z",
     "shell.execute_reply": "2021-05-29T05:17:33.526419Z",
     "shell.execute_reply.started": "2021-05-29T05:06:53.881131Z"
    },
    "papermill": {
     "duration": 0.100706,
     "end_time": "2021-05-29T05:17:33.526588",
     "exception": false,
     "start_time": "2021-05-29T05:17:33.425882",
     "status": "completed"
    },
    "tags": []
   },
   "outputs": [],
   "source": [
    "#train.loc[train['log_goal'] <= 5 , 'backers_count'] = 1\n",
    "#train.loc[train['log_goal'] > 5 , 'backers_count'] = 0"
   ]
  },
  {
   "cell_type": "code",
   "execution_count": 30,
   "id": "eight-contrast",
   "metadata": {
    "execution": {
     "iopub.execute_input": "2021-05-29T05:17:33.720331Z",
     "iopub.status.busy": "2021-05-29T05:17:33.719393Z",
     "iopub.status.idle": "2021-05-29T05:17:33.735189Z",
     "shell.execute_reply": "2021-05-29T05:17:33.734648Z",
     "shell.execute_reply.started": "2021-05-29T05:06:53.886518Z"
    },
    "papermill": {
     "duration": 0.113633,
     "end_time": "2021-05-29T05:17:33.735333",
     "exception": false,
     "start_time": "2021-05-29T05:17:33.621700",
     "status": "completed"
    },
    "tags": []
   },
   "outputs": [],
   "source": [
    "train.loc[train['log_goal'] <= 1  , 'log_goal'] = 0 \n",
    "train.loc[(train['log_goal'] >1 ) & (train['log_goal']<= 3) , 'log_goal'] = 1  \n",
    "train.loc[train['log_goal'] > 3 & (train['log_goal']<=5), 'log_goal'] = 2  \n",
    "train.loc[train['log_goal'] > 5 , 'log_goal'] = 3  "
   ]
  },
  {
   "cell_type": "code",
   "execution_count": 31,
   "id": "noble-local",
   "metadata": {
    "execution": {
     "iopub.execute_input": "2021-05-29T05:17:33.944752Z",
     "iopub.status.busy": "2021-05-29T05:17:33.943800Z",
     "iopub.status.idle": "2021-05-29T05:17:33.947547Z",
     "shell.execute_reply": "2021-05-29T05:17:33.948030Z",
     "shell.execute_reply.started": "2021-05-29T05:06:53.914956Z"
    },
    "papermill": {
     "duration": 0.117603,
     "end_time": "2021-05-29T05:17:33.948197",
     "exception": false,
     "start_time": "2021-05-29T05:17:33.830594",
     "status": "completed"
    },
    "tags": []
   },
   "outputs": [
    {
     "data": {
      "text/html": [
       "<div>\n",
       "<style scoped>\n",
       "    .dataframe tbody tr th:only-of-type {\n",
       "        vertical-align: middle;\n",
       "    }\n",
       "\n",
       "    .dataframe tbody tr th {\n",
       "        vertical-align: top;\n",
       "    }\n",
       "\n",
       "    .dataframe thead th {\n",
       "        text-align: right;\n",
       "    }\n",
       "</style>\n",
       "<table border=\"1\" class=\"dataframe\">\n",
       "  <thead>\n",
       "    <tr style=\"text-align: right;\">\n",
       "      <th></th>\n",
       "      <th>project_id</th>\n",
       "      <th>name</th>\n",
       "      <th>desc</th>\n",
       "      <th>goal</th>\n",
       "      <th>keywords</th>\n",
       "      <th>disable_communication</th>\n",
       "      <th>country</th>\n",
       "      <th>currency</th>\n",
       "      <th>deadline</th>\n",
       "      <th>state_changed_at</th>\n",
       "      <th>created_at</th>\n",
       "      <th>launched_at</th>\n",
       "      <th>backers_count</th>\n",
       "      <th>final_status</th>\n",
       "      <th>log_goal</th>\n",
       "    </tr>\n",
       "  </thead>\n",
       "  <tbody>\n",
       "    <tr>\n",
       "      <th>0</th>\n",
       "      <td>kkst1451568084</td>\n",
       "      <td>drawing for dollars</td>\n",
       "      <td>I like drawing pictures. and then i color them...</td>\n",
       "      <td>20.0</td>\n",
       "      <td>drawing-for-dollars</td>\n",
       "      <td>False</td>\n",
       "      <td>US</td>\n",
       "      <td>USD</td>\n",
       "      <td>1241333999</td>\n",
       "      <td>1241334017</td>\n",
       "      <td>1240600507</td>\n",
       "      <td>1240602723</td>\n",
       "      <td>3</td>\n",
       "      <td>1</td>\n",
       "      <td>1.0</td>\n",
       "    </tr>\n",
       "    <tr>\n",
       "      <th>1</th>\n",
       "      <td>kkst1474482071</td>\n",
       "      <td>Sponsor Dereck Blackburn (Lostwars) Artist in ...</td>\n",
       "      <td>I, Dereck Blackburn will be taking upon an inc...</td>\n",
       "      <td>300.0</td>\n",
       "      <td>sponsor-dereck-blackburn-lostwars-artist-in-re...</td>\n",
       "      <td>False</td>\n",
       "      <td>US</td>\n",
       "      <td>USD</td>\n",
       "      <td>1242429000</td>\n",
       "      <td>1242432018</td>\n",
       "      <td>1240960224</td>\n",
       "      <td>1240975592</td>\n",
       "      <td>2</td>\n",
       "      <td>0</td>\n",
       "      <td>1.0</td>\n",
       "    </tr>\n",
       "    <tr>\n",
       "      <th>2</th>\n",
       "      <td>kkst183622197</td>\n",
       "      <td>Mr. Squiggles</td>\n",
       "      <td>So I saw darkpony's successfully funded drawin...</td>\n",
       "      <td>30.0</td>\n",
       "      <td>mr-squiggles</td>\n",
       "      <td>False</td>\n",
       "      <td>US</td>\n",
       "      <td>USD</td>\n",
       "      <td>1243027560</td>\n",
       "      <td>1243027818</td>\n",
       "      <td>1242163613</td>\n",
       "      <td>1242164398</td>\n",
       "      <td>0</td>\n",
       "      <td>0</td>\n",
       "      <td>1.0</td>\n",
       "    </tr>\n",
       "    <tr>\n",
       "      <th>3</th>\n",
       "      <td>kkst597742710</td>\n",
       "      <td>Help me write my second novel.</td>\n",
       "      <td>Do your part to help out starving artists and ...</td>\n",
       "      <td>500.0</td>\n",
       "      <td>help-me-write-my-second-novel</td>\n",
       "      <td>False</td>\n",
       "      <td>US</td>\n",
       "      <td>USD</td>\n",
       "      <td>1243555740</td>\n",
       "      <td>1243556121</td>\n",
       "      <td>1240963795</td>\n",
       "      <td>1240966730</td>\n",
       "      <td>18</td>\n",
       "      <td>1</td>\n",
       "      <td>1.0</td>\n",
       "    </tr>\n",
       "    <tr>\n",
       "      <th>4</th>\n",
       "      <td>kkst1913131122</td>\n",
       "      <td>Support casting my sculpture in bronze</td>\n",
       "      <td>I'm nearing completion on a sculpture, current...</td>\n",
       "      <td>2000.0</td>\n",
       "      <td>support-casting-my-sculpture-in-bronze</td>\n",
       "      <td>False</td>\n",
       "      <td>US</td>\n",
       "      <td>USD</td>\n",
       "      <td>1243769880</td>\n",
       "      <td>1243770317</td>\n",
       "      <td>1241177914</td>\n",
       "      <td>1241180541</td>\n",
       "      <td>1</td>\n",
       "      <td>0</td>\n",
       "      <td>2.0</td>\n",
       "    </tr>\n",
       "  </tbody>\n",
       "</table>\n",
       "</div>"
      ],
      "text/plain": [
       "       project_id                                               name  \\\n",
       "0  kkst1451568084                                drawing for dollars   \n",
       "1  kkst1474482071  Sponsor Dereck Blackburn (Lostwars) Artist in ...   \n",
       "2   kkst183622197                                      Mr. Squiggles   \n",
       "3   kkst597742710                     Help me write my second novel.   \n",
       "4  kkst1913131122             Support casting my sculpture in bronze   \n",
       "\n",
       "                                                desc    goal  \\\n",
       "0  I like drawing pictures. and then i color them...    20.0   \n",
       "1  I, Dereck Blackburn will be taking upon an inc...   300.0   \n",
       "2  So I saw darkpony's successfully funded drawin...    30.0   \n",
       "3  Do your part to help out starving artists and ...   500.0   \n",
       "4  I'm nearing completion on a sculpture, current...  2000.0   \n",
       "\n",
       "                                            keywords  disable_communication  \\\n",
       "0                                drawing-for-dollars                  False   \n",
       "1  sponsor-dereck-blackburn-lostwars-artist-in-re...                  False   \n",
       "2                                       mr-squiggles                  False   \n",
       "3                      help-me-write-my-second-novel                  False   \n",
       "4             support-casting-my-sculpture-in-bronze                  False   \n",
       "\n",
       "  country currency    deadline  state_changed_at  created_at  launched_at  \\\n",
       "0      US      USD  1241333999        1241334017  1240600507   1240602723   \n",
       "1      US      USD  1242429000        1242432018  1240960224   1240975592   \n",
       "2      US      USD  1243027560        1243027818  1242163613   1242164398   \n",
       "3      US      USD  1243555740        1243556121  1240963795   1240966730   \n",
       "4      US      USD  1243769880        1243770317  1241177914   1241180541   \n",
       "\n",
       "   backers_count  final_status  log_goal  \n",
       "0              3             1       1.0  \n",
       "1              2             0       1.0  \n",
       "2              0             0       1.0  \n",
       "3             18             1       1.0  \n",
       "4              1             0       2.0  "
      ]
     },
     "execution_count": 31,
     "metadata": {},
     "output_type": "execute_result"
    }
   ],
   "source": [
    "train.head(5)"
   ]
  },
  {
   "cell_type": "markdown",
   "id": "cosmetic-associate",
   "metadata": {
    "papermill": {
     "duration": 0.095798,
     "end_time": "2021-05-29T05:17:34.140142",
     "exception": false,
     "start_time": "2021-05-29T05:17:34.044344",
     "status": "completed"
    },
    "tags": []
   },
   "source": [
    "### Country vs Final_status"
   ]
  },
  {
   "cell_type": "code",
   "execution_count": 32,
   "id": "enormous-bulgaria",
   "metadata": {
    "execution": {
     "iopub.execute_input": "2021-05-29T05:17:34.340666Z",
     "iopub.status.busy": "2021-05-29T05:17:34.340028Z",
     "iopub.status.idle": "2021-05-29T05:17:34.352840Z",
     "shell.execute_reply": "2021-05-29T05:17:34.353299Z",
     "shell.execute_reply.started": "2021-05-29T05:06:53.940704Z"
    },
    "papermill": {
     "duration": 0.116678,
     "end_time": "2021-05-29T05:17:34.353484",
     "exception": false,
     "start_time": "2021-05-29T05:17:34.236806",
     "status": "completed"
    },
    "tags": []
   },
   "outputs": [
    {
     "data": {
      "text/plain": [
       "country\n",
       "AU      343\n",
       "CA      837\n",
       "DE        0\n",
       "DK       44\n",
       "GB     2510\n",
       "IE       23\n",
       "NL       88\n",
       "NO       18\n",
       "NZ       80\n",
       "SE       45\n",
       "US    30573\n",
       "Name: final_status, dtype: int64"
      ]
     },
     "execution_count": 32,
     "metadata": {},
     "output_type": "execute_result"
    }
   ],
   "source": [
    "country = train.groupby('country')['final_status'].sum()\n",
    "country"
   ]
  },
  {
   "cell_type": "code",
   "execution_count": 33,
   "id": "involved-radius",
   "metadata": {
    "execution": {
     "iopub.execute_input": "2021-05-29T05:17:34.706676Z",
     "iopub.status.busy": "2021-05-29T05:17:34.703634Z",
     "iopub.status.idle": "2021-05-29T05:17:35.056923Z",
     "shell.execute_reply": "2021-05-29T05:17:35.056358Z",
     "shell.execute_reply.started": "2021-05-29T05:06:53.970529Z"
    },
    "papermill": {
     "duration": 0.607083,
     "end_time": "2021-05-29T05:17:35.057096",
     "exception": false,
     "start_time": "2021-05-29T05:17:34.450013",
     "status": "completed"
    },
    "tags": []
   },
   "outputs": [
    {
     "data": {
      "image/png": "[encoded data removed]",
      "text/plain": [
       "<Figure size 720x360 with 1 Axes>"
      ]
     },
     "metadata": {
      "needs_background": "light"
     },
     "output_type": "display_data"
    }
   ],
   "source": [
    "fig, axs = plt.subplots(figsize=(10,5))\n",
    "sns.histplot(data=train, x='country', hue='final_status').set_title('Country Distribution', fontdict={'fontsize':20\n",
    "                                                                                   , 'fontweight':'bold'});\n",
    "sns.despine()"
   ]
  },
  {
   "cell_type": "code",
   "execution_count": 34,
   "id": "adverse-minute",
   "metadata": {
    "execution": {
     "iopub.execute_input": "2021-05-29T05:17:35.268791Z",
     "iopub.status.busy": "2021-05-29T05:17:35.267864Z",
     "iopub.status.idle": "2021-05-29T05:17:35.622799Z",
     "shell.execute_reply": "2021-05-29T05:17:35.623405Z",
     "shell.execute_reply.started": "2021-05-29T05:06:54.594230Z"
    },
    "papermill": {
     "duration": 0.468974,
     "end_time": "2021-05-29T05:17:35.623582",
     "exception": false,
     "start_time": "2021-05-29T05:17:35.154608",
     "status": "completed"
    },
    "tags": []
   },
   "outputs": [
    {
     "data": {
      "text/plain": [
       "<AxesSubplot:xlabel='country', ylabel='count'>"
      ]
     },
     "execution_count": 34,
     "metadata": {},
     "output_type": "execute_result"
    },
    {
     "data": {
      "image/png": "[encoded data removed]",
      "text/plain": [
       "<Figure size 432x288 with 1 Axes>"
      ]
     },
     "metadata": {
      "needs_background": "light"
     },
     "output_type": "display_data"
    }
   ],
   "source": [
    "sns.countplot(data=train, x = 'country', hue='final_status')"
   ]
  },
  {
   "cell_type": "markdown",
   "id": "sunrise-suite",
   "metadata": {
    "papermill": {
     "duration": 0.09733,
     "end_time": "2021-05-29T05:17:35.818702",
     "exception": false,
     "start_time": "2021-05-29T05:17:35.721372",
     "status": "completed"
    },
    "tags": []
   },
   "source": [
    "### Currency vs Final Status"
   ]
  },
  {
   "cell_type": "code",
   "execution_count": 35,
   "id": "variable-orbit",
   "metadata": {
    "execution": {
     "iopub.execute_input": "2021-05-29T05:17:36.018054Z",
     "iopub.status.busy": "2021-05-29T05:17:36.017436Z",
     "iopub.status.idle": "2021-05-29T05:17:36.033190Z",
     "shell.execute_reply": "2021-05-29T05:17:36.033784Z",
     "shell.execute_reply.started": "2021-05-29T05:06:54.993967Z"
    },
    "papermill": {
     "duration": 0.11768,
     "end_time": "2021-05-29T05:17:36.033956",
     "exception": false,
     "start_time": "2021-05-29T05:17:35.916276",
     "status": "completed"
    },
    "tags": []
   },
   "outputs": [
    {
     "data": {
      "text/plain": [
       "currency\n",
       "AUD      343\n",
       "CAD      837\n",
       "DKK       44\n",
       "EUR      111\n",
       "GBP     2510\n",
       "NOK       18\n",
       "NZD       80\n",
       "SEK       45\n",
       "USD    30573\n",
       "Name: final_status, dtype: int64"
      ]
     },
     "execution_count": 35,
     "metadata": {},
     "output_type": "execute_result"
    }
   ],
   "source": [
    "currency = train.groupby('currency')['final_status'].sum()\n",
    "currency"
   ]
  },
  {
   "cell_type": "code",
   "execution_count": 36,
   "id": "racial-fancy",
   "metadata": {
    "execution": {
     "iopub.execute_input": "2021-05-29T05:17:36.234027Z",
     "iopub.status.busy": "2021-05-29T05:17:36.233380Z",
     "iopub.status.idle": "2021-05-29T05:17:36.566615Z",
     "shell.execute_reply": "2021-05-29T05:17:36.567117Z",
     "shell.execute_reply.started": "2021-05-29T05:06:55.013997Z"
    },
    "papermill": {
     "duration": 0.435046,
     "end_time": "2021-05-29T05:17:36.567288",
     "exception": false,
     "start_time": "2021-05-29T05:17:36.132242",
     "status": "completed"
    },
    "tags": []
   },
   "outputs": [
    {
     "data": {
      "text/plain": [
       "<AxesSubplot:xlabel='currency', ylabel='count'>"
      ]
     },
     "execution_count": 36,
     "metadata": {},
     "output_type": "execute_result"
    },
    {
     "data": {
      "image/png": "[encoded data removed]",
      "text/plain": [
       "<Figure size 432x288 with 1 Axes>"
      ]
     },
     "metadata": {
      "needs_background": "light"
     },
     "output_type": "display_data"
    }
   ],
   "source": [
    "sns.countplot(data=train, x = 'currency', hue='final_status')"
   ]
  },
  {
   "cell_type": "markdown",
   "id": "controlling-nutrition",
   "metadata": {
    "papermill": {
     "duration": 0.09924,
     "end_time": "2021-05-29T05:17:36.766364",
     "exception": false,
     "start_time": "2021-05-29T05:17:36.667124",
     "status": "completed"
    },
    "tags": []
   },
   "source": [
    "### Name vs Final Status"
   ]
  },
  {
   "cell_type": "code",
   "execution_count": 37,
   "id": "sixth-shakespeare",
   "metadata": {
    "execution": {
     "iopub.execute_input": "2021-05-29T05:17:36.968093Z",
     "iopub.status.busy": "2021-05-29T05:17:36.967470Z",
     "iopub.status.idle": "2021-05-29T05:17:37.059660Z",
     "shell.execute_reply": "2021-05-29T05:17:37.060115Z",
     "shell.execute_reply.started": "2021-05-29T05:06:55.390990Z"
    },
    "papermill": {
     "duration": 0.194641,
     "end_time": "2021-05-29T05:17:37.060288",
     "exception": false,
     "start_time": "2021-05-29T05:17:36.865647",
     "status": "completed"
    },
    "tags": []
   },
   "outputs": [
    {
     "data": {
      "text/html": [
       "<div>\n",
       "<style scoped>\n",
       "    .dataframe tbody tr th:only-of-type {\n",
       "        vertical-align: middle;\n",
       "    }\n",
       "\n",
       "    .dataframe tbody tr th {\n",
       "        vertical-align: top;\n",
       "    }\n",
       "\n",
       "    .dataframe thead th {\n",
       "        text-align: right;\n",
       "    }\n",
       "</style>\n",
       "<table border=\"1\" class=\"dataframe\">\n",
       "  <thead>\n",
       "    <tr style=\"text-align: right;\">\n",
       "      <th></th>\n",
       "      <th>project_id</th>\n",
       "      <th>name</th>\n",
       "      <th>desc</th>\n",
       "      <th>goal</th>\n",
       "      <th>keywords</th>\n",
       "      <th>disable_communication</th>\n",
       "      <th>country</th>\n",
       "      <th>currency</th>\n",
       "      <th>deadline</th>\n",
       "      <th>state_changed_at</th>\n",
       "      <th>created_at</th>\n",
       "      <th>launched_at</th>\n",
       "      <th>backers_count</th>\n",
       "      <th>final_status</th>\n",
       "      <th>log_goal</th>\n",
       "      <th>NameLen</th>\n",
       "    </tr>\n",
       "  </thead>\n",
       "  <tbody>\n",
       "    <tr>\n",
       "      <th>0</th>\n",
       "      <td>kkst1451568084</td>\n",
       "      <td>drawing for dollars</td>\n",
       "      <td>I like drawing pictures. and then i color them...</td>\n",
       "      <td>20.0</td>\n",
       "      <td>drawing-for-dollars</td>\n",
       "      <td>False</td>\n",
       "      <td>US</td>\n",
       "      <td>USD</td>\n",
       "      <td>1241333999</td>\n",
       "      <td>1241334017</td>\n",
       "      <td>1240600507</td>\n",
       "      <td>1240602723</td>\n",
       "      <td>3</td>\n",
       "      <td>1</td>\n",
       "      <td>1.0</td>\n",
       "      <td>19.0</td>\n",
       "    </tr>\n",
       "    <tr>\n",
       "      <th>1</th>\n",
       "      <td>kkst1474482071</td>\n",
       "      <td>Sponsor Dereck Blackburn (Lostwars) Artist in ...</td>\n",
       "      <td>I, Dereck Blackburn will be taking upon an inc...</td>\n",
       "      <td>300.0</td>\n",
       "      <td>sponsor-dereck-blackburn-lostwars-artist-in-re...</td>\n",
       "      <td>False</td>\n",
       "      <td>US</td>\n",
       "      <td>USD</td>\n",
       "      <td>1242429000</td>\n",
       "      <td>1242432018</td>\n",
       "      <td>1240960224</td>\n",
       "      <td>1240975592</td>\n",
       "      <td>2</td>\n",
       "      <td>0</td>\n",
       "      <td>1.0</td>\n",
       "      <td>76.0</td>\n",
       "    </tr>\n",
       "    <tr>\n",
       "      <th>2</th>\n",
       "      <td>kkst183622197</td>\n",
       "      <td>Mr. Squiggles</td>\n",
       "      <td>So I saw darkpony's successfully funded drawin...</td>\n",
       "      <td>30.0</td>\n",
       "      <td>mr-squiggles</td>\n",
       "      <td>False</td>\n",
       "      <td>US</td>\n",
       "      <td>USD</td>\n",
       "      <td>1243027560</td>\n",
       "      <td>1243027818</td>\n",
       "      <td>1242163613</td>\n",
       "      <td>1242164398</td>\n",
       "      <td>0</td>\n",
       "      <td>0</td>\n",
       "      <td>1.0</td>\n",
       "      <td>13.0</td>\n",
       "    </tr>\n",
       "    <tr>\n",
       "      <th>3</th>\n",
       "      <td>kkst597742710</td>\n",
       "      <td>Help me write my second novel.</td>\n",
       "      <td>Do your part to help out starving artists and ...</td>\n",
       "      <td>500.0</td>\n",
       "      <td>help-me-write-my-second-novel</td>\n",
       "      <td>False</td>\n",
       "      <td>US</td>\n",
       "      <td>USD</td>\n",
       "      <td>1243555740</td>\n",
       "      <td>1243556121</td>\n",
       "      <td>1240963795</td>\n",
       "      <td>1240966730</td>\n",
       "      <td>18</td>\n",
       "      <td>1</td>\n",
       "      <td>1.0</td>\n",
       "      <td>30.0</td>\n",
       "    </tr>\n",
       "    <tr>\n",
       "      <th>4</th>\n",
       "      <td>kkst1913131122</td>\n",
       "      <td>Support casting my sculpture in bronze</td>\n",
       "      <td>I'm nearing completion on a sculpture, current...</td>\n",
       "      <td>2000.0</td>\n",
       "      <td>support-casting-my-sculpture-in-bronze</td>\n",
       "      <td>False</td>\n",
       "      <td>US</td>\n",
       "      <td>USD</td>\n",
       "      <td>1243769880</td>\n",
       "      <td>1243770317</td>\n",
       "      <td>1241177914</td>\n",
       "      <td>1241180541</td>\n",
       "      <td>1</td>\n",
       "      <td>0</td>\n",
       "      <td>2.0</td>\n",
       "      <td>38.0</td>\n",
       "    </tr>\n",
       "  </tbody>\n",
       "</table>\n",
       "</div>"
      ],
      "text/plain": [
       "       project_id                                               name  \\\n",
       "0  kkst1451568084                                drawing for dollars   \n",
       "1  kkst1474482071  Sponsor Dereck Blackburn (Lostwars) Artist in ...   \n",
       "2   kkst183622197                                      Mr. Squiggles   \n",
       "3   kkst597742710                     Help me write my second novel.   \n",
       "4  kkst1913131122             Support casting my sculpture in bronze   \n",
       "\n",
       "                                                desc    goal  \\\n",
       "0  I like drawing pictures. and then i color them...    20.0   \n",
       "1  I, Dereck Blackburn will be taking upon an inc...   300.0   \n",
       "2  So I saw darkpony's successfully funded drawin...    30.0   \n",
       "3  Do your part to help out starving artists and ...   500.0   \n",
       "4  I'm nearing completion on a sculpture, current...  2000.0   \n",
       "\n",
       "                                            keywords  disable_communication  \\\n",
       "0                                drawing-for-dollars                  False   \n",
       "1  sponsor-dereck-blackburn-lostwars-artist-in-re...                  False   \n",
       "2                                       mr-squiggles                  False   \n",
       "3                      help-me-write-my-second-novel                  False   \n",
       "4             support-casting-my-sculpture-in-bronze                  False   \n",
       "\n",
       "  country currency    deadline  state_changed_at  created_at  launched_at  \\\n",
       "0      US      USD  1241333999        1241334017  1240600507   1240602723   \n",
       "1      US      USD  1242429000        1242432018  1240960224   1240975592   \n",
       "2      US      USD  1243027560        1243027818  1242163613   1242164398   \n",
       "3      US      USD  1243555740        1243556121  1240963795   1240966730   \n",
       "4      US      USD  1243769880        1243770317  1241177914   1241180541   \n",
       "\n",
       "   backers_count  final_status  log_goal  NameLen  \n",
       "0              3             1       1.0     19.0  \n",
       "1              2             0       1.0     76.0  \n",
       "2              0             0       1.0     13.0  \n",
       "3             18             1       1.0     30.0  \n",
       "4              1             0       2.0     38.0  "
      ]
     },
     "execution_count": 37,
     "metadata": {},
     "output_type": "execute_result"
    }
   ],
   "source": [
    "train['NameLen'] = train['name'].str.len()\n",
    "train.head(5)"
   ]
  },
  {
   "cell_type": "code",
   "execution_count": 38,
   "id": "copyrighted-parameter",
   "metadata": {
    "execution": {
     "iopub.execute_input": "2021-05-29T05:17:37.263657Z",
     "iopub.status.busy": "2021-05-29T05:17:37.262971Z",
     "iopub.status.idle": "2021-05-29T05:17:41.730962Z",
     "shell.execute_reply": "2021-05-29T05:17:41.731479Z",
     "shell.execute_reply.started": "2021-05-29T05:06:55.498533Z"
    },
    "papermill": {
     "duration": 4.570719,
     "end_time": "2021-05-29T05:17:41.731658",
     "exception": false,
     "start_time": "2021-05-29T05:17:37.160939",
     "status": "completed"
    },
    "tags": []
   },
   "outputs": [
    {
     "data": {
      "image/png": "[encoded data removed]",
      "text/plain": [
       "<Figure size 720x360 with 1 Axes>"
      ]
     },
     "metadata": {
      "needs_background": "light"
     },
     "output_type": "display_data"
    }
   ],
   "source": [
    "fig, axs = plt.subplots(figsize=(10,5))\n",
    "sns.set_palette('Set1')\n",
    "sns.histplot(data=train, x='NameLen', hue='final_status').set_title('NameLen Distribution', fontdict={'fontsize':20\n",
    "                                                                                   , 'fontweight':'bold'});\n",
    "sns.despine()"
   ]
  },
  {
   "cell_type": "code",
   "execution_count": 39,
   "id": "affecting-attention",
   "metadata": {
    "execution": {
     "iopub.execute_input": "2021-05-29T05:17:41.941579Z",
     "iopub.status.busy": "2021-05-29T05:17:41.940918Z",
     "iopub.status.idle": "2021-05-29T05:17:46.510081Z",
     "shell.execute_reply": "2021-05-29T05:17:46.510861Z",
     "shell.execute_reply.started": "2021-05-29T05:07:00.202963Z"
    },
    "papermill": {
     "duration": 4.677022,
     "end_time": "2021-05-29T05:17:46.511125",
     "exception": false,
     "start_time": "2021-05-29T05:17:41.834103",
     "status": "completed"
    },
    "tags": []
   },
   "outputs": [
    {
     "data": {
      "text/plain": [
       "<AxesSubplot:xlabel='NameLen', ylabel='count'>"
      ]
     },
     "execution_count": 39,
     "metadata": {},
     "output_type": "execute_result"
    },
    {
     "data": {
      "image/png": "[encoded data removed]",
      "text/plain": [
       "<Figure size 432x288 with 1 Axes>"
      ]
     },
     "metadata": {
      "needs_background": "light"
     },
     "output_type": "display_data"
    }
   ],
   "source": [
    "sns.countplot(data=train, x='NameLen', hue='final_status')"
   ]
  },
  {
   "cell_type": "markdown",
   "id": "offensive-blackjack",
   "metadata": {
    "papermill": {
     "duration": 0.102584,
     "end_time": "2021-05-29T05:17:46.740921",
     "exception": false,
     "start_time": "2021-05-29T05:17:46.638337",
     "status": "completed"
    },
    "tags": []
   },
   "source": [
    "Bins\n",
    "1. 0-150\n",
    "2. 150-250\n",
    "3. 250-400\n",
    "4. greater than 400\n"
   ]
  },
  {
   "cell_type": "code",
   "execution_count": 40,
   "id": "adjacent-collapse",
   "metadata": {
    "execution": {
     "iopub.execute_input": "2021-05-29T05:17:47.006262Z",
     "iopub.status.busy": "2021-05-29T05:17:47.005580Z",
     "iopub.status.idle": "2021-05-29T05:17:47.016879Z",
     "shell.execute_reply": "2021-05-29T05:17:47.016344Z",
     "shell.execute_reply.started": "2021-05-29T05:07:04.990559Z"
    },
    "papermill": {
     "duration": 0.123106,
     "end_time": "2021-05-29T05:17:47.017042",
     "exception": false,
     "start_time": "2021-05-29T05:17:46.893936",
     "status": "completed"
    },
    "tags": []
   },
   "outputs": [],
   "source": [
    "#NameLen bins\n",
    "train.loc[train['NameLen'] > 0 & (train['NameLen'] <= 150) , 'NameLen'] = 0 \n",
    "train.loc[(train['NameLen'] > 150) & (train['NameLen']<= 250) , 'NameLen'] = 1  \n",
    "train.loc[train['NameLen'] > 250 & (train['NameLen']<=400), 'NameLen'] = 2  \n",
    "train.loc[train['NameLen'] > 400 , 'NameLen'] = 3  "
   ]
  },
  {
   "cell_type": "markdown",
   "id": "iraqi-awareness",
   "metadata": {
    "papermill": {
     "duration": 0.101276,
     "end_time": "2021-05-29T05:17:47.221787",
     "exception": false,
     "start_time": "2021-05-29T05:17:47.120511",
     "status": "completed"
    },
    "tags": []
   },
   "source": [
    "### Keyword vs Final Status"
   ]
  },
  {
   "cell_type": "code",
   "execution_count": 41,
   "id": "western-camcorder",
   "metadata": {
    "execution": {
     "iopub.execute_input": "2021-05-29T05:17:47.437191Z",
     "iopub.status.busy": "2021-05-29T05:17:47.436219Z",
     "iopub.status.idle": "2021-05-29T05:17:47.478775Z",
     "shell.execute_reply": "2021-05-29T05:17:47.478247Z",
     "shell.execute_reply.started": "2021-05-29T05:07:05.014409Z"
    },
    "papermill": {
     "duration": 0.156,
     "end_time": "2021-05-29T05:17:47.478913",
     "exception": false,
     "start_time": "2021-05-29T05:17:47.322913",
     "status": "completed"
    },
    "tags": []
   },
   "outputs": [
    {
     "data": {
      "text/plain": [
       "'drawing-for-dollars'"
      ]
     },
     "execution_count": 41,
     "metadata": {},
     "output_type": "execute_result"
    }
   ],
   "source": [
    "train.keywords.unique()[0]"
   ]
  },
  {
   "cell_type": "code",
   "execution_count": 42,
   "id": "everyday-example",
   "metadata": {
    "execution": {
     "iopub.execute_input": "2021-05-29T05:17:47.694595Z",
     "iopub.status.busy": "2021-05-29T05:17:47.693658Z",
     "iopub.status.idle": "2021-05-29T05:17:47.733069Z",
     "shell.execute_reply": "2021-05-29T05:17:47.733537Z",
     "shell.execute_reply.started": "2021-05-29T05:07:05.086535Z"
    },
    "papermill": {
     "duration": 0.15256,
     "end_time": "2021-05-29T05:17:47.733716",
     "exception": false,
     "start_time": "2021-05-29T05:17:47.581156",
     "status": "completed"
    },
    "tags": []
   },
   "outputs": [
    {
     "data": {
      "text/plain": [
       "'devil-may-care'"
      ]
     },
     "execution_count": 42,
     "metadata": {},
     "output_type": "execute_result"
    }
   ],
   "source": [
    "train.keywords.unique()[2021]"
   ]
  },
  {
   "cell_type": "code",
   "execution_count": 43,
   "id": "italian-investor",
   "metadata": {
    "execution": {
     "iopub.execute_input": "2021-05-29T05:17:47.967166Z",
     "iopub.status.busy": "2021-05-29T05:17:47.953749Z",
     "iopub.status.idle": "2021-05-29T05:17:48.046542Z",
     "shell.execute_reply": "2021-05-29T05:17:48.045964Z",
     "shell.execute_reply.started": "2021-05-29T05:07:05.155220Z"
    },
    "papermill": {
     "duration": 0.210398,
     "end_time": "2021-05-29T05:17:48.046682",
     "exception": false,
     "start_time": "2021-05-29T05:17:47.836284",
     "status": "completed"
    },
    "tags": []
   },
   "outputs": [
    {
     "data": {
      "text/html": [
       "<div>\n",
       "<style scoped>\n",
       "    .dataframe tbody tr th:only-of-type {\n",
       "        vertical-align: middle;\n",
       "    }\n",
       "\n",
       "    .dataframe tbody tr th {\n",
       "        vertical-align: top;\n",
       "    }\n",
       "\n",
       "    .dataframe thead th {\n",
       "        text-align: right;\n",
       "    }\n",
       "</style>\n",
       "<table border=\"1\" class=\"dataframe\">\n",
       "  <thead>\n",
       "    <tr style=\"text-align: right;\">\n",
       "      <th></th>\n",
       "      <th>project_id</th>\n",
       "      <th>name</th>\n",
       "      <th>desc</th>\n",
       "      <th>goal</th>\n",
       "      <th>keywords</th>\n",
       "      <th>disable_communication</th>\n",
       "      <th>country</th>\n",
       "      <th>currency</th>\n",
       "      <th>deadline</th>\n",
       "      <th>state_changed_at</th>\n",
       "      <th>created_at</th>\n",
       "      <th>launched_at</th>\n",
       "      <th>backers_count</th>\n",
       "      <th>final_status</th>\n",
       "      <th>log_goal</th>\n",
       "      <th>NameLen</th>\n",
       "      <th>keywordsLen</th>\n",
       "    </tr>\n",
       "  </thead>\n",
       "  <tbody>\n",
       "    <tr>\n",
       "      <th>0</th>\n",
       "      <td>kkst1451568084</td>\n",
       "      <td>drawing for dollars</td>\n",
       "      <td>I like drawing pictures. and then i color them...</td>\n",
       "      <td>20.0</td>\n",
       "      <td>drawing-for-dollars</td>\n",
       "      <td>False</td>\n",
       "      <td>US</td>\n",
       "      <td>USD</td>\n",
       "      <td>1241333999</td>\n",
       "      <td>1241334017</td>\n",
       "      <td>1240600507</td>\n",
       "      <td>1240602723</td>\n",
       "      <td>3</td>\n",
       "      <td>1</td>\n",
       "      <td>1.0</td>\n",
       "      <td>0.0</td>\n",
       "      <td>19</td>\n",
       "    </tr>\n",
       "    <tr>\n",
       "      <th>1</th>\n",
       "      <td>kkst1474482071</td>\n",
       "      <td>Sponsor Dereck Blackburn (Lostwars) Artist in ...</td>\n",
       "      <td>I, Dereck Blackburn will be taking upon an inc...</td>\n",
       "      <td>300.0</td>\n",
       "      <td>sponsor-dereck-blackburn-lostwars-artist-in-re...</td>\n",
       "      <td>False</td>\n",
       "      <td>US</td>\n",
       "      <td>USD</td>\n",
       "      <td>1242429000</td>\n",
       "      <td>1242432018</td>\n",
       "      <td>1240960224</td>\n",
       "      <td>1240975592</td>\n",
       "      <td>2</td>\n",
       "      <td>0</td>\n",
       "      <td>1.0</td>\n",
       "      <td>0.0</td>\n",
       "      <td>74</td>\n",
       "    </tr>\n",
       "    <tr>\n",
       "      <th>2</th>\n",
       "      <td>kkst183622197</td>\n",
       "      <td>Mr. Squiggles</td>\n",
       "      <td>So I saw darkpony's successfully funded drawin...</td>\n",
       "      <td>30.0</td>\n",
       "      <td>mr-squiggles</td>\n",
       "      <td>False</td>\n",
       "      <td>US</td>\n",
       "      <td>USD</td>\n",
       "      <td>1243027560</td>\n",
       "      <td>1243027818</td>\n",
       "      <td>1242163613</td>\n",
       "      <td>1242164398</td>\n",
       "      <td>0</td>\n",
       "      <td>0</td>\n",
       "      <td>1.0</td>\n",
       "      <td>0.0</td>\n",
       "      <td>12</td>\n",
       "    </tr>\n",
       "    <tr>\n",
       "      <th>3</th>\n",
       "      <td>kkst597742710</td>\n",
       "      <td>Help me write my second novel.</td>\n",
       "      <td>Do your part to help out starving artists and ...</td>\n",
       "      <td>500.0</td>\n",
       "      <td>help-me-write-my-second-novel</td>\n",
       "      <td>False</td>\n",
       "      <td>US</td>\n",
       "      <td>USD</td>\n",
       "      <td>1243555740</td>\n",
       "      <td>1243556121</td>\n",
       "      <td>1240963795</td>\n",
       "      <td>1240966730</td>\n",
       "      <td>18</td>\n",
       "      <td>1</td>\n",
       "      <td>1.0</td>\n",
       "      <td>0.0</td>\n",
       "      <td>29</td>\n",
       "    </tr>\n",
       "    <tr>\n",
       "      <th>4</th>\n",
       "      <td>kkst1913131122</td>\n",
       "      <td>Support casting my sculpture in bronze</td>\n",
       "      <td>I'm nearing completion on a sculpture, current...</td>\n",
       "      <td>2000.0</td>\n",
       "      <td>support-casting-my-sculpture-in-bronze</td>\n",
       "      <td>False</td>\n",
       "      <td>US</td>\n",
       "      <td>USD</td>\n",
       "      <td>1243769880</td>\n",
       "      <td>1243770317</td>\n",
       "      <td>1241177914</td>\n",
       "      <td>1241180541</td>\n",
       "      <td>1</td>\n",
       "      <td>0</td>\n",
       "      <td>2.0</td>\n",
       "      <td>0.0</td>\n",
       "      <td>38</td>\n",
       "    </tr>\n",
       "    <tr>\n",
       "      <th>...</th>\n",
       "      <td>...</td>\n",
       "      <td>...</td>\n",
       "      <td>...</td>\n",
       "      <td>...</td>\n",
       "      <td>...</td>\n",
       "      <td>...</td>\n",
       "      <td>...</td>\n",
       "      <td>...</td>\n",
       "      <td>...</td>\n",
       "      <td>...</td>\n",
       "      <td>...</td>\n",
       "      <td>...</td>\n",
       "      <td>...</td>\n",
       "      <td>...</td>\n",
       "      <td>...</td>\n",
       "      <td>...</td>\n",
       "      <td>...</td>\n",
       "    </tr>\n",
       "    <tr>\n",
       "      <th>108124</th>\n",
       "      <td>kkst542772509</td>\n",
       "      <td>Custom Wearable Art</td>\n",
       "      <td>Sacred geometry art and custom clothing. Embro...</td>\n",
       "      <td>2000.0</td>\n",
       "      <td>custom-wearable-art</td>\n",
       "      <td>False</td>\n",
       "      <td>US</td>\n",
       "      <td>USD</td>\n",
       "      <td>1433095651</td>\n",
       "      <td>1433095654</td>\n",
       "      <td>1429382307</td>\n",
       "      <td>1430503651</td>\n",
       "      <td>3</td>\n",
       "      <td>0</td>\n",
       "      <td>2.0</td>\n",
       "      <td>0.0</td>\n",
       "      <td>19</td>\n",
       "    </tr>\n",
       "    <tr>\n",
       "      <th>108125</th>\n",
       "      <td>kkst615785942</td>\n",
       "      <td>Painted Modern Wall art Mid-century!  $100 for...</td>\n",
       "      <td>I want to create pieces very similar to this o...</td>\n",
       "      <td>15000.0</td>\n",
       "      <td>zacharys-art-project</td>\n",
       "      <td>False</td>\n",
       "      <td>US</td>\n",
       "      <td>USD</td>\n",
       "      <td>1433096040</td>\n",
       "      <td>1433096041</td>\n",
       "      <td>1428339909</td>\n",
       "      <td>1428344094</td>\n",
       "      <td>1</td>\n",
       "      <td>0</td>\n",
       "      <td>2.0</td>\n",
       "      <td>0.0</td>\n",
       "      <td>20</td>\n",
       "    </tr>\n",
       "    <tr>\n",
       "      <th>108126</th>\n",
       "      <td>kkst1421442073</td>\n",
       "      <td>Creating High Quality Art Prints from the Arti...</td>\n",
       "      <td>I am seeking to produce prints to promote my r...</td>\n",
       "      <td>320.0</td>\n",
       "      <td>creating-high-quality-art-prints-from-the-arti...</td>\n",
       "      <td>False</td>\n",
       "      <td>US</td>\n",
       "      <td>USD</td>\n",
       "      <td>1433096334</td>\n",
       "      <td>1433096337</td>\n",
       "      <td>1430420564</td>\n",
       "      <td>1430504334</td>\n",
       "      <td>11</td>\n",
       "      <td>1</td>\n",
       "      <td>1.0</td>\n",
       "      <td>0.0</td>\n",
       "      <td>50</td>\n",
       "    </tr>\n",
       "    <tr>\n",
       "      <th>108127</th>\n",
       "      <td>kkst2022543055</td>\n",
       "      <td>back to basics</td>\n",
       "      <td>A self sustaining homestead with organic produ...</td>\n",
       "      <td>35000.0</td>\n",
       "      <td>back-to-basics-2</td>\n",
       "      <td>False</td>\n",
       "      <td>US</td>\n",
       "      <td>USD</td>\n",
       "      <td>1433096580</td>\n",
       "      <td>1433096584</td>\n",
       "      <td>1430072594</td>\n",
       "      <td>1430421727</td>\n",
       "      <td>0</td>\n",
       "      <td>0</td>\n",
       "      <td>2.0</td>\n",
       "      <td>0.0</td>\n",
       "      <td>16</td>\n",
       "    </tr>\n",
       "    <tr>\n",
       "      <th>108128</th>\n",
       "      <td>kkst169301870</td>\n",
       "      <td>Happy Olive, Mediterranean Wraps</td>\n",
       "      <td>Mediterranean Wraps, done right!</td>\n",
       "      <td>25000.0</td>\n",
       "      <td>happy-olive-mediterranean-wraps</td>\n",
       "      <td>False</td>\n",
       "      <td>US</td>\n",
       "      <td>USD</td>\n",
       "      <td>1433096938</td>\n",
       "      <td>1433096940</td>\n",
       "      <td>1429144432</td>\n",
       "      <td>1429208938</td>\n",
       "      <td>1</td>\n",
       "      <td>0</td>\n",
       "      <td>2.0</td>\n",
       "      <td>0.0</td>\n",
       "      <td>31</td>\n",
       "    </tr>\n",
       "  </tbody>\n",
       "</table>\n",
       "<p>108129 rows × 17 columns</p>\n",
       "</div>"
      ],
      "text/plain": [
       "            project_id                                               name  \\\n",
       "0       kkst1451568084                                drawing for dollars   \n",
       "1       kkst1474482071  Sponsor Dereck Blackburn (Lostwars) Artist in ...   \n",
       "2        kkst183622197                                      Mr. Squiggles   \n",
       "3        kkst597742710                     Help me write my second novel.   \n",
       "4       kkst1913131122             Support casting my sculpture in bronze   \n",
       "...                ...                                                ...   \n",
       "108124   kkst542772509                                Custom Wearable Art   \n",
       "108125   kkst615785942  Painted Modern Wall art Mid-century!  $100 for...   \n",
       "108126  kkst1421442073  Creating High Quality Art Prints from the Arti...   \n",
       "108127  kkst2022543055                                     back to basics   \n",
       "108128   kkst169301870                   Happy Olive, Mediterranean Wraps   \n",
       "\n",
       "                                                     desc     goal  \\\n",
       "0       I like drawing pictures. and then i color them...     20.0   \n",
       "1       I, Dereck Blackburn will be taking upon an inc...    300.0   \n",
       "2       So I saw darkpony's successfully funded drawin...     30.0   \n",
       "3       Do your part to help out starving artists and ...    500.0   \n",
       "4       I'm nearing completion on a sculpture, current...   2000.0   \n",
       "...                                                   ...      ...   \n",
       "108124  Sacred geometry art and custom clothing. Embro...   2000.0   \n",
       "108125  I want to create pieces very similar to this o...  15000.0   \n",
       "108126  I am seeking to produce prints to promote my r...    320.0   \n",
       "108127  A self sustaining homestead with organic produ...  35000.0   \n",
       "108128                   Mediterranean Wraps, done right!  25000.0   \n",
       "\n",
       "                                                 keywords  \\\n",
       "0                                     drawing-for-dollars   \n",
       "1       sponsor-dereck-blackburn-lostwars-artist-in-re...   \n",
       "2                                            mr-squiggles   \n",
       "3                           help-me-write-my-second-novel   \n",
       "4                  support-casting-my-sculpture-in-bronze   \n",
       "...                                                   ...   \n",
       "108124                                custom-wearable-art   \n",
       "108125                               zacharys-art-project   \n",
       "108126  creating-high-quality-art-prints-from-the-arti...   \n",
       "108127                                   back-to-basics-2   \n",
       "108128                    happy-olive-mediterranean-wraps   \n",
       "\n",
       "        disable_communication country currency    deadline  state_changed_at  \\\n",
       "0                       False      US      USD  1241333999        1241334017   \n",
       "1                       False      US      USD  1242429000        1242432018   \n",
       "2                       False      US      USD  1243027560        1243027818   \n",
       "3                       False      US      USD  1243555740        1243556121   \n",
       "4                       False      US      USD  1243769880        1243770317   \n",
       "...                       ...     ...      ...         ...               ...   \n",
       "108124                  False      US      USD  1433095651        1433095654   \n",
       "108125                  False      US      USD  1433096040        1433096041   \n",
       "108126                  False      US      USD  1433096334        1433096337   \n",
       "108127                  False      US      USD  1433096580        1433096584   \n",
       "108128                  False      US      USD  1433096938        1433096940   \n",
       "\n",
       "        created_at  launched_at  backers_count  final_status  log_goal  \\\n",
       "0       1240600507   1240602723              3             1       1.0   \n",
       "1       1240960224   1240975592              2             0       1.0   \n",
       "2       1242163613   1242164398              0             0       1.0   \n",
       "3       1240963795   1240966730             18             1       1.0   \n",
       "4       1241177914   1241180541              1             0       2.0   \n",
       "...            ...          ...            ...           ...       ...   \n",
       "108124  1429382307   1430503651              3             0       2.0   \n",
       "108125  1428339909   1428344094              1             0       2.0   \n",
       "108126  1430420564   1430504334             11             1       1.0   \n",
       "108127  1430072594   1430421727              0             0       2.0   \n",
       "108128  1429144432   1429208938              1             0       2.0   \n",
       "\n",
       "        NameLen  keywordsLen  \n",
       "0           0.0           19  \n",
       "1           0.0           74  \n",
       "2           0.0           12  \n",
       "3           0.0           29  \n",
       "4           0.0           38  \n",
       "...         ...          ...  \n",
       "108124      0.0           19  \n",
       "108125      0.0           20  \n",
       "108126      0.0           50  \n",
       "108127      0.0           16  \n",
       "108128      0.0           31  \n",
       "\n",
       "[108129 rows x 17 columns]"
      ]
     },
     "execution_count": 43,
     "metadata": {},
     "output_type": "execute_result"
    }
   ],
   "source": [
    "train['keywordsLen'] = train['keywords'].str.len()\n",
    "train"
   ]
  },
  {
   "cell_type": "code",
   "execution_count": 44,
   "id": "tough-correlation",
   "metadata": {
    "execution": {
     "iopub.execute_input": "2021-05-29T05:17:48.287498Z",
     "iopub.status.busy": "2021-05-29T05:17:48.286256Z",
     "iopub.status.idle": "2021-05-29T05:17:49.003920Z",
     "shell.execute_reply": "2021-05-29T05:17:49.002921Z",
     "shell.execute_reply.started": "2021-05-29T05:07:05.264651Z"
    },
    "papermill": {
     "duration": 0.850515,
     "end_time": "2021-05-29T05:17:49.004082",
     "exception": false,
     "start_time": "2021-05-29T05:17:48.153567",
     "status": "completed"
    },
    "tags": []
   },
   "outputs": [
    {
     "data": {
      "image/png": "[encoded data removed]",
      "text/plain": [
       "<Figure size 720x360 with 1 Axes>"
      ]
     },
     "metadata": {
      "needs_background": "light"
     },
     "output_type": "display_data"
    }
   ],
   "source": [
    "fig, axs = plt.subplots(figsize=(10,5))\n",
    "sns.set_palette('Set1')\n",
    "sns.histplot(data=train, x='keywordsLen', hue='final_status').set_title('KeywordsLen Distribution', fontdict={'fontsize':20\n",
    "                                                                                   , 'fontweight':'bold'});\n",
    "sns.despine()"
   ]
  },
  {
   "cell_type": "code",
   "execution_count": 45,
   "id": "dominant-calibration",
   "metadata": {
    "execution": {
     "iopub.execute_input": "2021-05-29T05:17:49.220949Z",
     "iopub.status.busy": "2021-05-29T05:17:49.220303Z",
     "iopub.status.idle": "2021-05-29T05:17:49.230488Z",
     "shell.execute_reply": "2021-05-29T05:17:49.231027Z",
     "shell.execute_reply.started": "2021-05-29T05:07:06.044235Z"
    },
    "papermill": {
     "duration": 0.119815,
     "end_time": "2021-05-29T05:17:49.231198",
     "exception": false,
     "start_time": "2021-05-29T05:17:49.111383",
     "status": "completed"
    },
    "tags": []
   },
   "outputs": [
    {
     "data": {
      "text/plain": [
       "count    108129.000000\n",
       "mean         31.655134\n",
       "std          13.726243\n",
       "min           1.000000\n",
       "25%          20.000000\n",
       "50%          31.000000\n",
       "75%          45.000000\n",
       "max         115.000000\n",
       "Name: keywordsLen, dtype: float64"
      ]
     },
     "execution_count": 45,
     "metadata": {},
     "output_type": "execute_result"
    }
   ],
   "source": [
    "train.keywordsLen.describe()"
   ]
  },
  {
   "cell_type": "markdown",
   "id": "double-tobacco",
   "metadata": {
    "papermill": {
     "duration": 0.104082,
     "end_time": "2021-05-29T05:17:49.440821",
     "exception": false,
     "start_time": "2021-05-29T05:17:49.336739",
     "status": "completed"
    },
    "tags": []
   },
   "source": [
    "### Desc vs Final Status"
   ]
  },
  {
   "cell_type": "code",
   "execution_count": 46,
   "id": "unexpected-detective",
   "metadata": {
    "execution": {
     "iopub.execute_input": "2021-05-29T05:17:49.652584Z",
     "iopub.status.busy": "2021-05-29T05:17:49.651849Z",
     "iopub.status.idle": "2021-05-29T05:17:49.750264Z",
     "shell.execute_reply": "2021-05-29T05:17:49.750833Z",
     "shell.execute_reply.started": "2021-05-29T05:07:06.062366Z"
    },
    "papermill": {
     "duration": 0.205727,
     "end_time": "2021-05-29T05:17:49.751014",
     "exception": false,
     "start_time": "2021-05-29T05:17:49.545287",
     "status": "completed"
    },
    "tags": []
   },
   "outputs": [
    {
     "data": {
      "text/html": [
       "<div>\n",
       "<style scoped>\n",
       "    .dataframe tbody tr th:only-of-type {\n",
       "        vertical-align: middle;\n",
       "    }\n",
       "\n",
       "    .dataframe tbody tr th {\n",
       "        vertical-align: top;\n",
       "    }\n",
       "\n",
       "    .dataframe thead th {\n",
       "        text-align: right;\n",
       "    }\n",
       "</style>\n",
       "<table border=\"1\" class=\"dataframe\">\n",
       "  <thead>\n",
       "    <tr style=\"text-align: right;\">\n",
       "      <th></th>\n",
       "      <th>project_id</th>\n",
       "      <th>name</th>\n",
       "      <th>desc</th>\n",
       "      <th>goal</th>\n",
       "      <th>keywords</th>\n",
       "      <th>disable_communication</th>\n",
       "      <th>country</th>\n",
       "      <th>currency</th>\n",
       "      <th>deadline</th>\n",
       "      <th>state_changed_at</th>\n",
       "      <th>created_at</th>\n",
       "      <th>launched_at</th>\n",
       "      <th>backers_count</th>\n",
       "      <th>final_status</th>\n",
       "      <th>log_goal</th>\n",
       "      <th>NameLen</th>\n",
       "      <th>keywordsLen</th>\n",
       "      <th>descLen</th>\n",
       "    </tr>\n",
       "  </thead>\n",
       "  <tbody>\n",
       "    <tr>\n",
       "      <th>0</th>\n",
       "      <td>kkst1451568084</td>\n",
       "      <td>drawing for dollars</td>\n",
       "      <td>I like drawing pictures. and then i color them...</td>\n",
       "      <td>20.0</td>\n",
       "      <td>drawing-for-dollars</td>\n",
       "      <td>False</td>\n",
       "      <td>US</td>\n",
       "      <td>USD</td>\n",
       "      <td>1241333999</td>\n",
       "      <td>1241334017</td>\n",
       "      <td>1240600507</td>\n",
       "      <td>1240602723</td>\n",
       "      <td>3</td>\n",
       "      <td>1</td>\n",
       "      <td>1.0</td>\n",
       "      <td>0.0</td>\n",
       "      <td>19</td>\n",
       "      <td>134.0</td>\n",
       "    </tr>\n",
       "    <tr>\n",
       "      <th>1</th>\n",
       "      <td>kkst1474482071</td>\n",
       "      <td>Sponsor Dereck Blackburn (Lostwars) Artist in ...</td>\n",
       "      <td>I, Dereck Blackburn will be taking upon an inc...</td>\n",
       "      <td>300.0</td>\n",
       "      <td>sponsor-dereck-blackburn-lostwars-artist-in-re...</td>\n",
       "      <td>False</td>\n",
       "      <td>US</td>\n",
       "      <td>USD</td>\n",
       "      <td>1242429000</td>\n",
       "      <td>1242432018</td>\n",
       "      <td>1240960224</td>\n",
       "      <td>1240975592</td>\n",
       "      <td>2</td>\n",
       "      <td>0</td>\n",
       "      <td>1.0</td>\n",
       "      <td>0.0</td>\n",
       "      <td>74</td>\n",
       "      <td>137.0</td>\n",
       "    </tr>\n",
       "    <tr>\n",
       "      <th>2</th>\n",
       "      <td>kkst183622197</td>\n",
       "      <td>Mr. Squiggles</td>\n",
       "      <td>So I saw darkpony's successfully funded drawin...</td>\n",
       "      <td>30.0</td>\n",
       "      <td>mr-squiggles</td>\n",
       "      <td>False</td>\n",
       "      <td>US</td>\n",
       "      <td>USD</td>\n",
       "      <td>1243027560</td>\n",
       "      <td>1243027818</td>\n",
       "      <td>1242163613</td>\n",
       "      <td>1242164398</td>\n",
       "      <td>0</td>\n",
       "      <td>0</td>\n",
       "      <td>1.0</td>\n",
       "      <td>0.0</td>\n",
       "      <td>12</td>\n",
       "      <td>385.0</td>\n",
       "    </tr>\n",
       "    <tr>\n",
       "      <th>3</th>\n",
       "      <td>kkst597742710</td>\n",
       "      <td>Help me write my second novel.</td>\n",
       "      <td>Do your part to help out starving artists and ...</td>\n",
       "      <td>500.0</td>\n",
       "      <td>help-me-write-my-second-novel</td>\n",
       "      <td>False</td>\n",
       "      <td>US</td>\n",
       "      <td>USD</td>\n",
       "      <td>1243555740</td>\n",
       "      <td>1243556121</td>\n",
       "      <td>1240963795</td>\n",
       "      <td>1240966730</td>\n",
       "      <td>18</td>\n",
       "      <td>1</td>\n",
       "      <td>1.0</td>\n",
       "      <td>0.0</td>\n",
       "      <td>29</td>\n",
       "      <td>131.0</td>\n",
       "    </tr>\n",
       "    <tr>\n",
       "      <th>4</th>\n",
       "      <td>kkst1913131122</td>\n",
       "      <td>Support casting my sculpture in bronze</td>\n",
       "      <td>I'm nearing completion on a sculpture, current...</td>\n",
       "      <td>2000.0</td>\n",
       "      <td>support-casting-my-sculpture-in-bronze</td>\n",
       "      <td>False</td>\n",
       "      <td>US</td>\n",
       "      <td>USD</td>\n",
       "      <td>1243769880</td>\n",
       "      <td>1243770317</td>\n",
       "      <td>1241177914</td>\n",
       "      <td>1241180541</td>\n",
       "      <td>1</td>\n",
       "      <td>0</td>\n",
       "      <td>2.0</td>\n",
       "      <td>0.0</td>\n",
       "      <td>38</td>\n",
       "      <td>384.0</td>\n",
       "    </tr>\n",
       "  </tbody>\n",
       "</table>\n",
       "</div>"
      ],
      "text/plain": [
       "       project_id                                               name  \\\n",
       "0  kkst1451568084                                drawing for dollars   \n",
       "1  kkst1474482071  Sponsor Dereck Blackburn (Lostwars) Artist in ...   \n",
       "2   kkst183622197                                      Mr. Squiggles   \n",
       "3   kkst597742710                     Help me write my second novel.   \n",
       "4  kkst1913131122             Support casting my sculpture in bronze   \n",
       "\n",
       "                                                desc    goal  \\\n",
       "0  I like drawing pictures. and then i color them...    20.0   \n",
       "1  I, Dereck Blackburn will be taking upon an inc...   300.0   \n",
       "2  So I saw darkpony's successfully funded drawin...    30.0   \n",
       "3  Do your part to help out starving artists and ...   500.0   \n",
       "4  I'm nearing completion on a sculpture, current...  2000.0   \n",
       "\n",
       "                                            keywords  disable_communication  \\\n",
       "0                                drawing-for-dollars                  False   \n",
       "1  sponsor-dereck-blackburn-lostwars-artist-in-re...                  False   \n",
       "2                                       mr-squiggles                  False   \n",
       "3                      help-me-write-my-second-novel                  False   \n",
       "4             support-casting-my-sculpture-in-bronze                  False   \n",
       "\n",
       "  country currency    deadline  state_changed_at  created_at  launched_at  \\\n",
       "0      US      USD  1241333999        1241334017  1240600507   1240602723   \n",
       "1      US      USD  1242429000        1242432018  1240960224   1240975592   \n",
       "2      US      USD  1243027560        1243027818  1242163613   1242164398   \n",
       "3      US      USD  1243555740        1243556121  1240963795   1240966730   \n",
       "4      US      USD  1243769880        1243770317  1241177914   1241180541   \n",
       "\n",
       "   backers_count  final_status  log_goal  NameLen  keywordsLen  descLen  \n",
       "0              3             1       1.0      0.0           19    134.0  \n",
       "1              2             0       1.0      0.0           74    137.0  \n",
       "2              0             0       1.0      0.0           12    385.0  \n",
       "3             18             1       1.0      0.0           29    131.0  \n",
       "4              1             0       2.0      0.0           38    384.0  "
      ]
     },
     "execution_count": 46,
     "metadata": {},
     "output_type": "execute_result"
    }
   ],
   "source": [
    "train['descLen'] = train['desc'].str.len()\n",
    "train.head(5)"
   ]
  },
  {
   "cell_type": "code",
   "execution_count": 47,
   "id": "qualified-pressure",
   "metadata": {
    "execution": {
     "iopub.execute_input": "2021-05-29T05:17:49.965588Z",
     "iopub.status.busy": "2021-05-29T05:17:49.964940Z",
     "iopub.status.idle": "2021-05-29T05:17:55.763590Z",
     "shell.execute_reply": "2021-05-29T05:17:55.764089Z",
     "shell.execute_reply.started": "2021-05-29T05:07:06.175361Z"
    },
    "papermill": {
     "duration": 5.907305,
     "end_time": "2021-05-29T05:17:55.764263",
     "exception": false,
     "start_time": "2021-05-29T05:17:49.856958",
     "status": "completed"
    },
    "tags": []
   },
   "outputs": [
    {
     "data": {
      "image/png": "[encoded data removed]",
      "text/plain": [
       "<Figure size 720x360 with 1 Axes>"
      ]
     },
     "metadata": {
      "needs_background": "light"
     },
     "output_type": "display_data"
    }
   ],
   "source": [
    "fig, axs = plt.subplots(figsize=(10,5))\n",
    "sns.set_palette('Set1')\n",
    "sns.histplot(data=train, x='descLen', hue='final_status').set_title('DescLen Distribution', fontdict={'fontsize':20\n",
    "                                                                                   , 'fontweight':'bold'});\n",
    "sns.despine()"
   ]
  },
  {
   "cell_type": "code",
   "execution_count": 48,
   "id": "distinct-shirt",
   "metadata": {
    "execution": {
     "iopub.execute_input": "2021-05-29T05:17:55.981454Z",
     "iopub.status.busy": "2021-05-29T05:17:55.980810Z",
     "iopub.status.idle": "2021-05-29T05:17:55.994086Z",
     "shell.execute_reply": "2021-05-29T05:17:55.994657Z",
     "shell.execute_reply.started": "2021-05-29T05:07:12.207708Z"
    },
    "papermill": {
     "duration": 0.122492,
     "end_time": "2021-05-29T05:17:55.994815",
     "exception": false,
     "start_time": "2021-05-29T05:17:55.872323",
     "status": "completed"
    },
    "tags": []
   },
   "outputs": [
    {
     "data": {
      "text/plain": [
       "count    108120.000000\n",
       "mean        134.006067\n",
       "std          79.371327\n",
       "min           1.000000\n",
       "25%         106.000000\n",
       "50%         126.000000\n",
       "75%         133.000000\n",
       "max        1268.000000\n",
       "Name: descLen, dtype: float64"
      ]
     },
     "execution_count": 48,
     "metadata": {},
     "output_type": "execute_result"
    }
   ],
   "source": [
    "train.descLen.describe()"
   ]
  },
  {
   "cell_type": "code",
   "execution_count": 49,
   "id": "living-commitment",
   "metadata": {
    "execution": {
     "iopub.execute_input": "2021-05-29T05:17:56.212472Z",
     "iopub.status.busy": "2021-05-29T05:17:56.211834Z",
     "iopub.status.idle": "2021-05-29T05:18:02.749071Z",
     "shell.execute_reply": "2021-05-29T05:18:02.748510Z",
     "shell.execute_reply.started": "2021-05-29T05:07:12.229931Z"
    },
    "papermill": {
     "duration": 6.647348,
     "end_time": "2021-05-29T05:18:02.749211",
     "exception": false,
     "start_time": "2021-05-29T05:17:56.101863",
     "status": "completed"
    },
    "tags": []
   },
   "outputs": [
    {
     "data": {
      "text/plain": [
       "<seaborn.axisgrid.FacetGrid at 0x7f1550096a10>"
      ]
     },
     "execution_count": 49,
     "metadata": {},
     "output_type": "execute_result"
    },
    {
     "data": {
      "image/png": "[encoded data removed]",
      "text/plain": [
       "<Figure size 425.625x360 with 1 Axes>"
      ]
     },
     "metadata": {
      "needs_background": "light"
     },
     "output_type": "display_data"
    }
   ],
   "source": [
    "sns.displot(x='descLen', hue='final_status', data=train)"
   ]
  },
  {
   "cell_type": "markdown",
   "id": "characteristic-merit",
   "metadata": {
    "papermill": {
     "duration": 0.108004,
     "end_time": "2021-05-29T05:18:02.966174",
     "exception": false,
     "start_time": "2021-05-29T05:18:02.858170",
     "status": "completed"
    },
    "tags": []
   },
   "source": [
    "Bins\n",
    "1. 0-200\n",
    "2. 200-300\n",
    "3. 300-400\n",
    "4. greater than 400"
   ]
  },
  {
   "cell_type": "code",
   "execution_count": 50,
   "id": "freelance-bradley",
   "metadata": {
    "execution": {
     "iopub.execute_input": "2021-05-29T05:18:03.193178Z",
     "iopub.status.busy": "2021-05-29T05:18:03.192221Z",
     "iopub.status.idle": "2021-05-29T05:18:03.203667Z",
     "shell.execute_reply": "2021-05-29T05:18:03.204123Z",
     "shell.execute_reply.started": "2021-05-29T05:07:18.861732Z"
    },
    "papermill": {
     "duration": 0.127233,
     "end_time": "2021-05-29T05:18:03.204326",
     "exception": false,
     "start_time": "2021-05-29T05:18:03.077093",
     "status": "completed"
    },
    "tags": []
   },
   "outputs": [],
   "source": [
    "#descLen bins    \n",
    "train.loc[train['descLen'] > 0 & (train['descLen'] <= 200) , 'descLen'] = 0 \n",
    "train.loc[(train['descLen'] > 200) & (train['descLen']<= 300) , 'descLen'] = 1  \n",
    "train.loc[train['descLen'] > 300 & (train['descLen']<=400), 'descLen'] = 2  \n",
    "train.loc[train['descLen'] > 400 , 'descLen'] = 3  "
   ]
  },
  {
   "cell_type": "markdown",
   "id": "executive-penguin",
   "metadata": {
    "papermill": {
     "duration": 0.108674,
     "end_time": "2021-05-29T05:18:03.420883",
     "exception": false,
     "start_time": "2021-05-29T05:18:03.312209",
     "status": "completed"
    },
    "tags": []
   },
   "source": [
    "### Time duration to launch"
   ]
  },
  {
   "cell_type": "code",
   "execution_count": 51,
   "id": "thousand-integer",
   "metadata": {
    "execution": {
     "iopub.execute_input": "2021-05-29T05:18:03.671361Z",
     "iopub.status.busy": "2021-05-29T05:18:03.670657Z",
     "iopub.status.idle": "2021-05-29T05:18:05.875062Z",
     "shell.execute_reply": "2021-05-29T05:18:05.874451Z",
     "shell.execute_reply.started": "2021-05-29T05:07:18.882480Z"
    },
    "papermill": {
     "duration": 2.322252,
     "end_time": "2021-05-29T05:18:05.875208",
     "exception": false,
     "start_time": "2021-05-29T05:18:03.552956",
     "status": "completed"
    },
    "tags": []
   },
   "outputs": [],
   "source": [
    "# Convert UNIX time format to Standard time format\n",
    "date_time = ['deadline', 'state_changed_at', 'created_at', 'launched_at']\n",
    "for i in date_time:\n",
    "    train[i] = train[i].apply(lambda x: datetime.fromtimestamp(int(x)).strftime('%Y-%m-%d %H:%M:%S'))"
   ]
  },
  {
   "cell_type": "code",
   "execution_count": 52,
   "id": "provincial-soldier",
   "metadata": {
    "execution": {
     "iopub.execute_input": "2021-05-29T05:18:06.096197Z",
     "iopub.status.busy": "2021-05-29T05:18:06.095257Z",
     "iopub.status.idle": "2021-05-29T05:18:06.118868Z",
     "shell.execute_reply": "2021-05-29T05:18:06.118355Z",
     "shell.execute_reply.started": "2021-05-29T05:07:21.181903Z"
    },
    "papermill": {
     "duration": 0.134975,
     "end_time": "2021-05-29T05:18:06.119026",
     "exception": false,
     "start_time": "2021-05-29T05:18:05.984051",
     "status": "completed"
    },
    "tags": []
   },
   "outputs": [
    {
     "data": {
      "text/html": [
       "<div>\n",
       "<style scoped>\n",
       "    .dataframe tbody tr th:only-of-type {\n",
       "        vertical-align: middle;\n",
       "    }\n",
       "\n",
       "    .dataframe tbody tr th {\n",
       "        vertical-align: top;\n",
       "    }\n",
       "\n",
       "    .dataframe thead th {\n",
       "        text-align: right;\n",
       "    }\n",
       "</style>\n",
       "<table border=\"1\" class=\"dataframe\">\n",
       "  <thead>\n",
       "    <tr style=\"text-align: right;\">\n",
       "      <th></th>\n",
       "      <th>project_id</th>\n",
       "      <th>name</th>\n",
       "      <th>desc</th>\n",
       "      <th>goal</th>\n",
       "      <th>keywords</th>\n",
       "      <th>disable_communication</th>\n",
       "      <th>country</th>\n",
       "      <th>currency</th>\n",
       "      <th>deadline</th>\n",
       "      <th>state_changed_at</th>\n",
       "      <th>created_at</th>\n",
       "      <th>launched_at</th>\n",
       "      <th>backers_count</th>\n",
       "      <th>final_status</th>\n",
       "      <th>log_goal</th>\n",
       "      <th>NameLen</th>\n",
       "      <th>keywordsLen</th>\n",
       "      <th>descLen</th>\n",
       "    </tr>\n",
       "  </thead>\n",
       "  <tbody>\n",
       "    <tr>\n",
       "      <th>0</th>\n",
       "      <td>kkst1451568084</td>\n",
       "      <td>drawing for dollars</td>\n",
       "      <td>I like drawing pictures. and then i color them...</td>\n",
       "      <td>20.0</td>\n",
       "      <td>drawing-for-dollars</td>\n",
       "      <td>False</td>\n",
       "      <td>US</td>\n",
       "      <td>USD</td>\n",
       "      <td>2009-05-03 12:29:59</td>\n",
       "      <td>2009-05-03 12:30:17</td>\n",
       "      <td>2009-04-25 00:45:07</td>\n",
       "      <td>2009-04-25 01:22:03</td>\n",
       "      <td>3</td>\n",
       "      <td>1</td>\n",
       "      <td>1.0</td>\n",
       "      <td>0.0</td>\n",
       "      <td>19</td>\n",
       "      <td>0.0</td>\n",
       "    </tr>\n",
       "    <tr>\n",
       "      <th>1</th>\n",
       "      <td>kkst1474482071</td>\n",
       "      <td>Sponsor Dereck Blackburn (Lostwars) Artist in ...</td>\n",
       "      <td>I, Dereck Blackburn will be taking upon an inc...</td>\n",
       "      <td>300.0</td>\n",
       "      <td>sponsor-dereck-blackburn-lostwars-artist-in-re...</td>\n",
       "      <td>False</td>\n",
       "      <td>US</td>\n",
       "      <td>USD</td>\n",
       "      <td>2009-05-16 04:40:00</td>\n",
       "      <td>2009-05-16 05:30:18</td>\n",
       "      <td>2009-04-29 04:40:24</td>\n",
       "      <td>2009-04-29 08:56:32</td>\n",
       "      <td>2</td>\n",
       "      <td>0</td>\n",
       "      <td>1.0</td>\n",
       "      <td>0.0</td>\n",
       "      <td>74</td>\n",
       "      <td>0.0</td>\n",
       "    </tr>\n",
       "    <tr>\n",
       "      <th>2</th>\n",
       "      <td>kkst183622197</td>\n",
       "      <td>Mr. Squiggles</td>\n",
       "      <td>So I saw darkpony's successfully funded drawin...</td>\n",
       "      <td>30.0</td>\n",
       "      <td>mr-squiggles</td>\n",
       "      <td>False</td>\n",
       "      <td>US</td>\n",
       "      <td>USD</td>\n",
       "      <td>2009-05-23 02:56:00</td>\n",
       "      <td>2009-05-23 03:00:18</td>\n",
       "      <td>2009-05-13 02:56:53</td>\n",
       "      <td>2009-05-13 03:09:58</td>\n",
       "      <td>0</td>\n",
       "      <td>0</td>\n",
       "      <td>1.0</td>\n",
       "      <td>0.0</td>\n",
       "      <td>12</td>\n",
       "      <td>0.0</td>\n",
       "    </tr>\n",
       "    <tr>\n",
       "      <th>3</th>\n",
       "      <td>kkst597742710</td>\n",
       "      <td>Help me write my second novel.</td>\n",
       "      <td>Do your part to help out starving artists and ...</td>\n",
       "      <td>500.0</td>\n",
       "      <td>help-me-write-my-second-novel</td>\n",
       "      <td>False</td>\n",
       "      <td>US</td>\n",
       "      <td>USD</td>\n",
       "      <td>2009-05-29 05:39:00</td>\n",
       "      <td>2009-05-29 05:45:21</td>\n",
       "      <td>2009-04-29 05:39:55</td>\n",
       "      <td>2009-04-29 06:28:50</td>\n",
       "      <td>18</td>\n",
       "      <td>1</td>\n",
       "      <td>1.0</td>\n",
       "      <td>0.0</td>\n",
       "      <td>29</td>\n",
       "      <td>0.0</td>\n",
       "    </tr>\n",
       "    <tr>\n",
       "      <th>4</th>\n",
       "      <td>kkst1913131122</td>\n",
       "      <td>Support casting my sculpture in bronze</td>\n",
       "      <td>I'm nearing completion on a sculpture, current...</td>\n",
       "      <td>2000.0</td>\n",
       "      <td>support-casting-my-sculpture-in-bronze</td>\n",
       "      <td>False</td>\n",
       "      <td>US</td>\n",
       "      <td>USD</td>\n",
       "      <td>2009-05-31 17:08:00</td>\n",
       "      <td>2009-05-31 17:15:17</td>\n",
       "      <td>2009-05-01 17:08:34</td>\n",
       "      <td>2009-05-01 17:52:21</td>\n",
       "      <td>1</td>\n",
       "      <td>0</td>\n",
       "      <td>2.0</td>\n",
       "      <td>0.0</td>\n",
       "      <td>38</td>\n",
       "      <td>0.0</td>\n",
       "    </tr>\n",
       "  </tbody>\n",
       "</table>\n",
       "</div>"
      ],
      "text/plain": [
       "       project_id                                               name  \\\n",
       "0  kkst1451568084                                drawing for dollars   \n",
       "1  kkst1474482071  Sponsor Dereck Blackburn (Lostwars) Artist in ...   \n",
       "2   kkst183622197                                      Mr. Squiggles   \n",
       "3   kkst597742710                     Help me write my second novel.   \n",
       "4  kkst1913131122             Support casting my sculpture in bronze   \n",
       "\n",
       "                                                desc    goal  \\\n",
       "0  I like drawing pictures. and then i color them...    20.0   \n",
       "1  I, Dereck Blackburn will be taking upon an inc...   300.0   \n",
       "2  So I saw darkpony's successfully funded drawin...    30.0   \n",
       "3  Do your part to help out starving artists and ...   500.0   \n",
       "4  I'm nearing completion on a sculpture, current...  2000.0   \n",
       "\n",
       "                                            keywords  disable_communication  \\\n",
       "0                                drawing-for-dollars                  False   \n",
       "1  sponsor-dereck-blackburn-lostwars-artist-in-re...                  False   \n",
       "2                                       mr-squiggles                  False   \n",
       "3                      help-me-write-my-second-novel                  False   \n",
       "4             support-casting-my-sculpture-in-bronze                  False   \n",
       "\n",
       "  country currency             deadline     state_changed_at  \\\n",
       "0      US      USD  2009-05-03 12:29:59  2009-05-03 12:30:17   \n",
       "1      US      USD  2009-05-16 04:40:00  2009-05-16 05:30:18   \n",
       "2      US      USD  2009-05-23 02:56:00  2009-05-23 03:00:18   \n",
       "3      US      USD  2009-05-29 05:39:00  2009-05-29 05:45:21   \n",
       "4      US      USD  2009-05-31 17:08:00  2009-05-31 17:15:17   \n",
       "\n",
       "            created_at          launched_at  backers_count  final_status  \\\n",
       "0  2009-04-25 00:45:07  2009-04-25 01:22:03              3             1   \n",
       "1  2009-04-29 04:40:24  2009-04-29 08:56:32              2             0   \n",
       "2  2009-05-13 02:56:53  2009-05-13 03:09:58              0             0   \n",
       "3  2009-04-29 05:39:55  2009-04-29 06:28:50             18             1   \n",
       "4  2009-05-01 17:08:34  2009-05-01 17:52:21              1             0   \n",
       "\n",
       "   log_goal  NameLen  keywordsLen  descLen  \n",
       "0       1.0      0.0           19      0.0  \n",
       "1       1.0      0.0           74      0.0  \n",
       "2       1.0      0.0           12      0.0  \n",
       "3       1.0      0.0           29      0.0  \n",
       "4       2.0      0.0           38      0.0  "
      ]
     },
     "execution_count": 52,
     "metadata": {},
     "output_type": "execute_result"
    }
   ],
   "source": [
    "train.head(5)"
   ]
  },
  {
   "cell_type": "code",
   "execution_count": 53,
   "id": "compound-summit",
   "metadata": {
    "execution": {
     "iopub.execute_input": "2021-05-29T05:18:06.343635Z",
     "iopub.status.busy": "2021-05-29T05:18:06.342541Z",
     "iopub.status.idle": "2021-05-29T05:18:11.226098Z",
     "shell.execute_reply": "2021-05-29T05:18:11.225453Z",
     "shell.execute_reply.started": "2021-05-29T05:07:21.217334Z"
    },
    "papermill": {
     "duration": 4.999123,
     "end_time": "2021-05-29T05:18:11.226251",
     "exception": false,
     "start_time": "2021-05-29T05:18:06.227128",
     "status": "completed"
    },
    "tags": []
   },
   "outputs": [],
   "source": [
    "# Duration in weeks\n",
    "def Duration(d):\n",
    "    launch = datetime.strptime(d[0], '%Y-%m-%d %H:%M:%S')\n",
    "    deadline = datetime.strptime(d[1], '%Y-%m-%d %H:%M:%S')\n",
    "    duration = deadline-launch\n",
    "    weekDifference = int(duration.total_seconds()/(3600*24*7))\n",
    "    return weekDifference\n",
    "train['duration'] = train[['launched_at', 'deadline']].apply(lambda d: Duration(d), axis=1)"
   ]
  },
  {
   "cell_type": "code",
   "execution_count": 54,
   "id": "tamil-singer",
   "metadata": {
    "execution": {
     "iopub.execute_input": "2021-05-29T05:18:11.468291Z",
     "iopub.status.busy": "2021-05-29T05:18:11.467297Z",
     "iopub.status.idle": "2021-05-29T05:18:11.471023Z",
     "shell.execute_reply": "2021-05-29T05:18:11.471510Z",
     "shell.execute_reply.started": "2021-05-29T05:07:26.157894Z"
    },
    "papermill": {
     "duration": 0.136133,
     "end_time": "2021-05-29T05:18:11.471675",
     "exception": false,
     "start_time": "2021-05-29T05:18:11.335542",
     "status": "completed"
    },
    "tags": []
   },
   "outputs": [
    {
     "data": {
      "text/html": [
       "<div>\n",
       "<style scoped>\n",
       "    .dataframe tbody tr th:only-of-type {\n",
       "        vertical-align: middle;\n",
       "    }\n",
       "\n",
       "    .dataframe tbody tr th {\n",
       "        vertical-align: top;\n",
       "    }\n",
       "\n",
       "    .dataframe thead th {\n",
       "        text-align: right;\n",
       "    }\n",
       "</style>\n",
       "<table border=\"1\" class=\"dataframe\">\n",
       "  <thead>\n",
       "    <tr style=\"text-align: right;\">\n",
       "      <th></th>\n",
       "      <th>project_id</th>\n",
       "      <th>name</th>\n",
       "      <th>desc</th>\n",
       "      <th>goal</th>\n",
       "      <th>keywords</th>\n",
       "      <th>disable_communication</th>\n",
       "      <th>country</th>\n",
       "      <th>currency</th>\n",
       "      <th>deadline</th>\n",
       "      <th>state_changed_at</th>\n",
       "      <th>created_at</th>\n",
       "      <th>launched_at</th>\n",
       "      <th>backers_count</th>\n",
       "      <th>final_status</th>\n",
       "      <th>log_goal</th>\n",
       "      <th>NameLen</th>\n",
       "      <th>keywordsLen</th>\n",
       "      <th>descLen</th>\n",
       "      <th>duration</th>\n",
       "    </tr>\n",
       "  </thead>\n",
       "  <tbody>\n",
       "    <tr>\n",
       "      <th>0</th>\n",
       "      <td>kkst1451568084</td>\n",
       "      <td>drawing for dollars</td>\n",
       "      <td>I like drawing pictures. and then i color them...</td>\n",
       "      <td>20.0</td>\n",
       "      <td>drawing-for-dollars</td>\n",
       "      <td>False</td>\n",
       "      <td>US</td>\n",
       "      <td>USD</td>\n",
       "      <td>2009-05-03 12:29:59</td>\n",
       "      <td>2009-05-03 12:30:17</td>\n",
       "      <td>2009-04-25 00:45:07</td>\n",
       "      <td>2009-04-25 01:22:03</td>\n",
       "      <td>3</td>\n",
       "      <td>1</td>\n",
       "      <td>1.0</td>\n",
       "      <td>0.0</td>\n",
       "      <td>19</td>\n",
       "      <td>0.0</td>\n",
       "      <td>1</td>\n",
       "    </tr>\n",
       "    <tr>\n",
       "      <th>1</th>\n",
       "      <td>kkst1474482071</td>\n",
       "      <td>Sponsor Dereck Blackburn (Lostwars) Artist in ...</td>\n",
       "      <td>I, Dereck Blackburn will be taking upon an inc...</td>\n",
       "      <td>300.0</td>\n",
       "      <td>sponsor-dereck-blackburn-lostwars-artist-in-re...</td>\n",
       "      <td>False</td>\n",
       "      <td>US</td>\n",
       "      <td>USD</td>\n",
       "      <td>2009-05-16 04:40:00</td>\n",
       "      <td>2009-05-16 05:30:18</td>\n",
       "      <td>2009-04-29 04:40:24</td>\n",
       "      <td>2009-04-29 08:56:32</td>\n",
       "      <td>2</td>\n",
       "      <td>0</td>\n",
       "      <td>1.0</td>\n",
       "      <td>0.0</td>\n",
       "      <td>74</td>\n",
       "      <td>0.0</td>\n",
       "      <td>2</td>\n",
       "    </tr>\n",
       "    <tr>\n",
       "      <th>2</th>\n",
       "      <td>kkst183622197</td>\n",
       "      <td>Mr. Squiggles</td>\n",
       "      <td>So I saw darkpony's successfully funded drawin...</td>\n",
       "      <td>30.0</td>\n",
       "      <td>mr-squiggles</td>\n",
       "      <td>False</td>\n",
       "      <td>US</td>\n",
       "      <td>USD</td>\n",
       "      <td>2009-05-23 02:56:00</td>\n",
       "      <td>2009-05-23 03:00:18</td>\n",
       "      <td>2009-05-13 02:56:53</td>\n",
       "      <td>2009-05-13 03:09:58</td>\n",
       "      <td>0</td>\n",
       "      <td>0</td>\n",
       "      <td>1.0</td>\n",
       "      <td>0.0</td>\n",
       "      <td>12</td>\n",
       "      <td>0.0</td>\n",
       "      <td>1</td>\n",
       "    </tr>\n",
       "    <tr>\n",
       "      <th>3</th>\n",
       "      <td>kkst597742710</td>\n",
       "      <td>Help me write my second novel.</td>\n",
       "      <td>Do your part to help out starving artists and ...</td>\n",
       "      <td>500.0</td>\n",
       "      <td>help-me-write-my-second-novel</td>\n",
       "      <td>False</td>\n",
       "      <td>US</td>\n",
       "      <td>USD</td>\n",
       "      <td>2009-05-29 05:39:00</td>\n",
       "      <td>2009-05-29 05:45:21</td>\n",
       "      <td>2009-04-29 05:39:55</td>\n",
       "      <td>2009-04-29 06:28:50</td>\n",
       "      <td>18</td>\n",
       "      <td>1</td>\n",
       "      <td>1.0</td>\n",
       "      <td>0.0</td>\n",
       "      <td>29</td>\n",
       "      <td>0.0</td>\n",
       "      <td>4</td>\n",
       "    </tr>\n",
       "    <tr>\n",
       "      <th>4</th>\n",
       "      <td>kkst1913131122</td>\n",
       "      <td>Support casting my sculpture in bronze</td>\n",
       "      <td>I'm nearing completion on a sculpture, current...</td>\n",
       "      <td>2000.0</td>\n",
       "      <td>support-casting-my-sculpture-in-bronze</td>\n",
       "      <td>False</td>\n",
       "      <td>US</td>\n",
       "      <td>USD</td>\n",
       "      <td>2009-05-31 17:08:00</td>\n",
       "      <td>2009-05-31 17:15:17</td>\n",
       "      <td>2009-05-01 17:08:34</td>\n",
       "      <td>2009-05-01 17:52:21</td>\n",
       "      <td>1</td>\n",
       "      <td>0</td>\n",
       "      <td>2.0</td>\n",
       "      <td>0.0</td>\n",
       "      <td>38</td>\n",
       "      <td>0.0</td>\n",
       "      <td>4</td>\n",
       "    </tr>\n",
       "  </tbody>\n",
       "</table>\n",
       "</div>"
      ],
      "text/plain": [
       "       project_id                                               name  \\\n",
       "0  kkst1451568084                                drawing for dollars   \n",
       "1  kkst1474482071  Sponsor Dereck Blackburn (Lostwars) Artist in ...   \n",
       "2   kkst183622197                                      Mr. Squiggles   \n",
       "3   kkst597742710                     Help me write my second novel.   \n",
       "4  kkst1913131122             Support casting my sculpture in bronze   \n",
       "\n",
       "                                                desc    goal  \\\n",
       "0  I like drawing pictures. and then i color them...    20.0   \n",
       "1  I, Dereck Blackburn will be taking upon an inc...   300.0   \n",
       "2  So I saw darkpony's successfully funded drawin...    30.0   \n",
       "3  Do your part to help out starving artists and ...   500.0   \n",
       "4  I'm nearing completion on a sculpture, current...  2000.0   \n",
       "\n",
       "                                            keywords  disable_communication  \\\n",
       "0                                drawing-for-dollars                  False   \n",
       "1  sponsor-dereck-blackburn-lostwars-artist-in-re...                  False   \n",
       "2                                       mr-squiggles                  False   \n",
       "3                      help-me-write-my-second-novel                  False   \n",
       "4             support-casting-my-sculpture-in-bronze                  False   \n",
       "\n",
       "  country currency             deadline     state_changed_at  \\\n",
       "0      US      USD  2009-05-03 12:29:59  2009-05-03 12:30:17   \n",
       "1      US      USD  2009-05-16 04:40:00  2009-05-16 05:30:18   \n",
       "2      US      USD  2009-05-23 02:56:00  2009-05-23 03:00:18   \n",
       "3      US      USD  2009-05-29 05:39:00  2009-05-29 05:45:21   \n",
       "4      US      USD  2009-05-31 17:08:00  2009-05-31 17:15:17   \n",
       "\n",
       "            created_at          launched_at  backers_count  final_status  \\\n",
       "0  2009-04-25 00:45:07  2009-04-25 01:22:03              3             1   \n",
       "1  2009-04-29 04:40:24  2009-04-29 08:56:32              2             0   \n",
       "2  2009-05-13 02:56:53  2009-05-13 03:09:58              0             0   \n",
       "3  2009-04-29 05:39:55  2009-04-29 06:28:50             18             1   \n",
       "4  2009-05-01 17:08:34  2009-05-01 17:52:21              1             0   \n",
       "\n",
       "   log_goal  NameLen  keywordsLen  descLen  duration  \n",
       "0       1.0      0.0           19      0.0         1  \n",
       "1       1.0      0.0           74      0.0         2  \n",
       "2       1.0      0.0           12      0.0         1  \n",
       "3       1.0      0.0           29      0.0         4  \n",
       "4       2.0      0.0           38      0.0         4  "
      ]
     },
     "execution_count": 54,
     "metadata": {},
     "output_type": "execute_result"
    }
   ],
   "source": [
    "train.head(5)"
   ]
  },
  {
   "cell_type": "code",
   "execution_count": 55,
   "id": "mysterious-stations",
   "metadata": {
    "execution": {
     "iopub.execute_input": "2021-05-29T05:18:11.694222Z",
     "iopub.status.busy": "2021-05-29T05:18:11.693596Z",
     "iopub.status.idle": "2021-05-29T05:18:11.703605Z",
     "shell.execute_reply": "2021-05-29T05:18:11.702951Z",
     "shell.execute_reply.started": "2021-05-29T05:07:26.185683Z"
    },
    "papermill": {
     "duration": 0.123377,
     "end_time": "2021-05-29T05:18:11.703744",
     "exception": false,
     "start_time": "2021-05-29T05:18:11.580367",
     "status": "completed"
    },
    "tags": []
   },
   "outputs": [
    {
     "data": {
      "text/plain": [
       "count    108129.000000\n",
       "mean          4.487834\n",
       "std           1.797238\n",
       "min           0.000000\n",
       "25%           4.000000\n",
       "50%           4.000000\n",
       "75%           5.000000\n",
       "max          13.000000\n",
       "Name: duration, dtype: float64"
      ]
     },
     "execution_count": 55,
     "metadata": {},
     "output_type": "execute_result"
    }
   ],
   "source": [
    "train.duration.describe()"
   ]
  },
  {
   "cell_type": "code",
   "execution_count": 56,
   "id": "realistic-connection",
   "metadata": {
    "execution": {
     "iopub.execute_input": "2021-05-29T05:18:11.955703Z",
     "iopub.status.busy": "2021-05-29T05:18:11.949090Z",
     "iopub.status.idle": "2021-05-29T05:18:12.918773Z",
     "shell.execute_reply": "2021-05-29T05:18:12.918284Z",
     "shell.execute_reply.started": "2021-05-29T05:07:26.202956Z"
    },
    "papermill": {
     "duration": 1.105834,
     "end_time": "2021-05-29T05:18:12.918912",
     "exception": false,
     "start_time": "2021-05-29T05:18:11.813078",
     "status": "completed"
    },
    "tags": []
   },
   "outputs": [
    {
     "data": {
      "image/png": "[encoded data removed]",
      "text/plain": [
       "<Figure size 720x360 with 1 Axes>"
      ]
     },
     "metadata": {
      "needs_background": "light"
     },
     "output_type": "display_data"
    }
   ],
   "source": [
    "fig, axs = plt.subplots(figsize=(10,5))\n",
    "sns.set_palette('Set1')\n",
    "sns.histplot(data=train, x='duration').set_title('Duration Distribution', fontdict={'fontsize':20\n",
    "                                                                                   , 'fontweight':'bold'});\n",
    "sns.despine()"
   ]
  },
  {
   "cell_type": "code",
   "execution_count": 57,
   "id": "medieval-chinese",
   "metadata": {
    "execution": {
     "iopub.execute_input": "2021-05-29T05:18:13.146910Z",
     "iopub.status.busy": "2021-05-29T05:18:13.146260Z",
     "iopub.status.idle": "2021-05-29T05:18:15.634250Z",
     "shell.execute_reply": "2021-05-29T05:18:15.634743Z",
     "shell.execute_reply.started": "2021-05-29T05:07:27.386814Z"
    },
    "papermill": {
     "duration": 2.605517,
     "end_time": "2021-05-29T05:18:15.634908",
     "exception": false,
     "start_time": "2021-05-29T05:18:13.029391",
     "status": "completed"
    },
    "tags": []
   },
   "outputs": [
    {
     "data": {
      "image/png": "[encoded data removed]",
      "text/plain": [
       "<Figure size 1080x360 with 1 Axes>"
      ]
     },
     "metadata": {
      "needs_background": "light"
     },
     "output_type": "display_data"
    }
   ],
   "source": [
    "auxlog_goal = pd.cut(train['duration'], 8)\n",
    "fig, axs = plt.subplots(figsize=(15,5))\n",
    "sns.countplot(x=auxlog_goal, hue='final_status', data=train).set_title('Duration Bins', fontdict={'fontsize':20\n",
    "                                                                                                 , 'fontweight': 'bold'})\n",
    "sns.despine()"
   ]
  },
  {
   "cell_type": "code",
   "execution_count": 58,
   "id": "thrown-familiar",
   "metadata": {
    "execution": {
     "iopub.execute_input": "2021-05-29T05:18:15.861247Z",
     "iopub.status.busy": "2021-05-29T05:18:15.860290Z",
     "iopub.status.idle": "2021-05-29T05:18:15.877533Z",
     "shell.execute_reply": "2021-05-29T05:18:15.878085Z",
     "shell.execute_reply.started": "2021-05-29T05:07:30.418867Z"
    },
    "papermill": {
     "duration": 0.131753,
     "end_time": "2021-05-29T05:18:15.878258",
     "exception": false,
     "start_time": "2021-05-29T05:18:15.746505",
     "status": "completed"
    },
    "tags": []
   },
   "outputs": [],
   "source": [
    "#Duration bins   \n",
    "train.loc[train['duration'] >= 2 , 'duration'] = 0\n",
    "train.loc[train['duration'] > 2 & (train['duration'] <= 4) , 'duration'] = 1  \n",
    "train.loc[train['duration'] > 4 & (train['duration']<= 6) , 'duration'] = 2  \n",
    "train.loc[train['duration'] > 6 & (train['duration']<=8), 'duration'] = 3   \n",
    "train.loc[train['duration'] > 8 , 'duration'] = 4   "
   ]
  },
  {
   "cell_type": "markdown",
   "id": "emerging-vector",
   "metadata": {
    "papermill": {
     "duration": 0.111467,
     "end_time": "2021-05-29T05:18:16.101297",
     "exception": false,
     "start_time": "2021-05-29T05:18:15.989830",
     "status": "completed"
    },
    "tags": []
   },
   "source": [
    "### Disable Communication vs Final Status"
   ]
  },
  {
   "cell_type": "code",
   "execution_count": 59,
   "id": "exclusive-northeast",
   "metadata": {
    "execution": {
     "iopub.execute_input": "2021-05-29T05:18:16.327380Z",
     "iopub.status.busy": "2021-05-29T05:18:16.326425Z",
     "iopub.status.idle": "2021-05-29T05:18:16.337444Z",
     "shell.execute_reply": "2021-05-29T05:18:16.336752Z",
     "shell.execute_reply.started": "2021-05-29T05:07:30.445270Z"
    },
    "papermill": {
     "duration": 0.124815,
     "end_time": "2021-05-29T05:18:16.337588",
     "exception": false,
     "start_time": "2021-05-29T05:18:16.212773",
     "status": "completed"
    },
    "tags": []
   },
   "outputs": [
    {
     "data": {
      "text/plain": [
       "count     108129\n",
       "unique         2\n",
       "top        False\n",
       "freq      107806\n",
       "Name: disable_communication, dtype: object"
      ]
     },
     "execution_count": 59,
     "metadata": {},
     "output_type": "execute_result"
    }
   ],
   "source": [
    "train.disable_communication.describe()"
   ]
  },
  {
   "cell_type": "code",
   "execution_count": 60,
   "id": "adequate-region",
   "metadata": {
    "execution": {
     "iopub.execute_input": "2021-05-29T05:18:16.569728Z",
     "iopub.status.busy": "2021-05-29T05:18:16.569095Z",
     "iopub.status.idle": "2021-05-29T05:18:16.742280Z",
     "shell.execute_reply": "2021-05-29T05:18:16.741621Z",
     "shell.execute_reply.started": "2021-05-29T05:07:30.460712Z"
    },
    "papermill": {
     "duration": 0.291334,
     "end_time": "2021-05-29T05:18:16.742419",
     "exception": false,
     "start_time": "2021-05-29T05:18:16.451085",
     "status": "completed"
    },
    "tags": []
   },
   "outputs": [
    {
     "data": {
      "text/plain": [
       "<AxesSubplot:xlabel='disable_communication', ylabel='count'>"
      ]
     },
     "execution_count": 60,
     "metadata": {},
     "output_type": "execute_result"
    },
    {
     "data": {
      "image/png": "[encoded data removed]",
      "text/plain": [
       "<Figure size 432x288 with 1 Axes>"
      ]
     },
     "metadata": {
      "needs_background": "light"
     },
     "output_type": "display_data"
    }
   ],
   "source": [
    "sns.countplot(data = train, x = 'disable_communication', hue= 'final_status')"
   ]
  },
  {
   "cell_type": "code",
   "execution_count": 61,
   "id": "polyphonic-benefit",
   "metadata": {
    "execution": {
     "iopub.execute_input": "2021-05-29T05:18:16.993387Z",
     "iopub.status.busy": "2021-05-29T05:18:16.992750Z",
     "iopub.status.idle": "2021-05-29T05:18:16.997349Z",
     "shell.execute_reply": "2021-05-29T05:18:16.996830Z",
     "shell.execute_reply.started": "2021-05-29T05:07:30.654568Z"
    },
    "papermill": {
     "duration": 0.141264,
     "end_time": "2021-05-29T05:18:16.997489",
     "exception": false,
     "start_time": "2021-05-29T05:18:16.856225",
     "status": "completed"
    },
    "tags": []
   },
   "outputs": [
    {
     "data": {
      "text/html": [
       "<div>\n",
       "<style scoped>\n",
       "    .dataframe tbody tr th:only-of-type {\n",
       "        vertical-align: middle;\n",
       "    }\n",
       "\n",
       "    .dataframe tbody tr th {\n",
       "        vertical-align: top;\n",
       "    }\n",
       "\n",
       "    .dataframe thead th {\n",
       "        text-align: right;\n",
       "    }\n",
       "</style>\n",
       "<table border=\"1\" class=\"dataframe\">\n",
       "  <thead>\n",
       "    <tr style=\"text-align: right;\">\n",
       "      <th></th>\n",
       "      <th>project_id</th>\n",
       "      <th>name</th>\n",
       "      <th>desc</th>\n",
       "      <th>goal</th>\n",
       "      <th>keywords</th>\n",
       "      <th>disable_communication</th>\n",
       "      <th>country</th>\n",
       "      <th>currency</th>\n",
       "      <th>deadline</th>\n",
       "      <th>state_changed_at</th>\n",
       "      <th>created_at</th>\n",
       "      <th>launched_at</th>\n",
       "      <th>backers_count</th>\n",
       "      <th>final_status</th>\n",
       "      <th>log_goal</th>\n",
       "      <th>NameLen</th>\n",
       "      <th>keywordsLen</th>\n",
       "      <th>descLen</th>\n",
       "      <th>duration</th>\n",
       "    </tr>\n",
       "  </thead>\n",
       "  <tbody>\n",
       "    <tr>\n",
       "      <th>0</th>\n",
       "      <td>kkst1451568084</td>\n",
       "      <td>drawing for dollars</td>\n",
       "      <td>I like drawing pictures. and then i color them...</td>\n",
       "      <td>20.0</td>\n",
       "      <td>drawing-for-dollars</td>\n",
       "      <td>False</td>\n",
       "      <td>US</td>\n",
       "      <td>USD</td>\n",
       "      <td>2009-05-03 12:29:59</td>\n",
       "      <td>2009-05-03 12:30:17</td>\n",
       "      <td>2009-04-25 00:45:07</td>\n",
       "      <td>2009-04-25 01:22:03</td>\n",
       "      <td>3</td>\n",
       "      <td>1</td>\n",
       "      <td>1.0</td>\n",
       "      <td>0.0</td>\n",
       "      <td>19</td>\n",
       "      <td>0.0</td>\n",
       "      <td>3</td>\n",
       "    </tr>\n",
       "    <tr>\n",
       "      <th>1</th>\n",
       "      <td>kkst1474482071</td>\n",
       "      <td>Sponsor Dereck Blackburn (Lostwars) Artist in ...</td>\n",
       "      <td>I, Dereck Blackburn will be taking upon an inc...</td>\n",
       "      <td>300.0</td>\n",
       "      <td>sponsor-dereck-blackburn-lostwars-artist-in-re...</td>\n",
       "      <td>False</td>\n",
       "      <td>US</td>\n",
       "      <td>USD</td>\n",
       "      <td>2009-05-16 04:40:00</td>\n",
       "      <td>2009-05-16 05:30:18</td>\n",
       "      <td>2009-04-29 04:40:24</td>\n",
       "      <td>2009-04-29 08:56:32</td>\n",
       "      <td>2</td>\n",
       "      <td>0</td>\n",
       "      <td>1.0</td>\n",
       "      <td>0.0</td>\n",
       "      <td>74</td>\n",
       "      <td>0.0</td>\n",
       "      <td>0</td>\n",
       "    </tr>\n",
       "    <tr>\n",
       "      <th>2</th>\n",
       "      <td>kkst183622197</td>\n",
       "      <td>Mr. Squiggles</td>\n",
       "      <td>So I saw darkpony's successfully funded drawin...</td>\n",
       "      <td>30.0</td>\n",
       "      <td>mr-squiggles</td>\n",
       "      <td>False</td>\n",
       "      <td>US</td>\n",
       "      <td>USD</td>\n",
       "      <td>2009-05-23 02:56:00</td>\n",
       "      <td>2009-05-23 03:00:18</td>\n",
       "      <td>2009-05-13 02:56:53</td>\n",
       "      <td>2009-05-13 03:09:58</td>\n",
       "      <td>0</td>\n",
       "      <td>0</td>\n",
       "      <td>1.0</td>\n",
       "      <td>0.0</td>\n",
       "      <td>12</td>\n",
       "      <td>0.0</td>\n",
       "      <td>3</td>\n",
       "    </tr>\n",
       "    <tr>\n",
       "      <th>3</th>\n",
       "      <td>kkst597742710</td>\n",
       "      <td>Help me write my second novel.</td>\n",
       "      <td>Do your part to help out starving artists and ...</td>\n",
       "      <td>500.0</td>\n",
       "      <td>help-me-write-my-second-novel</td>\n",
       "      <td>False</td>\n",
       "      <td>US</td>\n",
       "      <td>USD</td>\n",
       "      <td>2009-05-29 05:39:00</td>\n",
       "      <td>2009-05-29 05:45:21</td>\n",
       "      <td>2009-04-29 05:39:55</td>\n",
       "      <td>2009-04-29 06:28:50</td>\n",
       "      <td>18</td>\n",
       "      <td>1</td>\n",
       "      <td>1.0</td>\n",
       "      <td>0.0</td>\n",
       "      <td>29</td>\n",
       "      <td>0.0</td>\n",
       "      <td>0</td>\n",
       "    </tr>\n",
       "    <tr>\n",
       "      <th>4</th>\n",
       "      <td>kkst1913131122</td>\n",
       "      <td>Support casting my sculpture in bronze</td>\n",
       "      <td>I'm nearing completion on a sculpture, current...</td>\n",
       "      <td>2000.0</td>\n",
       "      <td>support-casting-my-sculpture-in-bronze</td>\n",
       "      <td>False</td>\n",
       "      <td>US</td>\n",
       "      <td>USD</td>\n",
       "      <td>2009-05-31 17:08:00</td>\n",
       "      <td>2009-05-31 17:15:17</td>\n",
       "      <td>2009-05-01 17:08:34</td>\n",
       "      <td>2009-05-01 17:52:21</td>\n",
       "      <td>1</td>\n",
       "      <td>0</td>\n",
       "      <td>2.0</td>\n",
       "      <td>0.0</td>\n",
       "      <td>38</td>\n",
       "      <td>0.0</td>\n",
       "      <td>0</td>\n",
       "    </tr>\n",
       "  </tbody>\n",
       "</table>\n",
       "</div>"
      ],
      "text/plain": [
       "       project_id                                               name  \\\n",
       "0  kkst1451568084                                drawing for dollars   \n",
       "1  kkst1474482071  Sponsor Dereck Blackburn (Lostwars) Artist in ...   \n",
       "2   kkst183622197                                      Mr. Squiggles   \n",
       "3   kkst597742710                     Help me write my second novel.   \n",
       "4  kkst1913131122             Support casting my sculpture in bronze   \n",
       "\n",
       "                                                desc    goal  \\\n",
       "0  I like drawing pictures. and then i color them...    20.0   \n",
       "1  I, Dereck Blackburn will be taking upon an inc...   300.0   \n",
       "2  So I saw darkpony's successfully funded drawin...    30.0   \n",
       "3  Do your part to help out starving artists and ...   500.0   \n",
       "4  I'm nearing completion on a sculpture, current...  2000.0   \n",
       "\n",
       "                                            keywords  disable_communication  \\\n",
       "0                                drawing-for-dollars                  False   \n",
       "1  sponsor-dereck-blackburn-lostwars-artist-in-re...                  False   \n",
       "2                                       mr-squiggles                  False   \n",
       "3                      help-me-write-my-second-novel                  False   \n",
       "4             support-casting-my-sculpture-in-bronze                  False   \n",
       "\n",
       "  country currency             deadline     state_changed_at  \\\n",
       "0      US      USD  2009-05-03 12:29:59  2009-05-03 12:30:17   \n",
       "1      US      USD  2009-05-16 04:40:00  2009-05-16 05:30:18   \n",
       "2      US      USD  2009-05-23 02:56:00  2009-05-23 03:00:18   \n",
       "3      US      USD  2009-05-29 05:39:00  2009-05-29 05:45:21   \n",
       "4      US      USD  2009-05-31 17:08:00  2009-05-31 17:15:17   \n",
       "\n",
       "            created_at          launched_at  backers_count  final_status  \\\n",
       "0  2009-04-25 00:45:07  2009-04-25 01:22:03              3             1   \n",
       "1  2009-04-29 04:40:24  2009-04-29 08:56:32              2             0   \n",
       "2  2009-05-13 02:56:53  2009-05-13 03:09:58              0             0   \n",
       "3  2009-04-29 05:39:55  2009-04-29 06:28:50             18             1   \n",
       "4  2009-05-01 17:08:34  2009-05-01 17:52:21              1             0   \n",
       "\n",
       "   log_goal  NameLen  keywordsLen  descLen  duration  \n",
       "0       1.0      0.0           19      0.0         3  \n",
       "1       1.0      0.0           74      0.0         0  \n",
       "2       1.0      0.0           12      0.0         3  \n",
       "3       1.0      0.0           29      0.0         0  \n",
       "4       2.0      0.0           38      0.0         0  "
      ]
     },
     "execution_count": 61,
     "metadata": {},
     "output_type": "execute_result"
    }
   ],
   "source": [
    "train.head(5)"
   ]
  },
  {
   "cell_type": "markdown",
   "id": "naughty-patio",
   "metadata": {
    "papermill": {
     "duration": 0.113877,
     "end_time": "2021-05-29T05:18:17.224838",
     "exception": false,
     "start_time": "2021-05-29T05:18:17.110961",
     "status": "completed"
    },
    "tags": []
   },
   "source": [
    "Features \n",
    "1. NameLen \n",
    "2. descLen\n",
    "3. log_goal\n",
    "4. country\n",
    "5. currency\n",
    "6. duration\n",
    "7. backers_count  X\n",
    "8. disable_communication  X"
   ]
  },
  {
   "cell_type": "markdown",
   "id": "respected-facility",
   "metadata": {
    "papermill": {
     "duration": 0.117045,
     "end_time": "2021-05-29T05:18:17.454969",
     "exception": false,
     "start_time": "2021-05-29T05:18:17.337924",
     "status": "completed"
    },
    "tags": []
   },
   "source": [
    "# Test Data"
   ]
  },
  {
   "cell_type": "code",
   "execution_count": 62,
   "id": "lined-armenia",
   "metadata": {
    "execution": {
     "iopub.execute_input": "2021-05-29T05:18:17.686093Z",
     "iopub.status.busy": "2021-05-29T05:18:17.685457Z",
     "iopub.status.idle": "2021-05-29T05:18:17.691559Z",
     "shell.execute_reply": "2021-05-29T05:18:17.690954Z",
     "shell.execute_reply.started": "2021-05-29T05:07:30.681911Z"
    },
    "papermill": {
     "duration": 0.123379,
     "end_time": "2021-05-29T05:18:17.691700",
     "exception": false,
     "start_time": "2021-05-29T05:18:17.568321",
     "status": "completed"
    },
    "tags": []
   },
   "outputs": [],
   "source": [
    "# log_goal\n",
    "test['log_goal'] = np.log10(test['goal'])"
   ]
  },
  {
   "cell_type": "code",
   "execution_count": 63,
   "id": "organizational-control",
   "metadata": {
    "execution": {
     "iopub.execute_input": "2021-05-29T05:18:17.925371Z",
     "iopub.status.busy": "2021-05-29T05:18:17.924702Z",
     "iopub.status.idle": "2021-05-29T05:18:17.927635Z",
     "shell.execute_reply": "2021-05-29T05:18:17.927143Z",
     "shell.execute_reply.started": "2021-05-29T05:07:30.699940Z"
    },
    "papermill": {
     "duration": 0.122391,
     "end_time": "2021-05-29T05:18:17.927768",
     "exception": false,
     "start_time": "2021-05-29T05:18:17.805377",
     "status": "completed"
    },
    "tags": []
   },
   "outputs": [],
   "source": [
    "test.insert(loc=12, column='backers_count', value=0)"
   ]
  },
  {
   "cell_type": "code",
   "execution_count": 64,
   "id": "anticipated-organ",
   "metadata": {
    "execution": {
     "iopub.execute_input": "2021-05-29T05:18:18.159184Z",
     "iopub.status.busy": "2021-05-29T05:18:18.158519Z",
     "iopub.status.idle": "2021-05-29T05:18:18.161498Z",
     "shell.execute_reply": "2021-05-29T05:18:18.161014Z",
     "shell.execute_reply.started": "2021-05-29T05:07:30.710869Z"
    },
    "papermill": {
     "duration": 0.1203,
     "end_time": "2021-05-29T05:18:18.161642",
     "exception": false,
     "start_time": "2021-05-29T05:18:18.041342",
     "status": "completed"
    },
    "tags": []
   },
   "outputs": [],
   "source": [
    "#test.loc[test['log_goal'] <= 5 , 'backers_count'] = 1\n",
    "#test.loc[test['log_goal'] > 5 , 'backers_count'] = 0\n",
    "    "
   ]
  },
  {
   "cell_type": "code",
   "execution_count": 65,
   "id": "tracked-cosmetic",
   "metadata": {
    "execution": {
     "iopub.execute_input": "2021-05-29T05:18:18.417290Z",
     "iopub.status.busy": "2021-05-29T05:18:18.416495Z",
     "iopub.status.idle": "2021-05-29T05:18:18.428882Z",
     "shell.execute_reply": "2021-05-29T05:18:18.428311Z",
     "shell.execute_reply.started": "2021-05-29T05:07:30.721500Z"
    },
    "papermill": {
     "duration": 0.153913,
     "end_time": "2021-05-29T05:18:18.429049",
     "exception": false,
     "start_time": "2021-05-29T05:18:18.275136",
     "status": "completed"
    },
    "tags": []
   },
   "outputs": [],
   "source": [
    "test.loc[test['log_goal'] <= 1  , 'log_goal'] = 0 \n",
    "test.loc[test['log_goal'] >1  & (test['log_goal']<= 3) , 'log_goal'] = 1  \n",
    "test.loc[test['log_goal'] > 3 & (test['log_goal']<=5), 'log_goal'] = 2  \n",
    "test.loc[test['log_goal'] > 5 , 'log_goal'] = 3  "
   ]
  },
  {
   "cell_type": "code",
   "execution_count": 66,
   "id": "involved-constitutional",
   "metadata": {
    "execution": {
     "iopub.execute_input": "2021-05-29T05:18:18.675155Z",
     "iopub.status.busy": "2021-05-29T05:18:18.674223Z",
     "iopub.status.idle": "2021-05-29T05:18:18.692341Z",
     "shell.execute_reply": "2021-05-29T05:18:18.692807Z",
     "shell.execute_reply.started": "2021-05-29T05:07:30.750875Z"
    },
    "papermill": {
     "duration": 0.142738,
     "end_time": "2021-05-29T05:18:18.692977",
     "exception": false,
     "start_time": "2021-05-29T05:18:18.550239",
     "status": "completed"
    },
    "tags": []
   },
   "outputs": [
    {
     "data": {
      "text/html": [
       "<div>\n",
       "<style scoped>\n",
       "    .dataframe tbody tr th:only-of-type {\n",
       "        vertical-align: middle;\n",
       "    }\n",
       "\n",
       "    .dataframe tbody tr th {\n",
       "        vertical-align: top;\n",
       "    }\n",
       "\n",
       "    .dataframe thead th {\n",
       "        text-align: right;\n",
       "    }\n",
       "</style>\n",
       "<table border=\"1\" class=\"dataframe\">\n",
       "  <thead>\n",
       "    <tr style=\"text-align: right;\">\n",
       "      <th></th>\n",
       "      <th>project_id</th>\n",
       "      <th>name</th>\n",
       "      <th>desc</th>\n",
       "      <th>goal</th>\n",
       "      <th>keywords</th>\n",
       "      <th>disable_communication</th>\n",
       "      <th>country</th>\n",
       "      <th>currency</th>\n",
       "      <th>deadline</th>\n",
       "      <th>state_changed_at</th>\n",
       "      <th>created_at</th>\n",
       "      <th>launched_at</th>\n",
       "      <th>backers_count</th>\n",
       "      <th>log_goal</th>\n",
       "    </tr>\n",
       "  </thead>\n",
       "  <tbody>\n",
       "    <tr>\n",
       "      <th>0</th>\n",
       "      <td>kkst917493670</td>\n",
       "      <td>Bràthair.</td>\n",
       "      <td>My first film, of many to come. Trying to purs...</td>\n",
       "      <td>7000.0</td>\n",
       "      <td>brathair</td>\n",
       "      <td>False</td>\n",
       "      <td>US</td>\n",
       "      <td>USD</td>\n",
       "      <td>1449619185</td>\n",
       "      <td>1449619185</td>\n",
       "      <td>1446002581</td>\n",
       "      <td>1446159585</td>\n",
       "      <td>0</td>\n",
       "      <td>1.0</td>\n",
       "    </tr>\n",
       "    <tr>\n",
       "      <th>1</th>\n",
       "      <td>kkst1664901914</td>\n",
       "      <td>THE SCREENWRITER</td>\n",
       "      <td>A young man that has earned his master's in sc...</td>\n",
       "      <td>35000.0</td>\n",
       "      <td>the-screenwriter</td>\n",
       "      <td>False</td>\n",
       "      <td>US</td>\n",
       "      <td>USD</td>\n",
       "      <td>1453435620</td>\n",
       "      <td>1453435620</td>\n",
       "      <td>1450297323</td>\n",
       "      <td>1450411620</td>\n",
       "      <td>0</td>\n",
       "      <td>1.0</td>\n",
       "    </tr>\n",
       "    <tr>\n",
       "      <th>2</th>\n",
       "      <td>kkst925125077</td>\n",
       "      <td>The Hornets Nest the Fairmont Heights Story</td>\n",
       "      <td>Film about a high school constructed for negro...</td>\n",
       "      <td>49500.0</td>\n",
       "      <td>the-hornets-nest-the-fairmont-heights-story</td>\n",
       "      <td>False</td>\n",
       "      <td>US</td>\n",
       "      <td>USD</td>\n",
       "      <td>1451780700</td>\n",
       "      <td>1451780700</td>\n",
       "      <td>1448581356</td>\n",
       "      <td>1448672128</td>\n",
       "      <td>0</td>\n",
       "      <td>1.0</td>\n",
       "    </tr>\n",
       "    <tr>\n",
       "      <th>3</th>\n",
       "      <td>kkst1427645275</td>\n",
       "      <td>BROTHERS Season 2 - Groundbreaking Transgender...</td>\n",
       "      <td>The acclaimed series about a group of transgen...</td>\n",
       "      <td>40000.0</td>\n",
       "      <td>brothers-season-2-groundbreaking-transgender-male</td>\n",
       "      <td>False</td>\n",
       "      <td>US</td>\n",
       "      <td>USD</td>\n",
       "      <td>1445021518</td>\n",
       "      <td>1445021530</td>\n",
       "      <td>1440966830</td>\n",
       "      <td>1442429518</td>\n",
       "      <td>0</td>\n",
       "      <td>1.0</td>\n",
       "    </tr>\n",
       "    <tr>\n",
       "      <th>4</th>\n",
       "      <td>kkst1714249266</td>\n",
       "      <td>Blackdom the movie</td>\n",
       "      <td>Blackdom's history offers  a new narrative tha...</td>\n",
       "      <td>20000.0</td>\n",
       "      <td>blackdom-the-movie</td>\n",
       "      <td>False</td>\n",
       "      <td>US</td>\n",
       "      <td>USD</td>\n",
       "      <td>1462068840</td>\n",
       "      <td>1462068844</td>\n",
       "      <td>1455765276</td>\n",
       "      <td>1458334890</td>\n",
       "      <td>0</td>\n",
       "      <td>1.0</td>\n",
       "    </tr>\n",
       "  </tbody>\n",
       "</table>\n",
       "</div>"
      ],
      "text/plain": [
       "       project_id                                               name  \\\n",
       "0   kkst917493670                                          Bràthair.   \n",
       "1  kkst1664901914                                   THE SCREENWRITER   \n",
       "2   kkst925125077        The Hornets Nest the Fairmont Heights Story   \n",
       "3  kkst1427645275  BROTHERS Season 2 - Groundbreaking Transgender...   \n",
       "4  kkst1714249266                                 Blackdom the movie   \n",
       "\n",
       "                                                desc     goal  \\\n",
       "0  My first film, of many to come. Trying to purs...   7000.0   \n",
       "1  A young man that has earned his master's in sc...  35000.0   \n",
       "2  Film about a high school constructed for negro...  49500.0   \n",
       "3  The acclaimed series about a group of transgen...  40000.0   \n",
       "4  Blackdom's history offers  a new narrative tha...  20000.0   \n",
       "\n",
       "                                            keywords  disable_communication  \\\n",
       "0                                           brathair                  False   \n",
       "1                                   the-screenwriter                  False   \n",
       "2        the-hornets-nest-the-fairmont-heights-story                  False   \n",
       "3  brothers-season-2-groundbreaking-transgender-male                  False   \n",
       "4                                 blackdom-the-movie                  False   \n",
       "\n",
       "  country currency    deadline  state_changed_at  created_at  launched_at  \\\n",
       "0      US      USD  1449619185        1449619185  1446002581   1446159585   \n",
       "1      US      USD  1453435620        1453435620  1450297323   1450411620   \n",
       "2      US      USD  1451780700        1451780700  1448581356   1448672128   \n",
       "3      US      USD  1445021518        1445021530  1440966830   1442429518   \n",
       "4      US      USD  1462068840        1462068844  1455765276   1458334890   \n",
       "\n",
       "   backers_count  log_goal  \n",
       "0              0       1.0  \n",
       "1              0       1.0  \n",
       "2              0       1.0  \n",
       "3              0       1.0  \n",
       "4              0       1.0  "
      ]
     },
     "execution_count": 66,
     "metadata": {},
     "output_type": "execute_result"
    }
   ],
   "source": [
    "test.head(5)"
   ]
  },
  {
   "cell_type": "code",
   "execution_count": 67,
   "id": "separate-wholesale",
   "metadata": {
    "execution": {
     "iopub.execute_input": "2021-05-29T05:18:18.925518Z",
     "iopub.status.busy": "2021-05-29T05:18:18.924599Z",
     "iopub.status.idle": "2021-05-29T05:18:18.970781Z",
     "shell.execute_reply": "2021-05-29T05:18:18.971256Z",
     "shell.execute_reply.started": "2021-05-29T05:07:30.773634Z"
    },
    "papermill": {
     "duration": 0.163854,
     "end_time": "2021-05-29T05:18:18.971444",
     "exception": false,
     "start_time": "2021-05-29T05:18:18.807590",
     "status": "completed"
    },
    "tags": []
   },
   "outputs": [],
   "source": [
    "# Name length\n",
    "test['NameLen'] = test['name'].str.len()"
   ]
  },
  {
   "cell_type": "code",
   "execution_count": 68,
   "id": "asian-winning",
   "metadata": {
    "execution": {
     "iopub.execute_input": "2021-05-29T05:18:19.206456Z",
     "iopub.status.busy": "2021-05-29T05:18:19.205506Z",
     "iopub.status.idle": "2021-05-29T05:18:19.219547Z",
     "shell.execute_reply": "2021-05-29T05:18:19.218895Z",
     "shell.execute_reply.started": "2021-05-29T05:07:30.834051Z"
    },
    "papermill": {
     "duration": 0.131402,
     "end_time": "2021-05-29T05:18:19.219684",
     "exception": false,
     "start_time": "2021-05-29T05:18:19.088282",
     "status": "completed"
    },
    "tags": []
   },
   "outputs": [],
   "source": [
    "#NameLen bins\n",
    "test.loc[test['NameLen'] > 0 & (test['NameLen'] <= 150) , 'NameLen'] = 0 \n",
    "test.loc[(test['NameLen'] > 150) & (test['NameLen']<= 250) , 'NameLen'] = 1  \n",
    "test.loc[test['NameLen'] > 250 & (test['NameLen']<=400), 'NameLen'] = 2  \n",
    "test.loc[test['NameLen'] > 400 , 'NameLen'] = 3  "
   ]
  },
  {
   "cell_type": "code",
   "execution_count": 69,
   "id": "smoking-allergy",
   "metadata": {
    "execution": {
     "iopub.execute_input": "2021-05-29T05:18:19.459826Z",
     "iopub.status.busy": "2021-05-29T05:18:19.458889Z",
     "iopub.status.idle": "2021-05-29T05:18:19.498331Z",
     "shell.execute_reply": "2021-05-29T05:18:19.497771Z",
     "shell.execute_reply.started": "2021-05-29T05:07:30.854360Z"
    },
    "papermill": {
     "duration": 0.164363,
     "end_time": "2021-05-29T05:18:19.498489",
     "exception": false,
     "start_time": "2021-05-29T05:18:19.334126",
     "status": "completed"
    },
    "tags": []
   },
   "outputs": [],
   "source": [
    "# keywords length\n",
    "test['keywordsLen'] = test['keywords'].str.len()"
   ]
  },
  {
   "cell_type": "code",
   "execution_count": 70,
   "id": "loved-beach",
   "metadata": {
    "execution": {
     "iopub.execute_input": "2021-05-29T05:18:19.738619Z",
     "iopub.status.busy": "2021-05-29T05:18:19.737714Z",
     "iopub.status.idle": "2021-05-29T05:18:19.780649Z",
     "shell.execute_reply": "2021-05-29T05:18:19.780114Z",
     "shell.execute_reply.started": "2021-05-29T05:07:30.908515Z"
    },
    "papermill": {
     "duration": 0.168604,
     "end_time": "2021-05-29T05:18:19.780798",
     "exception": false,
     "start_time": "2021-05-29T05:18:19.612194",
     "status": "completed"
    },
    "tags": []
   },
   "outputs": [],
   "source": [
    "#desc length\n",
    "test['descLen'] = test['desc'].str.len()"
   ]
  },
  {
   "cell_type": "code",
   "execution_count": 71,
   "id": "broken-texture",
   "metadata": {
    "execution": {
     "iopub.execute_input": "2021-05-29T05:18:20.017218Z",
     "iopub.status.busy": "2021-05-29T05:18:20.016160Z",
     "iopub.status.idle": "2021-05-29T05:18:20.026903Z",
     "shell.execute_reply": "2021-05-29T05:18:20.027377Z",
     "shell.execute_reply.started": "2021-05-29T05:07:30.981618Z"
    },
    "papermill": {
     "duration": 0.132253,
     "end_time": "2021-05-29T05:18:20.027559",
     "exception": false,
     "start_time": "2021-05-29T05:18:19.895306",
     "status": "completed"
    },
    "tags": []
   },
   "outputs": [],
   "source": [
    "#descLen bins     \n",
    "test.loc[test['descLen'] > 0 & (test['descLen'] <= 200) , 'descLen'] = 0  \n",
    "test.loc[test['descLen'] > 200 & (test['descLen']<= 300) , 'descLen'] = 1  \n",
    "test.loc[test['descLen'] > 300 & (test['descLen']<=400), 'descLen'] = 2  \n",
    "test.loc[test['descLen'] > 400, 'descLen'] = 3 "
   ]
  },
  {
   "cell_type": "code",
   "execution_count": 72,
   "id": "rational-crystal",
   "metadata": {
    "execution": {
     "iopub.execute_input": "2021-05-29T05:18:20.266143Z",
     "iopub.status.busy": "2021-05-29T05:18:20.265179Z",
     "iopub.status.idle": "2021-05-29T05:18:21.552461Z",
     "shell.execute_reply": "2021-05-29T05:18:21.551905Z",
     "shell.execute_reply.started": "2021-05-29T05:07:31.003169Z"
    },
    "papermill": {
     "duration": 1.410138,
     "end_time": "2021-05-29T05:18:21.552608",
     "exception": false,
     "start_time": "2021-05-29T05:18:20.142470",
     "status": "completed"
    },
    "tags": []
   },
   "outputs": [],
   "source": [
    "# Convert UNIX time format to Standard time format\n",
    "date_time = ['deadline', 'state_changed_at', 'created_at', 'launched_at']\n",
    "for i in date_time:\n",
    "    test[i] = test[i].apply(lambda x: datetime.fromtimestamp(int(x)).strftime('%Y-%m-%d %H:%M:%S'))"
   ]
  },
  {
   "cell_type": "code",
   "execution_count": 73,
   "id": "civic-working",
   "metadata": {
    "execution": {
     "iopub.execute_input": "2021-05-29T05:18:21.791777Z",
     "iopub.status.busy": "2021-05-29T05:18:21.790310Z",
     "iopub.status.idle": "2021-05-29T05:18:24.650174Z",
     "shell.execute_reply": "2021-05-29T05:18:24.649551Z",
     "shell.execute_reply.started": "2021-05-29T05:07:32.309006Z"
    },
    "papermill": {
     "duration": 2.980157,
     "end_time": "2021-05-29T05:18:24.650376",
     "exception": false,
     "start_time": "2021-05-29T05:18:21.670219",
     "status": "completed"
    },
    "tags": []
   },
   "outputs": [],
   "source": [
    "# Duration in weeks\n",
    "\n",
    "test['duration'] = test[['launched_at', 'deadline']].apply(lambda d: Duration(d), axis=1)"
   ]
  },
  {
   "cell_type": "code",
   "execution_count": 74,
   "id": "composite-charlotte",
   "metadata": {
    "execution": {
     "iopub.execute_input": "2021-05-29T05:18:24.889569Z",
     "iopub.status.busy": "2021-05-29T05:18:24.888518Z",
     "iopub.status.idle": "2021-05-29T05:18:24.900467Z",
     "shell.execute_reply": "2021-05-29T05:18:24.899921Z",
     "shell.execute_reply.started": "2021-05-29T05:07:35.190065Z"
    },
    "papermill": {
     "duration": 0.135786,
     "end_time": "2021-05-29T05:18:24.900610",
     "exception": false,
     "start_time": "2021-05-29T05:18:24.764824",
     "status": "completed"
    },
    "tags": []
   },
   "outputs": [],
   "source": [
    "#Duration bins   \n",
    "test.loc[test['duration'] >= 2 , 'duration'] = 0\n",
    "test.loc[test['duration'] > 2 & (test['duration'] <= 4) , 'duration'] = 1  \n",
    "test.loc[test['duration'] > 4 & (test['duration']<= 6) , 'duration'] = 2  \n",
    "test.loc[test['duration'] > 6 & (test['duration']<=8), 'duration'] = 3   \n",
    "test.loc[test['duration'] > 8 , 'duration'] = 4   "
   ]
  },
  {
   "cell_type": "code",
   "execution_count": 75,
   "id": "expensive-external",
   "metadata": {
    "execution": {
     "iopub.execute_input": "2021-05-29T05:18:25.192175Z",
     "iopub.status.busy": "2021-05-29T05:18:25.191475Z",
     "iopub.status.idle": "2021-05-29T05:18:25.206785Z",
     "shell.execute_reply": "2021-05-29T05:18:25.206135Z",
     "shell.execute_reply.started": "2021-05-29T05:07:35.215768Z"
    },
    "papermill": {
     "duration": 0.192512,
     "end_time": "2021-05-29T05:18:25.206938",
     "exception": false,
     "start_time": "2021-05-29T05:18:25.014426",
     "status": "completed"
    },
    "tags": []
   },
   "outputs": [
    {
     "name": "stdout",
     "output_type": "stream",
     "text": [
      "<class 'pandas.core.frame.DataFrame'>\n",
      "RangeIndex: 63465 entries, 0 to 63464\n",
      "Data columns (total 18 columns):\n",
      " #   Column                 Non-Null Count  Dtype  \n",
      "---  ------                 --------------  -----  \n",
      " 0   project_id             63465 non-null  object \n",
      " 1   name                   63465 non-null  object \n",
      " 2   desc                   63461 non-null  object \n",
      " 3   goal                   63465 non-null  float64\n",
      " 4   keywords               63465 non-null  object \n",
      " 5   disable_communication  63465 non-null  bool   \n",
      " 6   country                63465 non-null  object \n",
      " 7   currency               63465 non-null  object \n",
      " 8   deadline               63465 non-null  object \n",
      " 9   state_changed_at       63465 non-null  object \n",
      " 10  created_at             63465 non-null  object \n",
      " 11  launched_at            63465 non-null  object \n",
      " 12  backers_count          63465 non-null  int64  \n",
      " 13  log_goal               63465 non-null  float64\n",
      " 14  NameLen                63465 non-null  int64  \n",
      " 15  keywordsLen            63465 non-null  int64  \n",
      " 16  descLen                63461 non-null  float64\n",
      " 17  duration               63465 non-null  int64  \n",
      "dtypes: bool(1), float64(3), int64(4), object(10)\n",
      "memory usage: 8.3+ MB\n"
     ]
    }
   ],
   "source": [
    "test.info()"
   ]
  },
  {
   "cell_type": "code",
   "execution_count": 76,
   "id": "rural-argentina",
   "metadata": {
    "execution": {
     "iopub.execute_input": "2021-05-29T05:18:25.447288Z",
     "iopub.status.busy": "2021-05-29T05:18:25.444862Z",
     "iopub.status.idle": "2021-05-29T05:18:25.453711Z",
     "shell.execute_reply": "2021-05-29T05:18:25.452816Z",
     "shell.execute_reply.started": "2021-05-29T05:07:35.297783Z"
    },
    "papermill": {
     "duration": 0.132489,
     "end_time": "2021-05-29T05:18:25.453898",
     "exception": false,
     "start_time": "2021-05-29T05:18:25.321409",
     "status": "completed"
    },
    "tags": []
   },
   "outputs": [
    {
     "data": {
      "text/plain": [
       "0        1\n",
       "1        1\n",
       "2        1\n",
       "3        1\n",
       "4        1\n",
       "        ..\n",
       "63460    1\n",
       "63461    1\n",
       "63462    1\n",
       "63463    1\n",
       "63464    1\n",
       "Name: log_goal, Length: 63465, dtype: int64"
      ]
     },
     "execution_count": 76,
     "metadata": {},
     "output_type": "execute_result"
    }
   ],
   "source": [
    "test.log_goal.astype(int)"
   ]
  },
  {
   "cell_type": "markdown",
   "id": "approved-photography",
   "metadata": {
    "papermill": {
     "duration": 0.114627,
     "end_time": "2021-05-29T05:18:25.703022",
     "exception": false,
     "start_time": "2021-05-29T05:18:25.588395",
     "status": "completed"
    },
    "tags": []
   },
   "source": [
    "# Model Selection"
   ]
  },
  {
   "cell_type": "code",
   "execution_count": 77,
   "id": "liquid-attack",
   "metadata": {
    "execution": {
     "iopub.execute_input": "2021-05-29T05:18:25.939384Z",
     "iopub.status.busy": "2021-05-29T05:18:25.938763Z",
     "iopub.status.idle": "2021-05-29T05:18:25.940937Z",
     "shell.execute_reply": "2021-05-29T05:18:25.941446Z",
     "shell.execute_reply.started": "2021-05-29T05:07:35.310633Z"
    },
    "papermill": {
     "duration": 0.122298,
     "end_time": "2021-05-29T05:18:25.941614",
     "exception": false,
     "start_time": "2021-05-29T05:18:25.819316",
     "status": "completed"
    },
    "tags": []
   },
   "outputs": [],
   "source": [
    "my_features = ['NameLen', 'keywordsLen','descLen', 'backers_count', 'country', 'currency', 'duration', 'log_goal']"
   ]
  },
  {
   "cell_type": "code",
   "execution_count": 78,
   "id": "protected-government",
   "metadata": {
    "execution": {
     "iopub.execute_input": "2021-05-29T05:18:26.177755Z",
     "iopub.status.busy": "2021-05-29T05:18:26.176760Z",
     "iopub.status.idle": "2021-05-29T05:18:26.200161Z",
     "shell.execute_reply": "2021-05-29T05:18:26.200632Z",
     "shell.execute_reply.started": "2021-05-29T05:07:35.317719Z"
    },
    "papermill": {
     "duration": 0.142513,
     "end_time": "2021-05-29T05:18:26.200825",
     "exception": false,
     "start_time": "2021-05-29T05:18:26.058312",
     "status": "completed"
    },
    "tags": []
   },
   "outputs": [],
   "source": [
    "dtrain = train[my_features].copy()\n",
    "dtest = test[my_features].copy()"
   ]
  },
  {
   "cell_type": "code",
   "execution_count": 79,
   "id": "french-gregory",
   "metadata": {
    "execution": {
     "iopub.execute_input": "2021-05-29T05:18:26.435756Z",
     "iopub.status.busy": "2021-05-29T05:18:26.434820Z",
     "iopub.status.idle": "2021-05-29T05:18:26.547609Z",
     "shell.execute_reply": "2021-05-29T05:18:26.548105Z",
     "shell.execute_reply.started": "2021-05-29T05:07:35.361610Z"
    },
    "papermill": {
     "duration": 0.231841,
     "end_time": "2021-05-29T05:18:26.548289",
     "exception": false,
     "start_time": "2021-05-29T05:18:26.316448",
     "status": "completed"
    },
    "tags": []
   },
   "outputs": [],
   "source": [
    "y = train.final_status\n",
    "df_train = dtrain\n",
    "# Select categorical columns with relatively low cardinality (convenient but arbitrary)\n",
    "X_train, X_valid, y_train, y_valid = train_test_split(train, y, test_size=0.2, random_state=0)\n",
    "categorical_cols = [cname for cname in df_train.columns if\n",
    "                    df_train[cname].nunique() < 10 and \n",
    "                    df_train[cname].dtype == \"object\"]\n",
    "\n",
    "# Select numerical columns\n",
    "numerical_cols = [cname for cname in df_train.columns if \n",
    "                df_train[cname].dtype in ['int64', 'float64']]"
   ]
  },
  {
   "cell_type": "markdown",
   "id": "patent-transportation",
   "metadata": {
    "papermill": {
     "duration": 0.116145,
     "end_time": "2021-05-29T05:18:26.778918",
     "exception": false,
     "start_time": "2021-05-29T05:18:26.662773",
     "status": "completed"
    },
    "tags": []
   },
   "source": [
    "# Preprocessing"
   ]
  },
  {
   "cell_type": "code",
   "execution_count": 80,
   "id": "baking-jackson",
   "metadata": {
    "execution": {
     "iopub.execute_input": "2021-05-29T05:18:27.011502Z",
     "iopub.status.busy": "2021-05-29T05:18:27.010508Z",
     "iopub.status.idle": "2021-05-29T05:18:27.016371Z",
     "shell.execute_reply": "2021-05-29T05:18:27.016817Z",
     "shell.execute_reply.started": "2021-05-29T05:07:35.514921Z"
    },
    "papermill": {
     "duration": 0.123374,
     "end_time": "2021-05-29T05:18:27.017000",
     "exception": false,
     "start_time": "2021-05-29T05:18:26.893626",
     "status": "completed"
    },
    "tags": []
   },
   "outputs": [],
   "source": [
    "# Preprocessing for numerical data\n",
    "numerical_transformer = SimpleImputer(strategy='mean')\n",
    "\n",
    "# Preprocessing for categorical data\n",
    "categorical_transformer = Pipeline(steps=[\n",
    "    ('imputer', SimpleImputer(strategy='most_frequent')),\n",
    "    ('onehot', OneHotEncoder(handle_unknown='ignore', sparse=False))\n",
    "])\n",
    "\n",
    "#Feature Scaling\n",
    "sc = StandardScaler()\n",
    "\n",
    "# Bundle preprocessing for numerical and categorical data\n",
    "preprocessor = ColumnTransformer(\n",
    "    transformers=[\n",
    "        ('num', numerical_transformer, numerical_cols),\n",
    "        ('cat', categorical_transformer, categorical_cols)\n",
    "    ])"
   ]
  },
  {
   "cell_type": "code",
   "execution_count": 81,
   "id": "daily-italic",
   "metadata": {
    "execution": {
     "iopub.execute_input": "2021-05-29T05:18:27.250745Z",
     "iopub.status.busy": "2021-05-29T05:18:27.249822Z",
     "iopub.status.idle": "2021-05-29T05:18:27.254376Z",
     "shell.execute_reply": "2021-05-29T05:18:27.254848Z",
     "shell.execute_reply.started": "2021-05-29T05:07:35.522817Z"
    },
    "papermill": {
     "duration": 0.122682,
     "end_time": "2021-05-29T05:18:27.255020",
     "exception": false,
     "start_time": "2021-05-29T05:18:27.132338",
     "status": "completed"
    },
    "tags": []
   },
   "outputs": [],
   "source": [
    "Results = pd.DataFrame({'Model': [], 'Accuracy Score': []})"
   ]
  },
  {
   "cell_type": "markdown",
   "id": "coated-isaac",
   "metadata": {
    "papermill": {
     "duration": 0.11976,
     "end_time": "2021-05-29T05:18:27.488399",
     "exception": false,
     "start_time": "2021-05-29T05:18:27.368639",
     "status": "completed"
    },
    "tags": []
   },
   "source": [
    "## LogisticRegression"
   ]
  },
  {
   "cell_type": "code",
   "execution_count": 82,
   "id": "applicable-understanding",
   "metadata": {
    "execution": {
     "iopub.execute_input": "2021-05-29T05:18:27.722320Z",
     "iopub.status.busy": "2021-05-29T05:18:27.721384Z",
     "iopub.status.idle": "2021-05-29T05:18:28.265526Z",
     "shell.execute_reply": "2021-05-29T05:18:28.266230Z",
     "shell.execute_reply.started": "2021-05-29T05:07:35.536969Z"
    },
    "papermill": {
     "duration": 0.662551,
     "end_time": "2021-05-29T05:18:28.266438",
     "exception": false,
     "start_time": "2021-05-29T05:18:27.603887",
     "status": "completed"
    },
    "tags": []
   },
   "outputs": [
    {
     "name": "stdout",
     "output_type": "stream",
     "text": [
      "Accuracy: 0.7714787755479515\n",
      "CR:               precision    recall  f1-score   support\n",
      "\n",
      "           0       0.77      0.95      0.85     14824\n",
      "           1       0.79      0.38      0.51      6802\n",
      "\n",
      "    accuracy                           0.77     21626\n",
      "   macro avg       0.78      0.66      0.68     21626\n",
      "weighted avg       0.77      0.77      0.74     21626\n",
      "\n",
      "CM: [[14126   698]\n",
      " [ 4244  2558]]\n"
     ]
    }
   ],
   "source": [
    "# Define model\n",
    "lrc = LogisticRegression()\n",
    "\n",
    "\n",
    "# Bundle preprocessing and modeling code in a pipeline\n",
    "lr = Pipeline(steps=[('preprocessor', preprocessor),\n",
    "                      ('sc',StandardScaler()),\n",
    "                      ('model', lrc)\n",
    "])\n",
    "\n",
    "# Preprocessing of training data, fit model \n",
    "lr.fit(X_train, y_train)\n",
    "\n",
    "# Preprocessing of validation data, get predictions\n",
    "predsLR = lr.predict(X_valid)\n",
    "\n",
    "print('Accuracy:', accuracy_score(y_valid, predsLR))\n",
    "print('CR:', classification_report(y_valid, predsLR))\n",
    "print('CM:',confusion_matrix(y_valid, predsLR))\n",
    "\n",
    "res = pd.DataFrame({'Model': ['LogisticRegression'],\n",
    "                    'Accuracy Score': [accuracy_score(y_valid, predsLR)]})\n",
    "Results = Results.append(res)"
   ]
  },
  {
   "cell_type": "markdown",
   "id": "major-albania",
   "metadata": {
    "papermill": {
     "duration": 0.116423,
     "end_time": "2021-05-29T05:18:28.499493",
     "exception": false,
     "start_time": "2021-05-29T05:18:28.383070",
     "status": "completed"
    },
    "tags": []
   },
   "source": [
    "## DecisionTree"
   ]
  },
  {
   "cell_type": "code",
   "execution_count": 83,
   "id": "single-metadata",
   "metadata": {
    "execution": {
     "iopub.execute_input": "2021-05-29T05:18:28.745078Z",
     "iopub.status.busy": "2021-05-29T05:18:28.743670Z",
     "iopub.status.idle": "2021-05-29T05:18:29.109354Z",
     "shell.execute_reply": "2021-05-29T05:18:29.108420Z",
     "shell.execute_reply.started": "2021-05-29T05:07:36.171148Z"
    },
    "papermill": {
     "duration": 0.494384,
     "end_time": "2021-05-29T05:18:29.109543",
     "exception": false,
     "start_time": "2021-05-29T05:18:28.615159",
     "status": "completed"
    },
    "tags": []
   },
   "outputs": [
    {
     "name": "stdout",
     "output_type": "stream",
     "text": [
      "Accuracy: 0.7960325534079349\n",
      "CR:               precision    recall  f1-score   support\n",
      "\n",
      "           0       0.83      0.88      0.85     14824\n",
      "           1       0.70      0.62      0.66      6802\n",
      "\n",
      "    accuracy                           0.80     21626\n",
      "   macro avg       0.77      0.75      0.76     21626\n",
      "weighted avg       0.79      0.80      0.79     21626\n",
      "\n",
      "CM: [[13000  1824]\n",
      " [ 2587  4215]]\n"
     ]
    }
   ],
   "source": [
    "# Define model\n",
    "dtc = DecisionTreeClassifier()\n",
    "\n",
    "\n",
    "# Bundle preprocessing and modeling code in a pipeline\n",
    "dt = Pipeline(steps=[('preprocessor', preprocessor),\n",
    "                      ('sc',StandardScaler()),\n",
    "                      ('model', dtc)\n",
    "])\n",
    "\n",
    "# Preprocessing of training data, fit model \n",
    "dt.fit(X_train, y_train)\n",
    "\n",
    "# Preprocessing of validation data, get predictions\n",
    "predsDT = dt.predict(X_valid)\n",
    "\n",
    "print('Accuracy:', accuracy_score(y_valid, predsDT))\n",
    "print('CR:', classification_report(y_valid, predsDT))\n",
    "print('CM:',confusion_matrix(y_valid, predsDT))\n",
    "\n",
    "res = pd.DataFrame({'Model': ['DecisionTree'],\n",
    "                    'Accuracy Score': [accuracy_score(y_valid, predsDT)]})\n",
    "Results = Results.append(res)"
   ]
  },
  {
   "cell_type": "markdown",
   "id": "covered-india",
   "metadata": {
    "papermill": {
     "duration": 0.115437,
     "end_time": "2021-05-29T05:18:29.341696",
     "exception": false,
     "start_time": "2021-05-29T05:18:29.226259",
     "status": "completed"
    },
    "tags": []
   },
   "source": [
    "## RandomForest"
   ]
  },
  {
   "cell_type": "code",
   "execution_count": 84,
   "id": "decent-parallel",
   "metadata": {
    "execution": {
     "iopub.execute_input": "2021-05-29T05:18:29.586415Z",
     "iopub.status.busy": "2021-05-29T05:18:29.584958Z",
     "iopub.status.idle": "2021-05-29T05:18:37.394723Z",
     "shell.execute_reply": "2021-05-29T05:18:37.395224Z",
     "shell.execute_reply.started": "2021-05-29T05:07:36.615653Z"
    },
    "papermill": {
     "duration": 7.937709,
     "end_time": "2021-05-29T05:18:37.395417",
     "exception": false,
     "start_time": "2021-05-29T05:18:29.457708",
     "status": "completed"
    },
    "tags": []
   },
   "outputs": [
    {
     "name": "stdout",
     "output_type": "stream",
     "text": [
      "Accuracy: 0.8010265421252196\n",
      "CR:               precision    recall  f1-score   support\n",
      "\n",
      "           0       0.85      0.86      0.86     14824\n",
      "           1       0.69      0.67      0.68      6802\n",
      "\n",
      "    accuracy                           0.80     21626\n",
      "   macro avg       0.77      0.77      0.77     21626\n",
      "weighted avg       0.80      0.80      0.80     21626\n",
      "\n",
      "CM: [[12743  2081]\n",
      " [ 2222  4580]]\n"
     ]
    }
   ],
   "source": [
    "# Define model\n",
    "model = RandomForestClassifier(n_estimators=100, random_state=0,criterion='entropy')\n",
    "\n",
    "# Bundle preprocessing and modeling code in a pipeline\n",
    "clf = Pipeline(steps=[('preprocessor', preprocessor),\n",
    "                      ('sc',StandardScaler()),\n",
    "                      ('model', model)\n",
    "])\n",
    "\n",
    "# Preprocessing of training data, fit model \n",
    "clf.fit(X_train, y_train)\n",
    "\n",
    "# Preprocessing of validation data, get predictions\n",
    "preds = clf.predict(X_valid)\n",
    "print('Accuracy:', accuracy_score(y_valid, preds))\n",
    "print('CR:', classification_report(y_valid, preds))\n",
    "print('CM:',confusion_matrix(y_valid, preds))\n",
    "\n",
    "res = pd.DataFrame({'Model': ['RandomForest'],\n",
    "                    'Accuracy Score': [accuracy_score(y_valid, preds)]})\n",
    "Results = Results.append(res)"
   ]
  },
  {
   "cell_type": "markdown",
   "id": "economic-peoples",
   "metadata": {
    "papermill": {
     "duration": 0.118791,
     "end_time": "2021-05-29T05:18:37.639375",
     "exception": false,
     "start_time": "2021-05-29T05:18:37.520584",
     "status": "completed"
    },
    "tags": []
   },
   "source": [
    "## KNN"
   ]
  },
  {
   "cell_type": "code",
   "execution_count": 85,
   "id": "spiritual-insured",
   "metadata": {
    "execution": {
     "iopub.execute_input": "2021-05-29T05:18:37.890619Z",
     "iopub.status.busy": "2021-05-29T05:18:37.889866Z",
     "iopub.status.idle": "2021-05-29T05:18:58.246286Z",
     "shell.execute_reply": "2021-05-29T05:18:58.246791Z",
     "shell.execute_reply.started": "2021-05-29T05:07:45.367920Z"
    },
    "papermill": {
     "duration": 20.488664,
     "end_time": "2021-05-29T05:18:58.246960",
     "exception": false,
     "start_time": "2021-05-29T05:18:37.758296",
     "status": "completed"
    },
    "tags": []
   },
   "outputs": [
    {
     "name": "stdout",
     "output_type": "stream",
     "text": [
      "Accuracy: 0.8045408304818275\n",
      "CR:               precision    recall  f1-score   support\n",
      "\n",
      "           0       0.86      0.85      0.86     14824\n",
      "           1       0.69      0.70      0.69      6802\n",
      "\n",
      "    accuracy                           0.80     21626\n",
      "   macro avg       0.77      0.78      0.77     21626\n",
      "weighted avg       0.81      0.80      0.80     21626\n",
      "\n",
      "CM: [[12668  2156]\n",
      " [ 2071  4731]]\n"
     ]
    }
   ],
   "source": [
    "# Define model\n",
    "knnc = KNeighborsClassifier()\n",
    "\n",
    "\n",
    "# Bundle preprocessing and modeling code in a pipeline\n",
    "knn = Pipeline(steps=[('preprocessor', preprocessor),\n",
    "                      ('sc',StandardScaler()),\n",
    "                      ('model', knnc)\n",
    "])\n",
    "\n",
    "# Preprocessing of training data, fit model \n",
    "knn.fit(X_train, y_train)\n",
    "\n",
    "# Preprocessing of validation data, get predictions\n",
    "predsKNN = knn.predict(X_valid)\n",
    "\n",
    "print('Accuracy:', accuracy_score(y_valid, predsKNN))\n",
    "print('CR:', classification_report(y_valid, predsKNN))\n",
    "print('CM:',confusion_matrix(y_valid, predsKNN))\n",
    "\n",
    "res = pd.DataFrame({'Model': ['KNN'],\n",
    "                    'Accuracy Score': [accuracy_score(y_valid, predsKNN)]})\n",
    "Results = Results.append(res)"
   ]
  },
  {
   "cell_type": "markdown",
   "id": "rental-theater",
   "metadata": {
    "papermill": {
     "duration": 0.127994,
     "end_time": "2021-05-29T05:18:58.490301",
     "exception": false,
     "start_time": "2021-05-29T05:18:58.362307",
     "status": "completed"
    },
    "tags": []
   },
   "source": [
    "## SVM"
   ]
  },
  {
   "cell_type": "code",
   "execution_count": 86,
   "id": "stone-horizon",
   "metadata": {
    "execution": {
     "iopub.execute_input": "2021-05-29T05:18:58.747083Z",
     "iopub.status.busy": "2021-05-29T05:18:58.745743Z",
     "iopub.status.idle": "2021-05-29T05:25:33.312186Z",
     "shell.execute_reply": "2021-05-29T05:25:33.312713Z",
     "shell.execute_reply.started": "2021-05-29T05:08:14.478943Z"
    },
    "papermill": {
     "duration": 394.694837,
     "end_time": "2021-05-29T05:25:33.312909",
     "exception": false,
     "start_time": "2021-05-29T05:18:58.618072",
     "status": "completed"
    },
    "tags": []
   },
   "outputs": [
    {
     "name": "stdout",
     "output_type": "stream",
     "text": [
      "Accuracy: 0.75700545639508\n",
      "CR:               precision    recall  f1-score   support\n",
      "\n",
      "           0       0.76      0.95      0.84     14824\n",
      "           1       0.76      0.33      0.46      6802\n",
      "\n",
      "    accuracy                           0.76     21626\n",
      "   macro avg       0.76      0.64      0.65     21626\n",
      "weighted avg       0.76      0.76      0.72     21626\n",
      "\n",
      "CM: [[14117   707]\n",
      " [ 4548  2254]]\n"
     ]
    }
   ],
   "source": [
    "# Define model\n",
    "sv = SVC()\n",
    "\n",
    "\n",
    "# Bundle preprocessing and modeling code in a pipeline\n",
    "svc = Pipeline(steps=[('preprocessor', preprocessor),\n",
    "                      ('sc',StandardScaler()),\n",
    "                      ('model', sv)\n",
    "])\n",
    "\n",
    "# Preprocessing of training data, fit model \n",
    "svc.fit(X_train, y_train)\n",
    "\n",
    "# Preprocessing of validation data, get predictions\n",
    "predssvc = svc.predict(X_valid)\n",
    "\n",
    "print('Accuracy:', accuracy_score(y_valid, predssvc))\n",
    "print('CR:', classification_report(y_valid, predssvc))\n",
    "print('CM:',confusion_matrix(y_valid, predssvc))\n",
    "\n",
    "res = pd.DataFrame({'Model': ['SVM'],\n",
    "                    'Accuracy Score': [accuracy_score(y_valid, predssvc)]})\n",
    "Results = Results.append(res)"
   ]
  },
  {
   "cell_type": "markdown",
   "id": "informative-indie",
   "metadata": {
    "papermill": {
     "duration": 0.116242,
     "end_time": "2021-05-29T05:25:33.546207",
     "exception": false,
     "start_time": "2021-05-29T05:25:33.429965",
     "status": "completed"
    },
    "tags": []
   },
   "source": [
    "## XGB"
   ]
  },
  {
   "cell_type": "code",
   "execution_count": 87,
   "id": "arctic-quality",
   "metadata": {
    "execution": {
     "iopub.execute_input": "2021-05-29T05:25:33.782927Z",
     "iopub.status.busy": "2021-05-29T05:25:33.782011Z",
     "iopub.status.idle": "2021-05-29T05:25:44.962740Z",
     "shell.execute_reply": "2021-05-29T05:25:44.962211Z",
     "shell.execute_reply.started": "2021-05-29T05:15:57.439463Z"
    },
    "papermill": {
     "duration": 11.299641,
     "end_time": "2021-05-29T05:25:44.962900",
     "exception": false,
     "start_time": "2021-05-29T05:25:33.663259",
     "status": "completed"
    },
    "tags": []
   },
   "outputs": [
    {
     "data": {
      "text/plain": [
       "Pipeline(steps=[('preprocessor',\n",
       "                 ColumnTransformer(transformers=[('num', SimpleImputer(),\n",
       "                                                  ['NameLen', 'keywordsLen',\n",
       "                                                   'descLen', 'backers_count',\n",
       "                                                   'duration', 'log_goal']),\n",
       "                                                 ('cat',\n",
       "                                                  Pipeline(steps=[('imputer',\n",
       "                                                                   SimpleImputer(strategy='most_frequent')),\n",
       "                                                                  ('onehot',\n",
       "                                                                   OneHotEncoder(handle_unknown='ignore',\n",
       "                                                                                 sparse=False))]),\n",
       "                                                  ['currency'])])),\n",
       "                ('model_xgb',\n",
       "                 XGBClassifier(base...\n",
       "                               interaction_constraints='', learning_rate=0.1,\n",
       "                               max_delta_step=0, max_depth=2,\n",
       "                               min_child_weight=1, missing=nan,\n",
       "                               monotone_constraints='()', n_estimators=200,\n",
       "                               n_jobs=4, nthread=4, num_class=6,\n",
       "                               num_parallel_tree=1, objective='multi:softmax',\n",
       "                               random_state=0, reg_alpha=0.001, reg_lambda=0.5,\n",
       "                               scale_pos_weight=None, seed=27, subsample=0.8,\n",
       "                               tree_method='exact', validate_parameters=1, ...))])"
      ]
     },
     "execution_count": 87,
     "metadata": {},
     "output_type": "execute_result"
    }
   ],
   "source": [
    "from xgboost import XGBClassifier\n",
    "model_xgb = XGBClassifier(n_estimators= 200, learning_rate = 0.1, max_depth=2, min_child_weight = 1,nthread=4, seed=27,subsample=0.8,colsample_bytree=0.9,max_delta_step=0,\n",
    "                         objective= 'multi:softmax',gamma = 0,reg_alpha=0.001,reg_lambda=0.5, eval_metric='auc',random_state=0, num_class= 6)\n",
    "# Bundle preprocessing and modeling code in a pipeline\n",
    "xgb = Pipeline(steps=[('preprocessor', preprocessor),\n",
    "                      ('model_xgb', model_xgb)\n",
    "])\n",
    "\n",
    "# Preprocessing of training data, fit model \n",
    "xgb.fit(X_train, y_train)\n"
   ]
  },
  {
   "cell_type": "code",
   "execution_count": 88,
   "id": "hindu-bryan",
   "metadata": {
    "execution": {
     "iopub.execute_input": "2021-05-29T05:25:45.208800Z",
     "iopub.status.busy": "2021-05-29T05:25:45.208077Z",
     "iopub.status.idle": "2021-05-29T05:25:45.341947Z",
     "shell.execute_reply": "2021-05-29T05:25:45.341297Z",
     "shell.execute_reply.started": "2021-05-29T05:16:09.013344Z"
    },
    "papermill": {
     "duration": 0.260897,
     "end_time": "2021-05-29T05:25:45.342110",
     "exception": false,
     "start_time": "2021-05-29T05:25:45.081213",
     "status": "completed"
    },
    "tags": []
   },
   "outputs": [
    {
     "name": "stdout",
     "output_type": "stream",
     "text": [
      "Accuracy: 0.830343105521132\n",
      "CR:               precision    recall  f1-score   support\n",
      "\n",
      "           0       0.90      0.84      0.87     14824\n",
      "           1       0.70      0.80      0.75      6802\n",
      "\n",
      "    accuracy                           0.83     21626\n",
      "   macro avg       0.80      0.82      0.81     21626\n",
      "weighted avg       0.84      0.83      0.83     21626\n",
      "\n",
      "CM: [[12510  2314]\n",
      " [ 1355  5447]]\n"
     ]
    }
   ],
   "source": [
    "# Preprocessing of validation data, get predictions\n",
    "predictions = xgb.predict(X_valid)\n",
    "print('Accuracy:', accuracy_score(y_valid, predictions))\n",
    "print('CR:', classification_report(y_valid, predictions))\n",
    "print('CM:',confusion_matrix(y_valid, predictions))\n",
    "\n",
    "res = pd.DataFrame({'Model': ['XGB'],\n",
    "                    'Accuracy Score': [accuracy_score(y_valid, predictions)]})\n",
    "Results = Results.append(res)"
   ]
  },
  {
   "cell_type": "markdown",
   "id": "surprised-fellowship",
   "metadata": {
    "papermill": {
     "duration": 0.137756,
     "end_time": "2021-05-29T05:25:45.635850",
     "exception": false,
     "start_time": "2021-05-29T05:25:45.498094",
     "status": "completed"
    },
    "tags": []
   },
   "source": [
    "# Results"
   ]
  },
  {
   "cell_type": "code",
   "execution_count": 89,
   "id": "danish-wilson",
   "metadata": {
    "execution": {
     "iopub.execute_input": "2021-05-29T05:25:45.909565Z",
     "iopub.status.busy": "2021-05-29T05:25:45.908909Z",
     "iopub.status.idle": "2021-05-29T05:25:45.921143Z",
     "shell.execute_reply": "2021-05-29T05:25:45.921663Z",
     "shell.execute_reply.started": "2021-05-29T05:16:09.163541Z"
    },
    "papermill": {
     "duration": 0.137103,
     "end_time": "2021-05-29T05:25:45.921840",
     "exception": false,
     "start_time": "2021-05-29T05:25:45.784737",
     "status": "completed"
    },
    "tags": []
   },
   "outputs": [
    {
     "data": {
      "text/html": [
       "<div>\n",
       "<style scoped>\n",
       "    .dataframe tbody tr th:only-of-type {\n",
       "        vertical-align: middle;\n",
       "    }\n",
       "\n",
       "    .dataframe tbody tr th {\n",
       "        vertical-align: top;\n",
       "    }\n",
       "\n",
       "    .dataframe thead th {\n",
       "        text-align: right;\n",
       "    }\n",
       "</style>\n",
       "<table border=\"1\" class=\"dataframe\">\n",
       "  <thead>\n",
       "    <tr style=\"text-align: right;\">\n",
       "      <th></th>\n",
       "      <th>Model</th>\n",
       "      <th>Accuracy Score</th>\n",
       "    </tr>\n",
       "  </thead>\n",
       "  <tbody>\n",
       "    <tr>\n",
       "      <th>0</th>\n",
       "      <td>LogisticRegression</td>\n",
       "      <td>0.771479</td>\n",
       "    </tr>\n",
       "    <tr>\n",
       "      <th>0</th>\n",
       "      <td>DecisionTree</td>\n",
       "      <td>0.796033</td>\n",
       "    </tr>\n",
       "    <tr>\n",
       "      <th>0</th>\n",
       "      <td>RandomForest</td>\n",
       "      <td>0.801027</td>\n",
       "    </tr>\n",
       "    <tr>\n",
       "      <th>0</th>\n",
       "      <td>KNN</td>\n",
       "      <td>0.804541</td>\n",
       "    </tr>\n",
       "    <tr>\n",
       "      <th>0</th>\n",
       "      <td>SVM</td>\n",
       "      <td>0.757005</td>\n",
       "    </tr>\n",
       "    <tr>\n",
       "      <th>0</th>\n",
       "      <td>XGB</td>\n",
       "      <td>0.830343</td>\n",
       "    </tr>\n",
       "  </tbody>\n",
       "</table>\n",
       "</div>"
      ],
      "text/plain": [
       "                Model  Accuracy Score\n",
       "0  LogisticRegression        0.771479\n",
       "0        DecisionTree        0.796033\n",
       "0        RandomForest        0.801027\n",
       "0                 KNN        0.804541\n",
       "0                 SVM        0.757005\n",
       "0                 XGB        0.830343"
      ]
     },
     "execution_count": 89,
     "metadata": {},
     "output_type": "execute_result"
    }
   ],
   "source": [
    "Results"
   ]
  },
  {
   "cell_type": "markdown",
   "id": "twelve-effort",
   "metadata": {
    "papermill": {
     "duration": 0.123919,
     "end_time": "2021-05-29T05:25:46.169115",
     "exception": false,
     "start_time": "2021-05-29T05:25:46.045196",
     "status": "completed"
    },
    "tags": []
   },
   "source": [
    "References:\n",
    "1. https://www.kaggle.com/phuongpm/kickstarter-funding\n",
    "2. https://www.kaggle.com/tkkanno/what-goal-should-i-set-for-my-kickstarter"
   ]
  }
 ],
 "metadata": {
  "kernelspec": {
   "display_name": "Python 3",
   "language": "python",
   "name": "python3"
  },
  "language_info": {
   "codemirror_mode": {
    "name": "ipython",
    "version": 3
   },
   "file_extension": ".py",
   "mimetype": "text/x-python",
   "name": "python",
   "nbconvert_exporter": "python",
   "pygments_lexer": "ipython3",
   "version": "3.7.10"
  },
  "papermill": {
   "default_parameters": {},
   "duration": 518.034319,
   "end_time": "2021-05-29T05:25:47.401361",
   "environment_variables": {},
   "exception": null,
   "input_path": "__notebook__.ipynb",
   "output_path": "__notebook__.ipynb",
   "parameters": {},
   "start_time": "2021-05-29T05:17:09.367042",
   "version": "2.3.3"
  }
 },
 "nbformat": 4,
 "nbformat_minor": 5
}
